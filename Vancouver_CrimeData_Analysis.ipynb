{
  "cells": [
    {
      "cell_type": "code",
      "execution_count": 1,
      "metadata": {
        "id": "NcK1E602fjpk"
      },
      "outputs": [],
      "source": [
        "import numpy as np # linear algebra\n",
        "import pandas as pd # data processing, CSV file I/O (e.g. pd.read_csv)\n",
        "import matplotlib.pyplot as plt\n",
        "import seaborn as sns\n",
        "import plotly.express as px\n",
        "import warnings\n",
        "warnings.filterwarnings(\"ignore\")"
      ]
    },
    {
      "cell_type": "code",
      "execution_count": 2,
      "metadata": {
        "id": "RuT3kAwmfjpl"
      },
      "outputs": [],
      "source": [
        "crime_data = pd.read_csv(\"/Users/stark/Downloads/crimedata_csv_AllNeighbourhoods_AllYears 2.csv\")"
      ]
    },
    {
      "cell_type": "markdown",
      "metadata": {
        "id": "5HS9Wj9jmI_I"
      },
      "source": [
        "- The Vancouver BC Crime Dataset on Kaggle covers criminal incidents reported between January 2010 and December 2015.\n",
        "\n",
        "- It comprises 222,358 entries with 20 attributes detailing crime types, locations (longitude and latitude), dates, and times.\n",
        "\n",
        "- Users can analyze trends in theft, assault, vandalism, and drug offenses.\n",
        "\n",
        "- The dataset facilitates temporal and spatial analyses, aiding researchers, policymakers, and data enthusiasts in understanding crime patterns and informing public safety strategies.\n"
      ]
    },
    {
      "cell_type": "code",
      "execution_count": 3,
      "metadata": {
        "id": "3g9MzOZvfjpl",
        "outputId": "019e92db-f559-496a-e2c4-4a96cbb4c70f"
      },
      "outputs": [
        {
          "data": {
            "text/html": [
              "<div>\n",
              "<style scoped>\n",
              "    .dataframe tbody tr th:only-of-type {\n",
              "        vertical-align: middle;\n",
              "    }\n",
              "\n",
              "    .dataframe tbody tr th {\n",
              "        vertical-align: top;\n",
              "    }\n",
              "\n",
              "    .dataframe thead th {\n",
              "        text-align: right;\n",
              "    }\n",
              "</style>\n",
              "<table border=\"1\" class=\"dataframe\">\n",
              "  <thead>\n",
              "    <tr style=\"text-align: right;\">\n",
              "      <th></th>\n",
              "      <th>TYPE</th>\n",
              "      <th>YEAR</th>\n",
              "      <th>MONTH</th>\n",
              "      <th>DAY</th>\n",
              "      <th>HOUR</th>\n",
              "      <th>MINUTE</th>\n",
              "      <th>HUNDRED_BLOCK</th>\n",
              "      <th>NEIGHBOURHOOD</th>\n",
              "      <th>X</th>\n",
              "      <th>Y</th>\n",
              "    </tr>\n",
              "  </thead>\n",
              "  <tbody>\n",
              "    <tr>\n",
              "      <th>0</th>\n",
              "      <td>Break and Enter Commercial</td>\n",
              "      <td>2012</td>\n",
              "      <td>12</td>\n",
              "      <td>14</td>\n",
              "      <td>8</td>\n",
              "      <td>52</td>\n",
              "      <td>NaN</td>\n",
              "      <td>Oakridge</td>\n",
              "      <td>491285.0000</td>\n",
              "      <td>5.453433e+06</td>\n",
              "    </tr>\n",
              "    <tr>\n",
              "      <th>1</th>\n",
              "      <td>Break and Enter Commercial</td>\n",
              "      <td>2019</td>\n",
              "      <td>3</td>\n",
              "      <td>7</td>\n",
              "      <td>2</td>\n",
              "      <td>6</td>\n",
              "      <td>10XX SITKA SQ</td>\n",
              "      <td>Fairview</td>\n",
              "      <td>490612.9648</td>\n",
              "      <td>5.457110e+06</td>\n",
              "    </tr>\n",
              "    <tr>\n",
              "      <th>2</th>\n",
              "      <td>Break and Enter Commercial</td>\n",
              "      <td>2019</td>\n",
              "      <td>8</td>\n",
              "      <td>27</td>\n",
              "      <td>4</td>\n",
              "      <td>12</td>\n",
              "      <td>10XX ALBERNI ST</td>\n",
              "      <td>West End</td>\n",
              "      <td>491004.8164</td>\n",
              "      <td>5.459177e+06</td>\n",
              "    </tr>\n",
              "    <tr>\n",
              "      <th>3</th>\n",
              "      <td>Break and Enter Commercial</td>\n",
              "      <td>2021</td>\n",
              "      <td>4</td>\n",
              "      <td>26</td>\n",
              "      <td>4</td>\n",
              "      <td>44</td>\n",
              "      <td>10XX ALBERNI ST</td>\n",
              "      <td>West End</td>\n",
              "      <td>491007.7798</td>\n",
              "      <td>5.459174e+06</td>\n",
              "    </tr>\n",
              "    <tr>\n",
              "      <th>4</th>\n",
              "      <td>Break and Enter Commercial</td>\n",
              "      <td>2014</td>\n",
              "      <td>8</td>\n",
              "      <td>8</td>\n",
              "      <td>5</td>\n",
              "      <td>13</td>\n",
              "      <td>10XX ALBERNI ST</td>\n",
              "      <td>West End</td>\n",
              "      <td>491015.9434</td>\n",
              "      <td>5.459166e+06</td>\n",
              "    </tr>\n",
              "  </tbody>\n",
              "</table>\n",
              "</div>"
            ],
            "text/plain": [
              "                         TYPE  YEAR  MONTH  DAY  HOUR  MINUTE  \\\n",
              "0  Break and Enter Commercial  2012     12   14     8      52   \n",
              "1  Break and Enter Commercial  2019      3    7     2       6   \n",
              "2  Break and Enter Commercial  2019      8   27     4      12   \n",
              "3  Break and Enter Commercial  2021      4   26     4      44   \n",
              "4  Break and Enter Commercial  2014      8    8     5      13   \n",
              "\n",
              "     HUNDRED_BLOCK NEIGHBOURHOOD            X             Y  \n",
              "0              NaN      Oakridge  491285.0000  5.453433e+06  \n",
              "1    10XX SITKA SQ      Fairview  490612.9648  5.457110e+06  \n",
              "2  10XX ALBERNI ST      West End  491004.8164  5.459177e+06  \n",
              "3  10XX ALBERNI ST      West End  491007.7798  5.459174e+06  \n",
              "4  10XX ALBERNI ST      West End  491015.9434  5.459166e+06  "
            ]
          },
          "execution_count": 3,
          "metadata": {},
          "output_type": "execute_result"
        }
      ],
      "source": [
        "crime_data.head()"
      ]
    },
    {
      "cell_type": "code",
      "execution_count": 4,
      "metadata": {
        "id": "2szsLYuCfjpm",
        "outputId": "82e7fb87-8784-48cc-a0cd-e0c20f8d8591"
      },
      "outputs": [
        {
          "name": "stdout",
          "output_type": "stream",
          "text": [
            "<class 'pandas.core.frame.DataFrame'>\n",
            "RangeIndex: 881242 entries, 0 to 881241\n",
            "Data columns (total 10 columns):\n",
            " #   Column         Non-Null Count   Dtype  \n",
            "---  ------         --------------   -----  \n",
            " 0   TYPE           881242 non-null  object \n",
            " 1   YEAR           881242 non-null  int64  \n",
            " 2   MONTH          881242 non-null  int64  \n",
            " 3   DAY            881242 non-null  int64  \n",
            " 4   HOUR           881242 non-null  int64  \n",
            " 5   MINUTE         881242 non-null  int64  \n",
            " 6   HUNDRED_BLOCK  881230 non-null  object \n",
            " 7   NEIGHBOURHOOD  881099 non-null  object \n",
            " 8   X              881167 non-null  float64\n",
            " 9   Y              881167 non-null  float64\n",
            "dtypes: float64(2), int64(5), object(3)\n",
            "memory usage: 67.2+ MB\n"
          ]
        }
      ],
      "source": [
        "crime_data.info()"
      ]
    },
    {
      "cell_type": "code",
      "execution_count": 5,
      "metadata": {
        "id": "_iUnknSmfjpm",
        "outputId": "8635492f-e2d1-4be7-a459-48824d9e2bcd"
      },
      "outputs": [
        {
          "name": "stdout",
          "output_type": "stream",
          "text": [
            "TYPE             0.000000\n",
            "YEAR             0.000000\n",
            "MONTH            0.000000\n",
            "DAY              0.000000\n",
            "HOUR             0.000000\n",
            "MINUTE           0.000000\n",
            "HUNDRED_BLOCK    0.001362\n",
            "NEIGHBOURHOOD    0.016227\n",
            "X                0.008511\n",
            "Y                0.008511\n",
            "dtype: float64\n"
          ]
        }
      ],
      "source": [
        "with pd.option_context('display.max_rows', None, 'display.max_columns', None):\n",
        "    print(100*crime_data.isnull().sum()/len(crime_data)) #Printing the missing percentage for each column.\n"
      ]
    },
    {
      "cell_type": "markdown",
      "metadata": {},
      "source": [
        "The display function from pandas is used to display maximum columns and rows from the dataset, and used to if there are any nulls present in the dataset using the isnull() function."
      ]
    },
    {
      "cell_type": "code",
      "execution_count": 6,
      "metadata": {
        "id": "5j-o8XOBfjpm",
        "outputId": "73d6cab2-0634-4b65-d912-6d382e92cc8c"
      },
      "outputs": [
        {
          "data": {
            "text/html": [
              "<div>\n",
              "<style scoped>\n",
              "    .dataframe tbody tr th:only-of-type {\n",
              "        vertical-align: middle;\n",
              "    }\n",
              "\n",
              "    .dataframe tbody tr th {\n",
              "        vertical-align: top;\n",
              "    }\n",
              "\n",
              "    .dataframe thead th {\n",
              "        text-align: right;\n",
              "    }\n",
              "</style>\n",
              "<table border=\"1\" class=\"dataframe\">\n",
              "  <thead>\n",
              "    <tr style=\"text-align: right;\">\n",
              "      <th></th>\n",
              "      <th>type</th>\n",
              "      <th>year</th>\n",
              "      <th>month</th>\n",
              "      <th>day</th>\n",
              "      <th>hour</th>\n",
              "      <th>minute</th>\n",
              "      <th>hundred_block</th>\n",
              "      <th>neighbourhood</th>\n",
              "      <th>x</th>\n",
              "      <th>y</th>\n",
              "    </tr>\n",
              "  </thead>\n",
              "  <tbody>\n",
              "    <tr>\n",
              "      <th>0</th>\n",
              "      <td>Break and Enter Commercial</td>\n",
              "      <td>2012</td>\n",
              "      <td>12</td>\n",
              "      <td>14</td>\n",
              "      <td>8</td>\n",
              "      <td>52</td>\n",
              "      <td>NaN</td>\n",
              "      <td>Oakridge</td>\n",
              "      <td>491285.0000</td>\n",
              "      <td>5.453433e+06</td>\n",
              "    </tr>\n",
              "    <tr>\n",
              "      <th>1</th>\n",
              "      <td>Break and Enter Commercial</td>\n",
              "      <td>2019</td>\n",
              "      <td>3</td>\n",
              "      <td>7</td>\n",
              "      <td>2</td>\n",
              "      <td>6</td>\n",
              "      <td>SITKA SQ</td>\n",
              "      <td>Fairview</td>\n",
              "      <td>490612.9648</td>\n",
              "      <td>5.457110e+06</td>\n",
              "    </tr>\n",
              "    <tr>\n",
              "      <th>2</th>\n",
              "      <td>Break and Enter Commercial</td>\n",
              "      <td>2019</td>\n",
              "      <td>8</td>\n",
              "      <td>27</td>\n",
              "      <td>4</td>\n",
              "      <td>12</td>\n",
              "      <td>ALBERNI ST</td>\n",
              "      <td>West End</td>\n",
              "      <td>491004.8164</td>\n",
              "      <td>5.459177e+06</td>\n",
              "    </tr>\n",
              "    <tr>\n",
              "      <th>3</th>\n",
              "      <td>Break and Enter Commercial</td>\n",
              "      <td>2021</td>\n",
              "      <td>4</td>\n",
              "      <td>26</td>\n",
              "      <td>4</td>\n",
              "      <td>44</td>\n",
              "      <td>ALBERNI ST</td>\n",
              "      <td>West End</td>\n",
              "      <td>491007.7798</td>\n",
              "      <td>5.459174e+06</td>\n",
              "    </tr>\n",
              "    <tr>\n",
              "      <th>4</th>\n",
              "      <td>Break and Enter Commercial</td>\n",
              "      <td>2014</td>\n",
              "      <td>8</td>\n",
              "      <td>8</td>\n",
              "      <td>5</td>\n",
              "      <td>13</td>\n",
              "      <td>ALBERNI ST</td>\n",
              "      <td>West End</td>\n",
              "      <td>491015.9434</td>\n",
              "      <td>5.459166e+06</td>\n",
              "    </tr>\n",
              "  </tbody>\n",
              "</table>\n",
              "</div>"
            ],
            "text/plain": [
              "                         type  year  month  day  hour  minute hundred_block  \\\n",
              "0  Break and Enter Commercial  2012     12   14     8      52           NaN   \n",
              "1  Break and Enter Commercial  2019      3    7     2       6      SITKA SQ   \n",
              "2  Break and Enter Commercial  2019      8   27     4      12    ALBERNI ST   \n",
              "3  Break and Enter Commercial  2021      4   26     4      44    ALBERNI ST   \n",
              "4  Break and Enter Commercial  2014      8    8     5      13    ALBERNI ST   \n",
              "\n",
              "  neighbourhood            x             y  \n",
              "0      Oakridge  491285.0000  5.453433e+06  \n",
              "1      Fairview  490612.9648  5.457110e+06  \n",
              "2      West End  491004.8164  5.459177e+06  \n",
              "3      West End  491007.7798  5.459174e+06  \n",
              "4      West End  491015.9434  5.459166e+06  "
            ]
          },
          "execution_count": 6,
          "metadata": {},
          "output_type": "execute_result"
        }
      ],
      "source": [
        "crime_data.columns = crime_data.columns.str.lower()\n",
        "crime_data.columns\n",
        "crime_data['hundred_block'] = crime_data['hundred_block'].str.replace('\\d+XX', '', regex=True)\n",
        "crime_data.head()"
      ]
    },
    {
      "cell_type": "markdown",
      "metadata": {},
      "source": [
        "* Basic data cleaning process  is followed to fix the column names by changing them to lower case by using the str.lower() function. \n",
        "* In the next step, we have 10XX in the hundred block column, this is removed using the str.replace()  with '' in front of each street names."
      ]
    },
    {
      "cell_type": "code",
      "execution_count": 7,
      "metadata": {
        "id": "5kdpCYfnfjpm",
        "outputId": "c4ae250a-f48d-416c-ebf6-1ec280272793",
        "scrolled": false
      },
      "outputs": [
        {
          "data": {
            "text/html": [
              "<div>\n",
              "<style scoped>\n",
              "    .dataframe tbody tr th:only-of-type {\n",
              "        vertical-align: middle;\n",
              "    }\n",
              "\n",
              "    .dataframe tbody tr th {\n",
              "        vertical-align: top;\n",
              "    }\n",
              "\n",
              "    .dataframe thead th {\n",
              "        text-align: right;\n",
              "    }\n",
              "</style>\n",
              "<table border=\"1\" class=\"dataframe\">\n",
              "  <thead>\n",
              "    <tr style=\"text-align: right;\">\n",
              "      <th></th>\n",
              "      <th>type</th>\n",
              "      <th>year</th>\n",
              "      <th>month</th>\n",
              "      <th>day</th>\n",
              "      <th>hour</th>\n",
              "      <th>minute</th>\n",
              "      <th>hundred_block</th>\n",
              "      <th>neighbourhood</th>\n",
              "      <th>x</th>\n",
              "      <th>y</th>\n",
              "    </tr>\n",
              "  </thead>\n",
              "  <tbody>\n",
              "    <tr>\n",
              "      <th>0</th>\n",
              "      <td>Break and Enter Commercial</td>\n",
              "      <td>2012</td>\n",
              "      <td>12</td>\n",
              "      <td>14</td>\n",
              "      <td>8</td>\n",
              "      <td>52</td>\n",
              "      <td>NaN</td>\n",
              "      <td>Oakridge</td>\n",
              "      <td>491285.0</td>\n",
              "      <td>5453433.0</td>\n",
              "    </tr>\n",
              "    <tr>\n",
              "      <th>47908</th>\n",
              "      <td>Break and Enter Residential/Other</td>\n",
              "      <td>2004</td>\n",
              "      <td>5</td>\n",
              "      <td>13</td>\n",
              "      <td>9</td>\n",
              "      <td>0</td>\n",
              "      <td>NaN</td>\n",
              "      <td>Mount Pleasant</td>\n",
              "      <td>492807.0</td>\n",
              "      <td>5457236.0</td>\n",
              "    </tr>\n",
              "    <tr>\n",
              "      <th>47909</th>\n",
              "      <td>Break and Enter Residential/Other</td>\n",
              "      <td>2006</td>\n",
              "      <td>6</td>\n",
              "      <td>21</td>\n",
              "      <td>4</td>\n",
              "      <td>0</td>\n",
              "      <td>NaN</td>\n",
              "      <td>Oakridge</td>\n",
              "      <td>491854.0</td>\n",
              "      <td>5452682.0</td>\n",
              "    </tr>\n",
              "    <tr>\n",
              "      <th>120528</th>\n",
              "      <td>Homicide</td>\n",
              "      <td>2018</td>\n",
              "      <td>4</td>\n",
              "      <td>26</td>\n",
              "      <td>0</td>\n",
              "      <td>0</td>\n",
              "      <td>OFFSET TO PROTECT PRIVACY</td>\n",
              "      <td>NaN</td>\n",
              "      <td>0.0</td>\n",
              "      <td>0.0</td>\n",
              "    </tr>\n",
              "    <tr>\n",
              "      <th>120805</th>\n",
              "      <td>Homicide</td>\n",
              "      <td>2016</td>\n",
              "      <td>3</td>\n",
              "      <td>10</td>\n",
              "      <td>0</td>\n",
              "      <td>0</td>\n",
              "      <td>OFFSET TO PROTECT PRIVACY</td>\n",
              "      <td>NaN</td>\n",
              "      <td>0.0</td>\n",
              "      <td>0.0</td>\n",
              "    </tr>\n",
              "    <tr>\n",
              "      <th>...</th>\n",
              "      <td>...</td>\n",
              "      <td>...</td>\n",
              "      <td>...</td>\n",
              "      <td>...</td>\n",
              "      <td>...</td>\n",
              "      <td>...</td>\n",
              "      <td>...</td>\n",
              "      <td>...</td>\n",
              "      <td>...</td>\n",
              "      <td>...</td>\n",
              "    </tr>\n",
              "    <tr>\n",
              "      <th>876246</th>\n",
              "      <td>Vehicle Collision or Pedestrian Struck (with I...</td>\n",
              "      <td>2004</td>\n",
              "      <td>11</td>\n",
              "      <td>7</td>\n",
              "      <td>3</td>\n",
              "      <td>18</td>\n",
              "      <td>TRANS CANADA HWY / E 1ST AV</td>\n",
              "      <td>NaN</td>\n",
              "      <td>NaN</td>\n",
              "      <td>NaN</td>\n",
              "    </tr>\n",
              "    <tr>\n",
              "      <th>876308</th>\n",
              "      <td>Vehicle Collision or Pedestrian Struck (with I...</td>\n",
              "      <td>2006</td>\n",
              "      <td>2</td>\n",
              "      <td>23</td>\n",
              "      <td>16</td>\n",
              "      <td>17</td>\n",
              "      <td>TURNER ST / KAMLOOPS ST</td>\n",
              "      <td>NaN</td>\n",
              "      <td>NaN</td>\n",
              "      <td>NaN</td>\n",
              "    </tr>\n",
              "    <tr>\n",
              "      <th>876802</th>\n",
              "      <td>Vehicle Collision or Pedestrian Struck (with I...</td>\n",
              "      <td>2003</td>\n",
              "      <td>10</td>\n",
              "      <td>22</td>\n",
              "      <td>14</td>\n",
              "      <td>50</td>\n",
              "      <td>VICTORIA DR / FINDLAY ST</td>\n",
              "      <td>NaN</td>\n",
              "      <td>NaN</td>\n",
              "      <td>NaN</td>\n",
              "    </tr>\n",
              "    <tr>\n",
              "      <th>877558</th>\n",
              "      <td>Vehicle Collision or Pedestrian Struck (with I...</td>\n",
              "      <td>2023</td>\n",
              "      <td>10</td>\n",
              "      <td>12</td>\n",
              "      <td>10</td>\n",
              "      <td>53</td>\n",
              "      <td>W 16TH AVE / HIGHBURY ST</td>\n",
              "      <td>NaN</td>\n",
              "      <td>NaN</td>\n",
              "      <td>NaN</td>\n",
              "    </tr>\n",
              "    <tr>\n",
              "      <th>880711</th>\n",
              "      <td>Vehicle Collision or Pedestrian Struck (with I...</td>\n",
              "      <td>2003</td>\n",
              "      <td>6</td>\n",
              "      <td>2</td>\n",
              "      <td>17</td>\n",
              "      <td>0</td>\n",
              "      <td>WESTVIEW OVERPASS AT #1 HWY EASTBOUND</td>\n",
              "      <td>NaN</td>\n",
              "      <td>NaN</td>\n",
              "      <td>NaN</td>\n",
              "    </tr>\n",
              "  </tbody>\n",
              "</table>\n",
              "<p>155 rows × 10 columns</p>\n",
              "</div>"
            ],
            "text/plain": [
              "                                                     type  year  month  day  \\\n",
              "0                              Break and Enter Commercial  2012     12   14   \n",
              "47908                   Break and Enter Residential/Other  2004      5   13   \n",
              "47909                   Break and Enter Residential/Other  2006      6   21   \n",
              "120528                                           Homicide  2018      4   26   \n",
              "120805                                           Homicide  2016      3   10   \n",
              "...                                                   ...   ...    ...  ...   \n",
              "876246  Vehicle Collision or Pedestrian Struck (with I...  2004     11    7   \n",
              "876308  Vehicle Collision or Pedestrian Struck (with I...  2006      2   23   \n",
              "876802  Vehicle Collision or Pedestrian Struck (with I...  2003     10   22   \n",
              "877558  Vehicle Collision or Pedestrian Struck (with I...  2023     10   12   \n",
              "880711  Vehicle Collision or Pedestrian Struck (with I...  2003      6    2   \n",
              "\n",
              "        hour  minute                          hundred_block   neighbourhood  \\\n",
              "0          8      52                                    NaN        Oakridge   \n",
              "47908      9       0                                    NaN  Mount Pleasant   \n",
              "47909      4       0                                    NaN        Oakridge   \n",
              "120528     0       0              OFFSET TO PROTECT PRIVACY             NaN   \n",
              "120805     0       0              OFFSET TO PROTECT PRIVACY             NaN   \n",
              "...      ...     ...                                    ...             ...   \n",
              "876246     3      18            TRANS CANADA HWY / E 1ST AV             NaN   \n",
              "876308    16      17                TURNER ST / KAMLOOPS ST             NaN   \n",
              "876802    14      50               VICTORIA DR / FINDLAY ST             NaN   \n",
              "877558    10      53               W 16TH AVE / HIGHBURY ST             NaN   \n",
              "880711    17       0  WESTVIEW OVERPASS AT #1 HWY EASTBOUND             NaN   \n",
              "\n",
              "               x          y  \n",
              "0       491285.0  5453433.0  \n",
              "47908   492807.0  5457236.0  \n",
              "47909   491854.0  5452682.0  \n",
              "120528       0.0        0.0  \n",
              "120805       0.0        0.0  \n",
              "...          ...        ...  \n",
              "876246       NaN        NaN  \n",
              "876308       NaN        NaN  \n",
              "876802       NaN        NaN  \n",
              "877558       NaN        NaN  \n",
              "880711       NaN        NaN  \n",
              "\n",
              "[155 rows x 10 columns]"
            ]
          },
          "execution_count": 7,
          "metadata": {},
          "output_type": "execute_result"
        }
      ],
      "source": [
        "nxy_empty = crime_data[crime_data[['hundred_block','neighbourhood', 'x', 'y']].isnull().any(axis=1)]\n",
        "len(nxy_empty)\n",
        "\n",
        "nxy_empty"
      ]
    },
    {
      "cell_type": "markdown",
      "metadata": {},
      "source": [
        "This line of code return any null values present in columns hundred_block , neighbourhood, x and y by row wise."
      ]
    },
    {
      "cell_type": "code",
      "execution_count": 8,
      "metadata": {
        "id": "VGhbkajNfjpn",
        "outputId": "697ee70e-cd18-4a79-c845-ee18a21a4080",
        "scrolled": false
      },
      "outputs": [
        {
          "data": {
            "text/html": [
              "<div>\n",
              "<style scoped>\n",
              "    .dataframe tbody tr th:only-of-type {\n",
              "        vertical-align: middle;\n",
              "    }\n",
              "\n",
              "    .dataframe tbody tr th {\n",
              "        vertical-align: top;\n",
              "    }\n",
              "\n",
              "    .dataframe thead th {\n",
              "        text-align: right;\n",
              "    }\n",
              "</style>\n",
              "<table border=\"1\" class=\"dataframe\">\n",
              "  <thead>\n",
              "    <tr style=\"text-align: right;\">\n",
              "      <th></th>\n",
              "      <th>type</th>\n",
              "      <th>year</th>\n",
              "      <th>month</th>\n",
              "      <th>day</th>\n",
              "      <th>hour</th>\n",
              "      <th>minute</th>\n",
              "      <th>hundred_block</th>\n",
              "      <th>neighbourhood</th>\n",
              "      <th>x</th>\n",
              "      <th>y</th>\n",
              "    </tr>\n",
              "  </thead>\n",
              "  <tbody>\n",
              "    <tr>\n",
              "      <th>1</th>\n",
              "      <td>Break and Enter Commercial</td>\n",
              "      <td>2019</td>\n",
              "      <td>3</td>\n",
              "      <td>7</td>\n",
              "      <td>2</td>\n",
              "      <td>6</td>\n",
              "      <td>SITKA SQ</td>\n",
              "      <td>Fairview</td>\n",
              "      <td>490612.9648</td>\n",
              "      <td>5.457110e+06</td>\n",
              "    </tr>\n",
              "    <tr>\n",
              "      <th>2</th>\n",
              "      <td>Break and Enter Commercial</td>\n",
              "      <td>2019</td>\n",
              "      <td>8</td>\n",
              "      <td>27</td>\n",
              "      <td>4</td>\n",
              "      <td>12</td>\n",
              "      <td>ALBERNI ST</td>\n",
              "      <td>West End</td>\n",
              "      <td>491004.8164</td>\n",
              "      <td>5.459177e+06</td>\n",
              "    </tr>\n",
              "    <tr>\n",
              "      <th>3</th>\n",
              "      <td>Break and Enter Commercial</td>\n",
              "      <td>2021</td>\n",
              "      <td>4</td>\n",
              "      <td>26</td>\n",
              "      <td>4</td>\n",
              "      <td>44</td>\n",
              "      <td>ALBERNI ST</td>\n",
              "      <td>West End</td>\n",
              "      <td>491007.7798</td>\n",
              "      <td>5.459174e+06</td>\n",
              "    </tr>\n",
              "    <tr>\n",
              "      <th>4</th>\n",
              "      <td>Break and Enter Commercial</td>\n",
              "      <td>2014</td>\n",
              "      <td>8</td>\n",
              "      <td>8</td>\n",
              "      <td>5</td>\n",
              "      <td>13</td>\n",
              "      <td>ALBERNI ST</td>\n",
              "      <td>West End</td>\n",
              "      <td>491015.9434</td>\n",
              "      <td>5.459166e+06</td>\n",
              "    </tr>\n",
              "    <tr>\n",
              "      <th>5</th>\n",
              "      <td>Break and Enter Commercial</td>\n",
              "      <td>2020</td>\n",
              "      <td>7</td>\n",
              "      <td>28</td>\n",
              "      <td>19</td>\n",
              "      <td>12</td>\n",
              "      <td>ALBERNI ST</td>\n",
              "      <td>West End</td>\n",
              "      <td>491015.9434</td>\n",
              "      <td>5.459166e+06</td>\n",
              "    </tr>\n",
              "    <tr>\n",
              "      <th>...</th>\n",
              "      <td>...</td>\n",
              "      <td>...</td>\n",
              "      <td>...</td>\n",
              "      <td>...</td>\n",
              "      <td>...</td>\n",
              "      <td>...</td>\n",
              "      <td>...</td>\n",
              "      <td>...</td>\n",
              "      <td>...</td>\n",
              "      <td>...</td>\n",
              "    </tr>\n",
              "    <tr>\n",
              "      <th>881237</th>\n",
              "      <td>Vehicle Collision or Pedestrian Struck (with I...</td>\n",
              "      <td>2003</td>\n",
              "      <td>9</td>\n",
              "      <td>1</td>\n",
              "      <td>20</td>\n",
              "      <td>45</td>\n",
              "      <td>YUKON ST / W KING EDWARD AVE</td>\n",
              "      <td>Riley Park</td>\n",
              "      <td>491786.0000</td>\n",
              "      <td>5.455143e+06</td>\n",
              "    </tr>\n",
              "    <tr>\n",
              "      <th>881238</th>\n",
              "      <td>Vehicle Collision or Pedestrian Struck (with I...</td>\n",
              "      <td>2005</td>\n",
              "      <td>7</td>\n",
              "      <td>20</td>\n",
              "      <td>18</td>\n",
              "      <td>57</td>\n",
              "      <td>YUKON ST / W KING EDWARD AVE</td>\n",
              "      <td>Riley Park</td>\n",
              "      <td>491786.0000</td>\n",
              "      <td>5.455143e+06</td>\n",
              "    </tr>\n",
              "    <tr>\n",
              "      <th>881239</th>\n",
              "      <td>Vehicle Collision or Pedestrian Struck (with I...</td>\n",
              "      <td>2016</td>\n",
              "      <td>6</td>\n",
              "      <td>20</td>\n",
              "      <td>18</td>\n",
              "      <td>11</td>\n",
              "      <td>YUKON ST / W KING EDWARD AVE</td>\n",
              "      <td>Riley Park</td>\n",
              "      <td>491786.0000</td>\n",
              "      <td>5.455143e+06</td>\n",
              "    </tr>\n",
              "    <tr>\n",
              "      <th>881240</th>\n",
              "      <td>Vehicle Collision or Pedestrian Struck (with I...</td>\n",
              "      <td>2013</td>\n",
              "      <td>12</td>\n",
              "      <td>3</td>\n",
              "      <td>9</td>\n",
              "      <td>49</td>\n",
              "      <td>YUKON ST / W KING EDWARD AVE</td>\n",
              "      <td>Riley Park</td>\n",
              "      <td>491835.0000</td>\n",
              "      <td>5.455126e+06</td>\n",
              "    </tr>\n",
              "    <tr>\n",
              "      <th>881241</th>\n",
              "      <td>Vehicle Collision or Pedestrian Struck (with I...</td>\n",
              "      <td>2013</td>\n",
              "      <td>12</td>\n",
              "      <td>27</td>\n",
              "      <td>14</td>\n",
              "      <td>40</td>\n",
              "      <td>YUKON ST / W KING EDWARD AVE</td>\n",
              "      <td>Riley Park</td>\n",
              "      <td>491835.0000</td>\n",
              "      <td>5.455126e+06</td>\n",
              "    </tr>\n",
              "  </tbody>\n",
              "</table>\n",
              "<p>881087 rows × 10 columns</p>\n",
              "</div>"
            ],
            "text/plain": [
              "                                                     type  year  month  day  \\\n",
              "1                              Break and Enter Commercial  2019      3    7   \n",
              "2                              Break and Enter Commercial  2019      8   27   \n",
              "3                              Break and Enter Commercial  2021      4   26   \n",
              "4                              Break and Enter Commercial  2014      8    8   \n",
              "5                              Break and Enter Commercial  2020      7   28   \n",
              "...                                                   ...   ...    ...  ...   \n",
              "881237  Vehicle Collision or Pedestrian Struck (with I...  2003      9    1   \n",
              "881238  Vehicle Collision or Pedestrian Struck (with I...  2005      7   20   \n",
              "881239  Vehicle Collision or Pedestrian Struck (with I...  2016      6   20   \n",
              "881240  Vehicle Collision or Pedestrian Struck (with I...  2013     12    3   \n",
              "881241  Vehicle Collision or Pedestrian Struck (with I...  2013     12   27   \n",
              "\n",
              "        hour  minute                 hundred_block neighbourhood            x  \\\n",
              "1          2       6                      SITKA SQ      Fairview  490612.9648   \n",
              "2          4      12                    ALBERNI ST      West End  491004.8164   \n",
              "3          4      44                    ALBERNI ST      West End  491007.7798   \n",
              "4          5      13                    ALBERNI ST      West End  491015.9434   \n",
              "5         19      12                    ALBERNI ST      West End  491015.9434   \n",
              "...      ...     ...                           ...           ...          ...   \n",
              "881237    20      45  YUKON ST / W KING EDWARD AVE    Riley Park  491786.0000   \n",
              "881238    18      57  YUKON ST / W KING EDWARD AVE    Riley Park  491786.0000   \n",
              "881239    18      11  YUKON ST / W KING EDWARD AVE    Riley Park  491786.0000   \n",
              "881240     9      49  YUKON ST / W KING EDWARD AVE    Riley Park  491835.0000   \n",
              "881241    14      40  YUKON ST / W KING EDWARD AVE    Riley Park  491835.0000   \n",
              "\n",
              "                   y  \n",
              "1       5.457110e+06  \n",
              "2       5.459177e+06  \n",
              "3       5.459174e+06  \n",
              "4       5.459166e+06  \n",
              "5       5.459166e+06  \n",
              "...              ...  \n",
              "881237  5.455143e+06  \n",
              "881238  5.455143e+06  \n",
              "881239  5.455143e+06  \n",
              "881240  5.455126e+06  \n",
              "881241  5.455126e+06  \n",
              "\n",
              "[881087 rows x 10 columns]"
            ]
          },
          "execution_count": 8,
          "metadata": {},
          "output_type": "execute_result"
        }
      ],
      "source": [
        "crime_data.dropna(subset=['hundred_block', 'neighbourhood', 'x', 'y'], inplace=True)\n",
        "crime_data"
      ]
    },
    {
      "cell_type": "markdown",
      "metadata": {},
      "source": [
        "The null values in each columns are less than 1%, it is dropped using the dropna function."
      ]
    },
    {
      "cell_type": "code",
      "execution_count": 9,
      "metadata": {
        "id": "mArJfLXvfjpn",
        "outputId": "a8ea0721-11f2-4f06-badd-7dc7b0f96051",
        "scrolled": true
      },
      "outputs": [
        {
          "data": {
            "text/html": [
              "<div>\n",
              "<style scoped>\n",
              "    .dataframe tbody tr th:only-of-type {\n",
              "        vertical-align: middle;\n",
              "    }\n",
              "\n",
              "    .dataframe tbody tr th {\n",
              "        vertical-align: top;\n",
              "    }\n",
              "\n",
              "    .dataframe thead th {\n",
              "        text-align: right;\n",
              "    }\n",
              "</style>\n",
              "<table border=\"1\" class=\"dataframe\">\n",
              "  <thead>\n",
              "    <tr style=\"text-align: right;\">\n",
              "      <th></th>\n",
              "      <th>type</th>\n",
              "      <th>year</th>\n",
              "      <th>month</th>\n",
              "      <th>day</th>\n",
              "      <th>hour</th>\n",
              "      <th>minute</th>\n",
              "      <th>hundred_block</th>\n",
              "      <th>neighbourhood</th>\n",
              "      <th>x</th>\n",
              "      <th>y</th>\n",
              "    </tr>\n",
              "  </thead>\n",
              "  <tbody>\n",
              "    <tr>\n",
              "      <th>120492</th>\n",
              "      <td>Homicide</td>\n",
              "      <td>2016</td>\n",
              "      <td>9</td>\n",
              "      <td>28</td>\n",
              "      <td>0</td>\n",
              "      <td>0</td>\n",
              "      <td>OFFSET TO PROTECT PRIVACY</td>\n",
              "      <td>West End</td>\n",
              "      <td>0.0000</td>\n",
              "      <td>0.000000e+00</td>\n",
              "    </tr>\n",
              "    <tr>\n",
              "      <th>120493</th>\n",
              "      <td>Homicide</td>\n",
              "      <td>2017</td>\n",
              "      <td>10</td>\n",
              "      <td>13</td>\n",
              "      <td>0</td>\n",
              "      <td>0</td>\n",
              "      <td>OFFSET TO PROTECT PRIVACY</td>\n",
              "      <td>West End</td>\n",
              "      <td>0.0000</td>\n",
              "      <td>0.000000e+00</td>\n",
              "    </tr>\n",
              "    <tr>\n",
              "      <th>120494</th>\n",
              "      <td>Homicide</td>\n",
              "      <td>2023</td>\n",
              "      <td>5</td>\n",
              "      <td>27</td>\n",
              "      <td>0</td>\n",
              "      <td>0</td>\n",
              "      <td>OFFSET TO PROTECT PRIVACY</td>\n",
              "      <td>West End</td>\n",
              "      <td>0.0000</td>\n",
              "      <td>0.000000e+00</td>\n",
              "    </tr>\n",
              "    <tr>\n",
              "      <th>120495</th>\n",
              "      <td>Homicide</td>\n",
              "      <td>2004</td>\n",
              "      <td>1</td>\n",
              "      <td>6</td>\n",
              "      <td>0</td>\n",
              "      <td>0</td>\n",
              "      <td>OFFSET TO PROTECT PRIVACY</td>\n",
              "      <td>West End</td>\n",
              "      <td>0.0000</td>\n",
              "      <td>0.000000e+00</td>\n",
              "    </tr>\n",
              "    <tr>\n",
              "      <th>120496</th>\n",
              "      <td>Homicide</td>\n",
              "      <td>2003</td>\n",
              "      <td>8</td>\n",
              "      <td>27</td>\n",
              "      <td>0</td>\n",
              "      <td>0</td>\n",
              "      <td>OFFSET TO PROTECT PRIVACY</td>\n",
              "      <td>West End</td>\n",
              "      <td>0.0000</td>\n",
              "      <td>0.000000e+00</td>\n",
              "    </tr>\n",
              "    <tr>\n",
              "      <th>...</th>\n",
              "      <td>...</td>\n",
              "      <td>...</td>\n",
              "      <td>...</td>\n",
              "      <td>...</td>\n",
              "      <td>...</td>\n",
              "      <td>...</td>\n",
              "      <td>...</td>\n",
              "      <td>...</td>\n",
              "      <td>...</td>\n",
              "      <td>...</td>\n",
              "    </tr>\n",
              "    <tr>\n",
              "      <th>305508</th>\n",
              "      <td>Other Theft</td>\n",
              "      <td>2020</td>\n",
              "      <td>11</td>\n",
              "      <td>11</td>\n",
              "      <td>17</td>\n",
              "      <td>31</td>\n",
              "      <td>ALBERNI ST</td>\n",
              "      <td>West End</td>\n",
              "      <td>491015.9434</td>\n",
              "      <td>5.459166e+06</td>\n",
              "    </tr>\n",
              "    <tr>\n",
              "      <th>305509</th>\n",
              "      <td>Other Theft</td>\n",
              "      <td>2020</td>\n",
              "      <td>11</td>\n",
              "      <td>12</td>\n",
              "      <td>0</td>\n",
              "      <td>0</td>\n",
              "      <td>ALBERNI ST</td>\n",
              "      <td>West End</td>\n",
              "      <td>491015.9434</td>\n",
              "      <td>5.459166e+06</td>\n",
              "    </tr>\n",
              "    <tr>\n",
              "      <th>305510</th>\n",
              "      <td>Other Theft</td>\n",
              "      <td>2021</td>\n",
              "      <td>2</td>\n",
              "      <td>13</td>\n",
              "      <td>17</td>\n",
              "      <td>20</td>\n",
              "      <td>ALBERNI ST</td>\n",
              "      <td>West End</td>\n",
              "      <td>491015.9434</td>\n",
              "      <td>5.459166e+06</td>\n",
              "    </tr>\n",
              "    <tr>\n",
              "      <th>305511</th>\n",
              "      <td>Other Theft</td>\n",
              "      <td>2021</td>\n",
              "      <td>6</td>\n",
              "      <td>1</td>\n",
              "      <td>12</td>\n",
              "      <td>10</td>\n",
              "      <td>ALBERNI ST</td>\n",
              "      <td>West End</td>\n",
              "      <td>491015.9434</td>\n",
              "      <td>5.459166e+06</td>\n",
              "    </tr>\n",
              "    <tr>\n",
              "      <th>305512</th>\n",
              "      <td>Other Theft</td>\n",
              "      <td>2022</td>\n",
              "      <td>12</td>\n",
              "      <td>1</td>\n",
              "      <td>15</td>\n",
              "      <td>12</td>\n",
              "      <td>ALBERNI ST</td>\n",
              "      <td>West End</td>\n",
              "      <td>491015.9434</td>\n",
              "      <td>5.459166e+06</td>\n",
              "    </tr>\n",
              "  </tbody>\n",
              "</table>\n",
              "<p>77407 rows × 10 columns</p>\n",
              "</div>"
            ],
            "text/plain": [
              "               type  year  month  day  hour  minute  \\\n",
              "120492     Homicide  2016      9   28     0       0   \n",
              "120493     Homicide  2017     10   13     0       0   \n",
              "120494     Homicide  2023      5   27     0       0   \n",
              "120495     Homicide  2004      1    6     0       0   \n",
              "120496     Homicide  2003      8   27     0       0   \n",
              "...             ...   ...    ...  ...   ...     ...   \n",
              "305508  Other Theft  2020     11   11    17      31   \n",
              "305509  Other Theft  2020     11   12     0       0   \n",
              "305510  Other Theft  2021      2   13    17      20   \n",
              "305511  Other Theft  2021      6    1    12      10   \n",
              "305512  Other Theft  2022     12    1    15      12   \n",
              "\n",
              "                    hundred_block neighbourhood            x             y  \n",
              "120492  OFFSET TO PROTECT PRIVACY      West End       0.0000  0.000000e+00  \n",
              "120493  OFFSET TO PROTECT PRIVACY      West End       0.0000  0.000000e+00  \n",
              "120494  OFFSET TO PROTECT PRIVACY      West End       0.0000  0.000000e+00  \n",
              "120495  OFFSET TO PROTECT PRIVACY      West End       0.0000  0.000000e+00  \n",
              "120496  OFFSET TO PROTECT PRIVACY      West End       0.0000  0.000000e+00  \n",
              "...                           ...           ...          ...           ...  \n",
              "305508                 ALBERNI ST      West End  491015.9434  5.459166e+06  \n",
              "305509                 ALBERNI ST      West End  491015.9434  5.459166e+06  \n",
              "305510                 ALBERNI ST      West End  491015.9434  5.459166e+06  \n",
              "305511                 ALBERNI ST      West End  491015.9434  5.459166e+06  \n",
              "305512                 ALBERNI ST      West End  491015.9434  5.459166e+06  \n",
              "\n",
              "[77407 rows x 10 columns]"
            ]
          },
          "execution_count": 9,
          "metadata": {},
          "output_type": "execute_result"
        }
      ],
      "source": [
        "indices = crime_data.index[crime_data['hundred_block'] == 'OFFSET TO PROTECT PRIVACY']\n",
        "offset = crime_data.iloc[indices]\n",
        "offset"
      ]
    },
    {
      "cell_type": "markdown",
      "metadata": {},
      "source": [
        "The iloc function goes through index and returns the OFFSET TO PROTECT PRIVACY value from the hundreed_block column."
      ]
    },
    {
      "cell_type": "code",
      "execution_count": 10,
      "metadata": {
        "id": "vnrKRZUofjpn",
        "outputId": "7bfaac33-a171-40d0-ca91-0d4aa12e0818"
      },
      "outputs": [
        {
          "name": "stdout",
          "output_type": "stream",
          "text": [
            "OFFSET TO PROTECT PRIVACY is not present\n"
          ]
        }
      ],
      "source": [
        "crime_data.loc[indices, 'hundred_block'] = 'unknown'\n",
        "is_present = 'OFFSET TO PROTECT PRIVACY' in crime_data['hundred_block'].values\n",
        "\n",
        "# Print result\n",
        "if is_present:\n",
        "    print(\"OFFSET TO PROTECT PRIVACY is present\")\n",
        "else:\n",
        "    print(\"OFFSET TO PROTECT PRIVACY is not present\")\n"
      ]
    },
    {
      "cell_type": "markdown",
      "metadata": {},
      "source": [
        "Offset to protect privacy is changed to Unkown. In the next step, a if condition is set to verify if there is any presence of 'OFF SET TO PROTECT PRIVACY' is present in the dataset."
      ]
    },
    {
      "cell_type": "code",
      "execution_count": 11,
      "metadata": {
        "id": "p_FETylSfjpn",
        "outputId": "dbcbc274-16aa-41be-bc8a-dd4f6fe5fa44"
      },
      "outputs": [
        {
          "data": {
            "text/html": [
              "<div>\n",
              "<style scoped>\n",
              "    .dataframe tbody tr th:only-of-type {\n",
              "        vertical-align: middle;\n",
              "    }\n",
              "\n",
              "    .dataframe tbody tr th {\n",
              "        vertical-align: top;\n",
              "    }\n",
              "\n",
              "    .dataframe thead th {\n",
              "        text-align: right;\n",
              "    }\n",
              "</style>\n",
              "<table border=\"1\" class=\"dataframe\">\n",
              "  <thead>\n",
              "    <tr style=\"text-align: right;\">\n",
              "      <th></th>\n",
              "      <th>type</th>\n",
              "      <th>hundred_block</th>\n",
              "      <th>neighbourhood</th>\n",
              "      <th>x</th>\n",
              "      <th>y</th>\n",
              "      <th>timestamp</th>\n",
              "      <th>day_of_week</th>\n",
              "    </tr>\n",
              "  </thead>\n",
              "  <tbody>\n",
              "    <tr>\n",
              "      <th>1</th>\n",
              "      <td>Break and Enter Commercial</td>\n",
              "      <td>SITKA SQ</td>\n",
              "      <td>Fairview</td>\n",
              "      <td>490612.9648</td>\n",
              "      <td>5.457110e+06</td>\n",
              "      <td>2019-03-07 02:06:00</td>\n",
              "      <td>Thursday</td>\n",
              "    </tr>\n",
              "    <tr>\n",
              "      <th>2</th>\n",
              "      <td>Break and Enter Commercial</td>\n",
              "      <td>ALBERNI ST</td>\n",
              "      <td>West End</td>\n",
              "      <td>491004.8164</td>\n",
              "      <td>5.459177e+06</td>\n",
              "      <td>2019-08-27 04:12:00</td>\n",
              "      <td>Tuesday</td>\n",
              "    </tr>\n",
              "    <tr>\n",
              "      <th>3</th>\n",
              "      <td>Break and Enter Commercial</td>\n",
              "      <td>ALBERNI ST</td>\n",
              "      <td>West End</td>\n",
              "      <td>491007.7798</td>\n",
              "      <td>5.459174e+06</td>\n",
              "      <td>2021-04-26 04:44:00</td>\n",
              "      <td>Monday</td>\n",
              "    </tr>\n",
              "    <tr>\n",
              "      <th>4</th>\n",
              "      <td>Break and Enter Commercial</td>\n",
              "      <td>ALBERNI ST</td>\n",
              "      <td>West End</td>\n",
              "      <td>491015.9434</td>\n",
              "      <td>5.459166e+06</td>\n",
              "      <td>2014-08-08 05:13:00</td>\n",
              "      <td>Friday</td>\n",
              "    </tr>\n",
              "    <tr>\n",
              "      <th>5</th>\n",
              "      <td>Break and Enter Commercial</td>\n",
              "      <td>ALBERNI ST</td>\n",
              "      <td>West End</td>\n",
              "      <td>491015.9434</td>\n",
              "      <td>5.459166e+06</td>\n",
              "      <td>2020-07-28 19:12:00</td>\n",
              "      <td>Tuesday</td>\n",
              "    </tr>\n",
              "    <tr>\n",
              "      <th>...</th>\n",
              "      <td>...</td>\n",
              "      <td>...</td>\n",
              "      <td>...</td>\n",
              "      <td>...</td>\n",
              "      <td>...</td>\n",
              "      <td>...</td>\n",
              "      <td>...</td>\n",
              "    </tr>\n",
              "    <tr>\n",
              "      <th>881237</th>\n",
              "      <td>Vehicle Collision or Pedestrian Struck (with I...</td>\n",
              "      <td>YUKON ST / W KING EDWARD AVE</td>\n",
              "      <td>Riley Park</td>\n",
              "      <td>491786.0000</td>\n",
              "      <td>5.455143e+06</td>\n",
              "      <td>2003-09-01 20:45:00</td>\n",
              "      <td>Monday</td>\n",
              "    </tr>\n",
              "    <tr>\n",
              "      <th>881238</th>\n",
              "      <td>Vehicle Collision or Pedestrian Struck (with I...</td>\n",
              "      <td>YUKON ST / W KING EDWARD AVE</td>\n",
              "      <td>Riley Park</td>\n",
              "      <td>491786.0000</td>\n",
              "      <td>5.455143e+06</td>\n",
              "      <td>2005-07-20 18:57:00</td>\n",
              "      <td>Wednesday</td>\n",
              "    </tr>\n",
              "    <tr>\n",
              "      <th>881239</th>\n",
              "      <td>Vehicle Collision or Pedestrian Struck (with I...</td>\n",
              "      <td>YUKON ST / W KING EDWARD AVE</td>\n",
              "      <td>Riley Park</td>\n",
              "      <td>491786.0000</td>\n",
              "      <td>5.455143e+06</td>\n",
              "      <td>2016-06-20 18:11:00</td>\n",
              "      <td>Monday</td>\n",
              "    </tr>\n",
              "    <tr>\n",
              "      <th>881240</th>\n",
              "      <td>Vehicle Collision or Pedestrian Struck (with I...</td>\n",
              "      <td>YUKON ST / W KING EDWARD AVE</td>\n",
              "      <td>Riley Park</td>\n",
              "      <td>491835.0000</td>\n",
              "      <td>5.455126e+06</td>\n",
              "      <td>2013-12-03 09:49:00</td>\n",
              "      <td>Tuesday</td>\n",
              "    </tr>\n",
              "    <tr>\n",
              "      <th>881241</th>\n",
              "      <td>Vehicle Collision or Pedestrian Struck (with I...</td>\n",
              "      <td>YUKON ST / W KING EDWARD AVE</td>\n",
              "      <td>Riley Park</td>\n",
              "      <td>491835.0000</td>\n",
              "      <td>5.455126e+06</td>\n",
              "      <td>2013-12-27 14:40:00</td>\n",
              "      <td>Friday</td>\n",
              "    </tr>\n",
              "  </tbody>\n",
              "</table>\n",
              "<p>881087 rows × 7 columns</p>\n",
              "</div>"
            ],
            "text/plain": [
              "                                                     type  \\\n",
              "1                              Break and Enter Commercial   \n",
              "2                              Break and Enter Commercial   \n",
              "3                              Break and Enter Commercial   \n",
              "4                              Break and Enter Commercial   \n",
              "5                              Break and Enter Commercial   \n",
              "...                                                   ...   \n",
              "881237  Vehicle Collision or Pedestrian Struck (with I...   \n",
              "881238  Vehicle Collision or Pedestrian Struck (with I...   \n",
              "881239  Vehicle Collision or Pedestrian Struck (with I...   \n",
              "881240  Vehicle Collision or Pedestrian Struck (with I...   \n",
              "881241  Vehicle Collision or Pedestrian Struck (with I...   \n",
              "\n",
              "                       hundred_block neighbourhood            x             y  \\\n",
              "1                           SITKA SQ      Fairview  490612.9648  5.457110e+06   \n",
              "2                         ALBERNI ST      West End  491004.8164  5.459177e+06   \n",
              "3                         ALBERNI ST      West End  491007.7798  5.459174e+06   \n",
              "4                         ALBERNI ST      West End  491015.9434  5.459166e+06   \n",
              "5                         ALBERNI ST      West End  491015.9434  5.459166e+06   \n",
              "...                              ...           ...          ...           ...   \n",
              "881237  YUKON ST / W KING EDWARD AVE    Riley Park  491786.0000  5.455143e+06   \n",
              "881238  YUKON ST / W KING EDWARD AVE    Riley Park  491786.0000  5.455143e+06   \n",
              "881239  YUKON ST / W KING EDWARD AVE    Riley Park  491786.0000  5.455143e+06   \n",
              "881240  YUKON ST / W KING EDWARD AVE    Riley Park  491835.0000  5.455126e+06   \n",
              "881241  YUKON ST / W KING EDWARD AVE    Riley Park  491835.0000  5.455126e+06   \n",
              "\n",
              "                 timestamp day_of_week  \n",
              "1      2019-03-07 02:06:00    Thursday  \n",
              "2      2019-08-27 04:12:00     Tuesday  \n",
              "3      2021-04-26 04:44:00      Monday  \n",
              "4      2014-08-08 05:13:00      Friday  \n",
              "5      2020-07-28 19:12:00     Tuesday  \n",
              "...                    ...         ...  \n",
              "881237 2003-09-01 20:45:00      Monday  \n",
              "881238 2005-07-20 18:57:00   Wednesday  \n",
              "881239 2016-06-20 18:11:00      Monday  \n",
              "881240 2013-12-03 09:49:00     Tuesday  \n",
              "881241 2013-12-27 14:40:00      Friday  \n",
              "\n",
              "[881087 rows x 7 columns]"
            ]
          },
          "execution_count": 11,
          "metadata": {},
          "output_type": "execute_result"
        }
      ],
      "source": [
        "crime_data['timestamp'] = pd.to_datetime(crime_data[['year', 'month', 'day', 'hour', 'minute']])\n",
        "crime_data.drop(columns=['month', 'day', 'hour', 'minute'], inplace=True)\n",
        "crime_data.drop(columns=['year'], inplace = True)\n",
        "crime_data['day_of_week'] = crime_data['timestamp'].dt.day_name()\n",
        "crime_data"
      ]
    },
    {
      "cell_type": "markdown",
      "metadata": {},
      "source": [
        "A new column named timestamp is created by combining columns year, month, day, hour and minute for EDA. Later these colmnns are dropped and retained the timestamp column. The day of week is extracted from the timestamp column by using the dt function and assigned as a new column."
      ]
    },
    {
      "cell_type": "markdown",
      "metadata": {
        "id": "46Es7Jqmfjpn"
      },
      "source": [
        "## EDA"
      ]
    },
    {
      "cell_type": "code",
      "execution_count": 12,
      "metadata": {
        "id": "5urMcnfUfjpo",
        "outputId": "256bde56-c5ce-4c29-9c22-b19e57b84a71",
        "scrolled": false
      },
      "outputs": [
        {
          "data": {
            "text/plain": [
              "<AxesSubplot: xlabel='count', ylabel='type'>"
            ]
          },
          "execution_count": 12,
          "metadata": {},
          "output_type": "execute_result"
        },
        {
          "data": {
            "image/png": "[encoded data removed]",
            "text/plain": [
              "<Figure size 640x480 with 1 Axes>"
            ]
          },
          "metadata": {},
          "output_type": "display_data"
        }
      ],
      "source": [
        "#Countplot for type col\n",
        "sns.countplot(crime_data,y = 'type')"
      ]
    },
    {
      "cell_type": "markdown",
      "metadata": {
        "id": "_rNUXHSSfjpp"
      },
      "source": [
        "What is the significant growth of each crime over the given period of years ?\n",
        "Plot helps to visualize the distribution of the different types of crimes in the City. By looking at the height of each bar, one can quickly see which types of crimes are most common and least common in the dataset.Here theft seems to be a major problem, especially theft from a vehicle.\n"
      ]
    },
    {
      "cell_type": "code",
      "execution_count": 13,
      "metadata": {
        "id": "H862aMh8fjpp",
        "outputId": "331dd4d4-6e06-4983-f833-7eb1c0962295",
        "scrolled": false
      },
      "outputs": [
        {
          "data": {
            "application/vnd.plotly.v1+json": {
              "config": {
                "plotlyServerURL": "https://plot.ly"
              },
              "data": [
                {
                  "hovertemplate": "type=Break and Enter Commercial<br>timestamp=%{x}<br>Number of Incidents=%{y}<extra></extra>",
                  "legendgroup": "Break and Enter Commercial",
                  "line": {
                    "color": "#636efa",
                    "dash": "solid"
                  },
                  "marker": {
                    "symbol": "circle"
                  },
                  "mode": "markers+lines",
                  "name": "Break and Enter Commercial",
                  "orientation": "v",
                  "showlegend": true,
                  "type": "scatter",
                  "x": [
                    2003,
                    2004,
                    2005,
                    2006,
                    2007,
                    2008,
                    2009,
                    2010,
                    2011,
                    2012,
                    2013,
                    2014,
                    2015,
                    2016,
                    2017,
                    2018,
                    2019,
                    2020,
                    2021,
                    2022,
                    2023
                  ],
                  "xaxis": "x",
                  "y": [
                    3196,
                    3279,
                    2639,
                    2845,
                    2436,
                    2225,
                    1859,
                    1659,
                    1750,
                    1686,
                    1770,
                    2241,
                    2452,
                    2683,
                    2192,
                    2020,
                    2490,
                    2788,
                    2079,
                    1986,
                    1632
                  ],
                  "yaxis": "y"
                },
                {
                  "hovertemplate": "type=Break and Enter Residential/Other<br>timestamp=%{x}<br>Number of Incidents=%{y}<extra></extra>",
                  "legendgroup": "Break and Enter Residential/Other",
                  "line": {
                    "color": "#EF553B",
                    "dash": "dot"
                  },
                  "marker": {
                    "symbol": "circle"
                  },
                  "mode": "markers+lines",
                  "name": "Break and Enter Residential/Other",
                  "orientation": "v",
                  "showlegend": true,
                  "type": "scatter",
                  "x": [
                    2003,
                    2004,
                    2005,
                    2006,
                    2007,
                    2008,
                    2009,
                    2010,
                    2011,
                    2012,
                    2013,
                    2014,
                    2015,
                    2016,
                    2017,
                    2018,
                    2019,
                    2020,
                    2021,
                    2022,
                    2023
                  ],
                  "xaxis": "x",
                  "y": [
                    6884,
                    6533,
                    5538,
                    5673,
                    4996,
                    4429,
                    3497,
                    3266,
                    3230,
                    3311,
                    3024,
                    3042,
                    3116,
                    2989,
                    2454,
                    2391,
                    2269,
                    2083,
                    1488,
                    1266,
                    1100
                  ],
                  "yaxis": "y"
                },
                {
                  "hovertemplate": "type=Homicide<br>timestamp=%{x}<br>Number of Incidents=%{y}<extra></extra>",
                  "legendgroup": "Homicide",
                  "line": {
                    "color": "#00cc96",
                    "dash": "dash"
                  },
                  "marker": {
                    "symbol": "circle"
                  },
                  "mode": "markers+lines",
                  "name": "Homicide",
                  "orientation": "v",
                  "showlegend": true,
                  "type": "scatter",
                  "x": [
                    2003,
                    2004,
                    2005,
                    2006,
                    2007,
                    2008,
                    2009,
                    2010,
                    2011,
                    2012,
                    2013,
                    2014,
                    2015,
                    2016,
                    2017,
                    2018,
                    2019,
                    2020,
                    2021,
                    2022,
                    2023
                  ],
                  "xaxis": "x",
                  "y": [
                    17,
                    22,
                    22,
                    18,
                    19,
                    18,
                    18,
                    10,
                    15,
                    8,
                    7,
                    9,
                    15,
                    11,
                    17,
                    14,
                    12,
                    19,
                    19,
                    11,
                    14
                  ],
                  "yaxis": "y"
                },
                {
                  "hovertemplate": "type=Mischief<br>timestamp=%{x}<br>Number of Incidents=%{y}<extra></extra>",
                  "legendgroup": "Mischief",
                  "line": {
                    "color": "#ab63fa",
                    "dash": "longdash"
                  },
                  "marker": {
                    "symbol": "circle"
                  },
                  "mode": "markers+lines",
                  "name": "Mischief",
                  "orientation": "v",
                  "showlegend": true,
                  "type": "scatter",
                  "x": [
                    2003,
                    2004,
                    2005,
                    2006,
                    2007,
                    2008,
                    2009,
                    2010,
                    2011,
                    2012,
                    2013,
                    2014,
                    2015,
                    2016,
                    2017,
                    2018,
                    2019,
                    2020,
                    2021,
                    2022,
                    2023
                  ],
                  "xaxis": "x",
                  "y": [
                    6387,
                    5598,
                    5062,
                    5180,
                    4812,
                    5270,
                    4425,
                    4514,
                    4833,
                    4228,
                    4181,
                    4509,
                    4178,
                    4581,
                    5370,
                    5716,
                    5833,
                    6109,
                    5415,
                    5614,
                    5703
                  ],
                  "yaxis": "y"
                },
                {
                  "hovertemplate": "type=Offence Against a Person<br>timestamp=%{x}<br>Number of Incidents=%{y}<extra></extra>",
                  "legendgroup": "Offence Against a Person",
                  "line": {
                    "color": "#FFA15A",
                    "dash": "dashdot"
                  },
                  "marker": {
                    "symbol": "circle"
                  },
                  "mode": "markers+lines",
                  "name": "Offence Against a Person",
                  "orientation": "v",
                  "showlegend": true,
                  "type": "scatter",
                  "x": [
                    2003,
                    2004,
                    2005,
                    2006,
                    2007,
                    2008,
                    2009,
                    2010,
                    2011,
                    2012,
                    2013,
                    2014,
                    2015,
                    2016,
                    2017,
                    2018,
                    2019,
                    2020,
                    2021,
                    2022,
                    2023
                  ],
                  "xaxis": "x",
                  "y": [
                    3507,
                    3791,
                    3760,
                    4345,
                    4400,
                    4209,
                    3878,
                    3742,
                    3874,
                    3760,
                    3630,
                    3127,
                    3193,
                    3183,
                    3184,
                    3085,
                    3471,
                    3742,
                    3785,
                    3922,
                    3504
                  ],
                  "yaxis": "y"
                },
                {
                  "hovertemplate": "type=Other Theft<br>timestamp=%{x}<br>Number of Incidents=%{y}<extra></extra>",
                  "legendgroup": "Other Theft",
                  "line": {
                    "color": "#19d3f3",
                    "dash": "longdashdot"
                  },
                  "marker": {
                    "symbol": "circle"
                  },
                  "mode": "markers+lines",
                  "name": "Other Theft",
                  "orientation": "v",
                  "showlegend": true,
                  "type": "scatter",
                  "x": [
                    2003,
                    2004,
                    2005,
                    2006,
                    2007,
                    2008,
                    2009,
                    2010,
                    2011,
                    2012,
                    2013,
                    2014,
                    2015,
                    2016,
                    2017,
                    2018,
                    2019,
                    2020,
                    2021,
                    2022,
                    2023
                  ],
                  "xaxis": "x",
                  "y": [
                    11423,
                    11435,
                    11355,
                    10300,
                    9722,
                    9463,
                    9470,
                    9366,
                    9388,
                    9960,
                    10264,
                    10794,
                    10598,
                    11982,
                    11809,
                    11251,
                    12323,
                    8647,
                    8583,
                    10754,
                    11340
                  ],
                  "yaxis": "y"
                },
                {
                  "hovertemplate": "type=Theft from Vehicle<br>timestamp=%{x}<br>Number of Incidents=%{y}<extra></extra>",
                  "legendgroup": "Theft from Vehicle",
                  "line": {
                    "color": "#FF6692",
                    "dash": "solid"
                  },
                  "marker": {
                    "symbol": "circle"
                  },
                  "mode": "markers+lines",
                  "name": "Theft from Vehicle",
                  "orientation": "v",
                  "showlegend": true,
                  "type": "scatter",
                  "x": [
                    2003,
                    2004,
                    2005,
                    2006,
                    2007,
                    2008,
                    2009,
                    2010,
                    2011,
                    2012,
                    2013,
                    2014,
                    2015,
                    2016,
                    2017,
                    2018,
                    2019,
                    2020,
                    2021,
                    2022,
                    2023
                  ],
                  "xaxis": "x",
                  "y": [
                    17743,
                    18202,
                    16552,
                    14730,
                    12227,
                    11295,
                    10007,
                    8614,
                    7434,
                    8096,
                    8333,
                    10140,
                    10547,
                    12815,
                    12957,
                    14996,
                    17005,
                    10430,
                    7502,
                    7276,
                    6686
                  ],
                  "yaxis": "y"
                },
                {
                  "hovertemplate": "type=Theft of Bicycle<br>timestamp=%{x}<br>Number of Incidents=%{y}<extra></extra>",
                  "legendgroup": "Theft of Bicycle",
                  "line": {
                    "color": "#B6E880",
                    "dash": "dot"
                  },
                  "marker": {
                    "symbol": "circle"
                  },
                  "mode": "markers+lines",
                  "name": "Theft of Bicycle",
                  "orientation": "v",
                  "showlegend": true,
                  "type": "scatter",
                  "x": [
                    2003,
                    2004,
                    2005,
                    2006,
                    2007,
                    2008,
                    2009,
                    2010,
                    2011,
                    2012,
                    2013,
                    2014,
                    2015,
                    2016,
                    2017,
                    2018,
                    2019,
                    2020,
                    2021,
                    2022,
                    2023
                  ],
                  "xaxis": "x",
                  "y": [
                    1419,
                    1230,
                    1416,
                    1467,
                    1203,
                    1176,
                    1641,
                    1669,
                    1517,
                    1817,
                    2032,
                    2461,
                    3064,
                    2637,
                    2202,
                    2167,
                    2221,
                    1987,
                    1459,
                    1528,
                    967
                  ],
                  "yaxis": "y"
                },
                {
                  "hovertemplate": "type=Theft of Vehicle<br>timestamp=%{x}<br>Number of Incidents=%{y}<extra></extra>",
                  "legendgroup": "Theft of Vehicle",
                  "line": {
                    "color": "#FF97FF",
                    "dash": "dash"
                  },
                  "marker": {
                    "symbol": "circle"
                  },
                  "mode": "markers+lines",
                  "name": "Theft of Vehicle",
                  "orientation": "v",
                  "showlegend": true,
                  "type": "scatter",
                  "x": [
                    2003,
                    2004,
                    2005,
                    2006,
                    2007,
                    2008,
                    2009,
                    2010,
                    2011,
                    2012,
                    2013,
                    2014,
                    2015,
                    2016,
                    2017,
                    2018,
                    2019,
                    2020,
                    2021,
                    2022,
                    2023
                  ],
                  "xaxis": "x",
                  "y": [
                    6360,
                    6100,
                    5029,
                    3681,
                    3304,
                    2417,
                    1880,
                    1465,
                    1094,
                    1152,
                    1033,
                    1291,
                    1371,
                    1478,
                    1496,
                    1145,
                    1378,
                    853,
                    838,
                    910,
                    684
                  ],
                  "yaxis": "y"
                },
                {
                  "hovertemplate": "type=Vehicle Collision or Pedestrian Struck (with Fatality)<br>timestamp=%{x}<br>Number of Incidents=%{y}<extra></extra>",
                  "legendgroup": "Vehicle Collision or Pedestrian Struck (with Fatality)",
                  "line": {
                    "color": "#FECB52",
                    "dash": "longdash"
                  },
                  "marker": {
                    "symbol": "circle"
                  },
                  "mode": "markers+lines",
                  "name": "Vehicle Collision or Pedestrian Struck (with Fatality)",
                  "orientation": "v",
                  "showlegend": true,
                  "type": "scatter",
                  "x": [
                    2003,
                    2004,
                    2005,
                    2006,
                    2007,
                    2008,
                    2009,
                    2010,
                    2011,
                    2012,
                    2013,
                    2014,
                    2015,
                    2016,
                    2017,
                    2018,
                    2019,
                    2020,
                    2021,
                    2022,
                    2023
                  ],
                  "xaxis": "x",
                  "y": [
                    25,
                    22,
                    32,
                    20,
                    24,
                    17,
                    14,
                    10,
                    12,
                    18,
                    15,
                    14,
                    14,
                    15,
                    14,
                    13,
                    14,
                    8,
                    22,
                    19,
                    15
                  ],
                  "yaxis": "y"
                },
                {
                  "hovertemplate": "type=Vehicle Collision or Pedestrian Struck (with Injury)<br>timestamp=%{x}<br>Number of Incidents=%{y}<extra></extra>",
                  "legendgroup": "Vehicle Collision or Pedestrian Struck (with Injury)",
                  "line": {
                    "color": "#636efa",
                    "dash": "dashdot"
                  },
                  "marker": {
                    "symbol": "circle"
                  },
                  "mode": "markers+lines",
                  "name": "Vehicle Collision or Pedestrian Struck (with Injury)",
                  "orientation": "v",
                  "showlegend": true,
                  "type": "scatter",
                  "x": [
                    2003,
                    2004,
                    2005,
                    2006,
                    2007,
                    2008,
                    2009,
                    2010,
                    2011,
                    2012,
                    2013,
                    2014,
                    2015,
                    2016,
                    2017,
                    2018,
                    2019,
                    2020,
                    2021,
                    2022,
                    2023
                  ],
                  "xaxis": "x",
                  "y": [
                    1824,
                    1868,
                    1999,
                    1383,
                    1238,
                    1185,
                    1278,
                    1327,
                    1260,
                    1472,
                    1492,
                    1576,
                    1667,
                    1707,
                    1523,
                    1476,
                    1137,
                    851,
                    1019,
                    1011,
                    973
                  ],
                  "yaxis": "y"
                }
              ],
              "layout": {
                "legend": {
                  "title": {
                    "text": "type"
                  },
                  "tracegroupgap": 0
                },
                "template": {
                  "data": {
                    "bar": [
                      {
                        "error_x": {
                          "color": "#f2f5fa"
                        },
                        "error_y": {
                          "color": "#f2f5fa"
                        },
                        "marker": {
                          "line": {
                            "color": "rgb(17,17,17)",
                            "width": 0.5
                          },
                          "pattern": {
                            "fillmode": "overlay",
                            "size": 10,
                            "solidity": 0.2
                          }
                        },
                        "type": "bar"
                      }
                    ],
                    "barpolar": [
                      {
                        "marker": {
                          "line": {
                            "color": "rgb(17,17,17)",
                            "width": 0.5
                          },
                          "pattern": {
                            "fillmode": "overlay",
                            "size": 10,
                            "solidity": 0.2
                          }
                        },
                        "type": "barpolar"
                      }
                    ],
                    "carpet": [
                      {
                        "aaxis": {
                          "endlinecolor": "#A2B1C6",
                          "gridcolor": "#506784",
                          "linecolor": "#506784",
                          "minorgridcolor": "#506784",
                          "startlinecolor": "#A2B1C6"
                        },
                        "baxis": {
                          "endlinecolor": "#A2B1C6",
                          "gridcolor": "#506784",
                          "linecolor": "#506784",
                          "minorgridcolor": "#506784",
                          "startlinecolor": "#A2B1C6"
                        },
                        "type": "carpet"
                      }
                    ],
                    "choropleth": [
                      {
                        "colorbar": {
                          "outlinewidth": 0,
                          "ticks": ""
                        },
                        "type": "choropleth"
                      }
                    ],
                    "contour": [
                      {
                        "colorbar": {
                          "outlinewidth": 0,
                          "ticks": ""
                        },
                        "colorscale": [
                          [
                            0,
                            "#0d0887"
                          ],
                          [
                            0.1111111111111111,
                            "#46039f"
                          ],
                          [
                            0.2222222222222222,
                            "#7201a8"
                          ],
                          [
                            0.3333333333333333,
                            "#9c179e"
                          ],
                          [
                            0.4444444444444444,
                            "#bd3786"
                          ],
                          [
                            0.5555555555555556,
                            "#d8576b"
                          ],
                          [
                            0.6666666666666666,
                            "#ed7953"
                          ],
                          [
                            0.7777777777777778,
                            "#fb9f3a"
                          ],
                          [
                            0.8888888888888888,
                            "#fdca26"
                          ],
                          [
                            1,
                            "#f0f921"
                          ]
                        ],
                        "type": "contour"
                      }
                    ],
                    "contourcarpet": [
                      {
                        "colorbar": {
                          "outlinewidth": 0,
                          "ticks": ""
                        },
                        "type": "contourcarpet"
                      }
                    ],
                    "heatmap": [
                      {
                        "colorbar": {
                          "outlinewidth": 0,
                          "ticks": ""
                        },
                        "colorscale": [
                          [
                            0,
                            "#0d0887"
                          ],
                          [
                            0.1111111111111111,
                            "#46039f"
                          ],
                          [
                            0.2222222222222222,
                            "#7201a8"
                          ],
                          [
                            0.3333333333333333,
                            "#9c179e"
                          ],
                          [
                            0.4444444444444444,
                            "#bd3786"
                          ],
                          [
                            0.5555555555555556,
                            "#d8576b"
                          ],
                          [
                            0.6666666666666666,
                            "#ed7953"
                          ],
                          [
                            0.7777777777777778,
                            "#fb9f3a"
                          ],
                          [
                            0.8888888888888888,
                            "#fdca26"
                          ],
                          [
                            1,
                            "#f0f921"
                          ]
                        ],
                        "type": "heatmap"
                      }
                    ],
                    "heatmapgl": [
                      {
                        "colorbar": {
                          "outlinewidth": 0,
                          "ticks": ""
                        },
                        "colorscale": [
                          [
                            0,
                            "#0d0887"
                          ],
                          [
                            0.1111111111111111,
                            "#46039f"
                          ],
                          [
                            0.2222222222222222,
                            "#7201a8"
                          ],
                          [
                            0.3333333333333333,
                            "#9c179e"
                          ],
                          [
                            0.4444444444444444,
                            "#bd3786"
                          ],
                          [
                            0.5555555555555556,
                            "#d8576b"
                          ],
                          [
                            0.6666666666666666,
                            "#ed7953"
                          ],
                          [
                            0.7777777777777778,
                            "#fb9f3a"
                          ],
                          [
                            0.8888888888888888,
                            "#fdca26"
                          ],
                          [
                            1,
                            "#f0f921"
                          ]
                        ],
                        "type": "heatmapgl"
                      }
                    ],
                    "histogram": [
                      {
                        "marker": {
                          "pattern": {
                            "fillmode": "overlay",
                            "size": 10,
                            "solidity": 0.2
                          }
                        },
                        "type": "histogram"
                      }
                    ],
                    "histogram2d": [
                      {
                        "colorbar": {
                          "outlinewidth": 0,
                          "ticks": ""
                        },
                        "colorscale": [
                          [
                            0,
                            "#0d0887"
                          ],
                          [
                            0.1111111111111111,
                            "#46039f"
                          ],
                          [
                            0.2222222222222222,
                            "#7201a8"
                          ],
                          [
                            0.3333333333333333,
                            "#9c179e"
                          ],
                          [
                            0.4444444444444444,
                            "#bd3786"
                          ],
                          [
                            0.5555555555555556,
                            "#d8576b"
                          ],
                          [
                            0.6666666666666666,
                            "#ed7953"
                          ],
                          [
                            0.7777777777777778,
                            "#fb9f3a"
                          ],
                          [
                            0.8888888888888888,
                            "#fdca26"
                          ],
                          [
                            1,
                            "#f0f921"
                          ]
                        ],
                        "type": "histogram2d"
                      }
                    ],
                    "histogram2dcontour": [
                      {
                        "colorbar": {
                          "outlinewidth": 0,
                          "ticks": ""
                        },
                        "colorscale": [
                          [
                            0,
                            "#0d0887"
                          ],
                          [
                            0.1111111111111111,
                            "#46039f"
                          ],
                          [
                            0.2222222222222222,
                            "#7201a8"
                          ],
                          [
                            0.3333333333333333,
                            "#9c179e"
                          ],
                          [
                            0.4444444444444444,
                            "#bd3786"
                          ],
                          [
                            0.5555555555555556,
                            "#d8576b"
                          ],
                          [
                            0.6666666666666666,
                            "#ed7953"
                          ],
                          [
                            0.7777777777777778,
                            "#fb9f3a"
                          ],
                          [
                            0.8888888888888888,
                            "#fdca26"
                          ],
                          [
                            1,
                            "#f0f921"
                          ]
                        ],
                        "type": "histogram2dcontour"
                      }
                    ],
                    "mesh3d": [
                      {
                        "colorbar": {
                          "outlinewidth": 0,
                          "ticks": ""
                        },
                        "type": "mesh3d"
                      }
                    ],
                    "parcoords": [
                      {
                        "line": {
                          "colorbar": {
                            "outlinewidth": 0,
                            "ticks": ""
                          }
                        },
                        "type": "parcoords"
                      }
                    ],
                    "pie": [
                      {
                        "automargin": true,
                        "type": "pie"
                      }
                    ],
                    "scatter": [
                      {
                        "marker": {
                          "line": {
                            "color": "#283442"
                          }
                        },
                        "type": "scatter"
                      }
                    ],
                    "scatter3d": [
                      {
                        "line": {
                          "colorbar": {
                            "outlinewidth": 0,
                            "ticks": ""
                          }
                        },
                        "marker": {
                          "colorbar": {
                            "outlinewidth": 0,
                            "ticks": ""
                          }
                        },
                        "type": "scatter3d"
                      }
                    ],
                    "scattercarpet": [
                      {
                        "marker": {
                          "colorbar": {
                            "outlinewidth": 0,
                            "ticks": ""
                          }
                        },
                        "type": "scattercarpet"
                      }
                    ],
                    "scattergeo": [
                      {
                        "marker": {
                          "colorbar": {
                            "outlinewidth": 0,
                            "ticks": ""
                          }
                        },
                        "type": "scattergeo"
                      }
                    ],
                    "scattergl": [
                      {
                        "marker": {
                          "line": {
                            "color": "#283442"
                          }
                        },
                        "type": "scattergl"
                      }
                    ],
                    "scattermapbox": [
                      {
                        "marker": {
                          "colorbar": {
                            "outlinewidth": 0,
                            "ticks": ""
                          }
                        },
                        "type": "scattermapbox"
                      }
                    ],
                    "scatterpolar": [
                      {
                        "marker": {
                          "colorbar": {
                            "outlinewidth": 0,
                            "ticks": ""
                          }
                        },
                        "type": "scatterpolar"
                      }
                    ],
                    "scatterpolargl": [
                      {
                        "marker": {
                          "colorbar": {
                            "outlinewidth": 0,
                            "ticks": ""
                          }
                        },
                        "type": "scatterpolargl"
                      }
                    ],
                    "scatterternary": [
                      {
                        "marker": {
                          "colorbar": {
                            "outlinewidth": 0,
                            "ticks": ""
                          }
                        },
                        "type": "scatterternary"
                      }
                    ],
                    "surface": [
                      {
                        "colorbar": {
                          "outlinewidth": 0,
                          "ticks": ""
                        },
                        "colorscale": [
                          [
                            0,
                            "#0d0887"
                          ],
                          [
                            0.1111111111111111,
                            "#46039f"
                          ],
                          [
                            0.2222222222222222,
                            "#7201a8"
                          ],
                          [
                            0.3333333333333333,
                            "#9c179e"
                          ],
                          [
                            0.4444444444444444,
                            "#bd3786"
                          ],
                          [
                            0.5555555555555556,
                            "#d8576b"
                          ],
                          [
                            0.6666666666666666,
                            "#ed7953"
                          ],
                          [
                            0.7777777777777778,
                            "#fb9f3a"
                          ],
                          [
                            0.8888888888888888,
                            "#fdca26"
                          ],
                          [
                            1,
                            "#f0f921"
                          ]
                        ],
                        "type": "surface"
                      }
                    ],
                    "table": [
                      {
                        "cells": {
                          "fill": {
                            "color": "#506784"
                          },
                          "line": {
                            "color": "rgb(17,17,17)"
                          }
                        },
                        "header": {
                          "fill": {
                            "color": "#2a3f5f"
                          },
                          "line": {
                            "color": "rgb(17,17,17)"
                          }
                        },
                        "type": "table"
                      }
                    ]
                  },
                  "layout": {
                    "annotationdefaults": {
                      "arrowcolor": "#f2f5fa",
                      "arrowhead": 0,
                      "arrowwidth": 1
                    },
                    "autotypenumbers": "strict",
                    "coloraxis": {
                      "colorbar": {
                        "outlinewidth": 0,
                        "ticks": ""
                      }
                    },
                    "colorscale": {
                      "diverging": [
                        [
                          0,
                          "#8e0152"
                        ],
                        [
                          0.1,
                          "#c51b7d"
                        ],
                        [
                          0.2,
                          "#de77ae"
                        ],
                        [
                          0.3,
                          "#f1b6da"
                        ],
                        [
                          0.4,
                          "#fde0ef"
                        ],
                        [
                          0.5,
                          "#f7f7f7"
                        ],
                        [
                          0.6,
                          "#e6f5d0"
                        ],
                        [
                          0.7,
                          "#b8e186"
                        ],
                        [
                          0.8,
                          "#7fbc41"
                        ],
                        [
                          0.9,
                          "#4d9221"
                        ],
                        [
                          1,
                          "#276419"
                        ]
                      ],
                      "sequential": [
                        [
                          0,
                          "#0d0887"
                        ],
                        [
                          0.1111111111111111,
                          "#46039f"
                        ],
                        [
                          0.2222222222222222,
                          "#7201a8"
                        ],
                        [
                          0.3333333333333333,
                          "#9c179e"
                        ],
                        [
                          0.4444444444444444,
                          "#bd3786"
                        ],
                        [
                          0.5555555555555556,
                          "#d8576b"
                        ],
                        [
                          0.6666666666666666,
                          "#ed7953"
                        ],
                        [
                          0.7777777777777778,
                          "#fb9f3a"
                        ],
                        [
                          0.8888888888888888,
                          "#fdca26"
                        ],
                        [
                          1,
                          "#f0f921"
                        ]
                      ],
                      "sequentialminus": [
                        [
                          0,
                          "#0d0887"
                        ],
                        [
                          0.1111111111111111,
                          "#46039f"
                        ],
                        [
                          0.2222222222222222,
                          "#7201a8"
                        ],
                        [
                          0.3333333333333333,
                          "#9c179e"
                        ],
                        [
                          0.4444444444444444,
                          "#bd3786"
                        ],
                        [
                          0.5555555555555556,
                          "#d8576b"
                        ],
                        [
                          0.6666666666666666,
                          "#ed7953"
                        ],
                        [
                          0.7777777777777778,
                          "#fb9f3a"
                        ],
                        [
                          0.8888888888888888,
                          "#fdca26"
                        ],
                        [
                          1,
                          "#f0f921"
                        ]
                      ]
                    },
                    "colorway": [
                      "#636efa",
                      "#EF553B",
                      "#00cc96",
                      "#ab63fa",
                      "#FFA15A",
                      "#19d3f3",
                      "#FF6692",
                      "#B6E880",
                      "#FF97FF",
                      "#FECB52"
                    ],
                    "font": {
                      "color": "#f2f5fa"
                    },
                    "geo": {
                      "bgcolor": "rgb(17,17,17)",
                      "lakecolor": "rgb(17,17,17)",
                      "landcolor": "rgb(17,17,17)",
                      "showlakes": true,
                      "showland": true,
                      "subunitcolor": "#506784"
                    },
                    "hoverlabel": {
                      "align": "left"
                    },
                    "hovermode": "closest",
                    "mapbox": {
                      "style": "dark"
                    },
                    "paper_bgcolor": "rgb(17,17,17)",
                    "plot_bgcolor": "rgb(17,17,17)",
                    "polar": {
                      "angularaxis": {
                        "gridcolor": "#506784",
                        "linecolor": "#506784",
                        "ticks": ""
                      },
                      "bgcolor": "rgb(17,17,17)",
                      "radialaxis": {
                        "gridcolor": "#506784",
                        "linecolor": "#506784",
                        "ticks": ""
                      }
                    },
                    "scene": {
                      "xaxis": {
                        "backgroundcolor": "rgb(17,17,17)",
                        "gridcolor": "#506784",
                        "gridwidth": 2,
                        "linecolor": "#506784",
                        "showbackground": true,
                        "ticks": "",
                        "zerolinecolor": "#C8D4E3"
                      },
                      "yaxis": {
                        "backgroundcolor": "rgb(17,17,17)",
                        "gridcolor": "#506784",
                        "gridwidth": 2,
                        "linecolor": "#506784",
                        "showbackground": true,
                        "ticks": "",
                        "zerolinecolor": "#C8D4E3"
                      },
                      "zaxis": {
                        "backgroundcolor": "rgb(17,17,17)",
                        "gridcolor": "#506784",
                        "gridwidth": 2,
                        "linecolor": "#506784",
                        "showbackground": true,
                        "ticks": "",
                        "zerolinecolor": "#C8D4E3"
                      }
                    },
                    "shapedefaults": {
                      "line": {
                        "color": "#f2f5fa"
                      }
                    },
                    "sliderdefaults": {
                      "bgcolor": "#C8D4E3",
                      "bordercolor": "rgb(17,17,17)",
                      "borderwidth": 1,
                      "tickwidth": 0
                    },
                    "ternary": {
                      "aaxis": {
                        "gridcolor": "#506784",
                        "linecolor": "#506784",
                        "ticks": ""
                      },
                      "baxis": {
                        "gridcolor": "#506784",
                        "linecolor": "#506784",
                        "ticks": ""
                      },
                      "bgcolor": "rgb(17,17,17)",
                      "caxis": {
                        "gridcolor": "#506784",
                        "linecolor": "#506784",
                        "ticks": ""
                      }
                    },
                    "title": {
                      "x": 0.05
                    },
                    "updatemenudefaults": {
                      "bgcolor": "#506784",
                      "borderwidth": 0
                    },
                    "xaxis": {
                      "automargin": true,
                      "gridcolor": "#283442",
                      "linecolor": "#506784",
                      "ticks": "",
                      "title": {
                        "standoff": 15
                      },
                      "zerolinecolor": "#283442",
                      "zerolinewidth": 2
                    },
                    "yaxis": {
                      "automargin": true,
                      "gridcolor": "#283442",
                      "linecolor": "#506784",
                      "ticks": "",
                      "title": {
                        "standoff": 15
                      },
                      "zerolinecolor": "#283442",
                      "zerolinewidth": 2
                    }
                  }
                },
                "title": {
                  "text": "Crime Evolution Over the Years"
                },
                "xaxis": {
                  "anchor": "y",
                  "domain": [
                    0,
                    1
                  ],
                  "title": {
                    "text": "timestamp"
                  },
                  "type": "category"
                },
                "yaxis": {
                  "anchor": "x",
                  "domain": [
                    0,
                    1
                  ],
                  "title": {
                    "text": "Number of Incidents"
                  }
                }
              }
            }
          },
          "metadata": {},
          "output_type": "display_data"
        }
      ],
      "source": [
        "# Evolution of crime over the years\n",
        "crime_by_year = crime_data.groupby([crime_data['timestamp'].dt.year, 'type']).size().reset_index(name='count')\n",
        "\n",
        "# Plot the data\n",
        "fig = px.line(crime_by_year, x='timestamp', y='count', color='type',\n",
        "              markers=True, line_dash='type', labels={'count': 'Number of Incidents'},\n",
        "              title='Crime Evolution Over the Years',\n",
        "              template='plotly_dark')\n",
        "\n",
        "fig.update_xaxes(type='category')  # Ensure x-axis is treated as categorical\n",
        "fig.show()\n"
      ]
    },
    {
      "cell_type": "markdown",
      "metadata": {
        "id": "jo5pS4lyfjpp"
      },
      "source": [
        "Are there any visible pattern or trend of crimes occurred during the each day of a month?\n",
        "The chart shows the number of incidents for each type of crime over the years, allowing for easy comparison of the different types of crimes and how they have evolved over time. It can help to identify trends or patterns in the data, such as which types of crimes are increasing or decreasing, and whether there are any seasonal patterns in the data.\n"
      ]
    },
    {
      "cell_type": "code",
      "execution_count": 14,
      "metadata": {
        "id": "yOVnK9elfjpp",
        "outputId": "2a1903c3-5d9f-4cd5-8896-cb131c28ad3f"
      },
      "outputs": [
        {
          "data": {
            "image/png": "[encoded data removed]",
            "text/plain": [
              "<Figure size 1500x800 with 2 Axes>"
            ]
          },
          "metadata": {},
          "output_type": "display_data"
        }
      ],
      "source": [
        "\n",
        "# Group data by month and day\n",
        "crime_by_month_day = crime_data.groupby([crime_data['timestamp'].dt.month, crime_data['timestamp'].dt.day]).size().unstack()\n",
        "# Plot heatmap\n",
        "plt.figure(figsize=(15, 8))\n",
        "sns.heatmap(crime_by_month_day, cmap='YlGnBu', annot=False, cbar_kws={'label': 'Number of Incidents'})\n",
        "plt.title('Occurrences of Crimes by Month and Day')\n",
        "plt.xlabel('Day')\n",
        "plt.ylabel('Month')\n",
        "plt.show()\n"
      ]
    },
    {
      "cell_type": "markdown",
      "metadata": {
        "id": "034jqDIqfjpp"
      },
      "source": [
        "The resulting heatmap shows the number of incidents for each day of the month and each month. It can help to identify patterns or trends in the data, such as which days or months have the highest or lowest number of incidents.\n",
        "\n",
        "This heatmap is a powerful tool for visualizing the number of crimes that occur by month and day. It can help to identify patterns and trends in the data, such as which days or months have the highest or lowest number of incidents. This information can be used to inform policy decisions, allocate resources, and evaluate the effectiveness of crime prevention strategies.\n"
      ]
    },
    {
      "cell_type": "code",
      "execution_count": 15,
      "metadata": {
        "id": "yuwVv4ylfjpp",
        "outputId": "00b83bb8-3137-4ce8-fe77-a0cbcaf05236"
      },
      "outputs": [
        {
          "data": {
            "text/plain": [
              "Theft from Vehicle                                        243587\n",
              "Other Theft                                               220227\n",
              "Mischief                                                  107518\n",
              "Offence Against a Person                                   77092\n",
              "Break and Enter Residential/Other                          72579\n",
              "Break and Enter Commercial                                 47907\n",
              "Theft of Vehicle                                           44959\n",
              "Theft of Bicycle                                           37280\n",
              "Vehicle Collision or Pedestrian Struck (with Injury)       29266\n",
              "Vehicle Collision or Pedestrian Struck (with Fatality)       357\n",
              "Homicide                                                     315\n",
              "Name: type, dtype: int64"
            ]
          },
          "execution_count": 15,
          "metadata": {},
          "output_type": "execute_result"
        }
      ],
      "source": [
        "crime_data['type'].value_counts()"
      ]
    },
    {
      "cell_type": "markdown",
      "metadata": {
        "id": "2MW4FOVYmkk8"
      },
      "source": [
        "This table shows the count of each crime showing that Theft from vehicles is the most frequent crime in the city.\n"
      ]
    },
    {
      "cell_type": "code",
      "execution_count": 16,
      "metadata": {
        "id": "7o_d6-7Ofjpp",
        "outputId": "b2ef9a20-21c6-4fb7-9bd6-173357dd438f",
        "scrolled": true
      },
      "outputs": [
        {
          "data": {
            "text/html": [
              "<div>\n",
              "<style scoped>\n",
              "    .dataframe tbody tr th:only-of-type {\n",
              "        vertical-align: middle;\n",
              "    }\n",
              "\n",
              "    .dataframe tbody tr th {\n",
              "        vertical-align: top;\n",
              "    }\n",
              "\n",
              "    .dataframe thead th {\n",
              "        text-align: right;\n",
              "    }\n",
              "</style>\n",
              "<table border=\"1\" class=\"dataframe\">\n",
              "  <thead>\n",
              "    <tr style=\"text-align: right;\">\n",
              "      <th></th>\n",
              "      <th>type</th>\n",
              "      <th>hundred_block</th>\n",
              "      <th>neighbourhood</th>\n",
              "      <th>x</th>\n",
              "      <th>y</th>\n",
              "      <th>timestamp</th>\n",
              "      <th>day_of_week</th>\n",
              "      <th>category</th>\n",
              "    </tr>\n",
              "  </thead>\n",
              "  <tbody>\n",
              "    <tr>\n",
              "      <th>1</th>\n",
              "      <td>Break and Enter Commercial</td>\n",
              "      <td>SITKA SQ</td>\n",
              "      <td>Fairview</td>\n",
              "      <td>490612.9648</td>\n",
              "      <td>5.457110e+06</td>\n",
              "      <td>2019-03-07 02:06:00</td>\n",
              "      <td>Thursday</td>\n",
              "      <td>Break and Enter</td>\n",
              "    </tr>\n",
              "    <tr>\n",
              "      <th>2</th>\n",
              "      <td>Break and Enter Commercial</td>\n",
              "      <td>ALBERNI ST</td>\n",
              "      <td>West End</td>\n",
              "      <td>491004.8164</td>\n",
              "      <td>5.459177e+06</td>\n",
              "      <td>2019-08-27 04:12:00</td>\n",
              "      <td>Tuesday</td>\n",
              "      <td>Break and Enter</td>\n",
              "    </tr>\n",
              "    <tr>\n",
              "      <th>3</th>\n",
              "      <td>Break and Enter Commercial</td>\n",
              "      <td>ALBERNI ST</td>\n",
              "      <td>West End</td>\n",
              "      <td>491007.7798</td>\n",
              "      <td>5.459174e+06</td>\n",
              "      <td>2021-04-26 04:44:00</td>\n",
              "      <td>Monday</td>\n",
              "      <td>Break and Enter</td>\n",
              "    </tr>\n",
              "    <tr>\n",
              "      <th>4</th>\n",
              "      <td>Break and Enter Commercial</td>\n",
              "      <td>ALBERNI ST</td>\n",
              "      <td>West End</td>\n",
              "      <td>491015.9434</td>\n",
              "      <td>5.459166e+06</td>\n",
              "      <td>2014-08-08 05:13:00</td>\n",
              "      <td>Friday</td>\n",
              "      <td>Break and Enter</td>\n",
              "    </tr>\n",
              "    <tr>\n",
              "      <th>5</th>\n",
              "      <td>Break and Enter Commercial</td>\n",
              "      <td>ALBERNI ST</td>\n",
              "      <td>West End</td>\n",
              "      <td>491015.9434</td>\n",
              "      <td>5.459166e+06</td>\n",
              "      <td>2020-07-28 19:12:00</td>\n",
              "      <td>Tuesday</td>\n",
              "      <td>Break and Enter</td>\n",
              "    </tr>\n",
              "    <tr>\n",
              "      <th>...</th>\n",
              "      <td>...</td>\n",
              "      <td>...</td>\n",
              "      <td>...</td>\n",
              "      <td>...</td>\n",
              "      <td>...</td>\n",
              "      <td>...</td>\n",
              "      <td>...</td>\n",
              "      <td>...</td>\n",
              "    </tr>\n",
              "    <tr>\n",
              "      <th>881237</th>\n",
              "      <td>Vehicle Collision or Pedestrian Struck (with I...</td>\n",
              "      <td>YUKON ST / W KING EDWARD AVE</td>\n",
              "      <td>Riley Park</td>\n",
              "      <td>491786.0000</td>\n",
              "      <td>5.455143e+06</td>\n",
              "      <td>2003-09-01 20:45:00</td>\n",
              "      <td>Monday</td>\n",
              "      <td>Vehicle Collision</td>\n",
              "    </tr>\n",
              "    <tr>\n",
              "      <th>881238</th>\n",
              "      <td>Vehicle Collision or Pedestrian Struck (with I...</td>\n",
              "      <td>YUKON ST / W KING EDWARD AVE</td>\n",
              "      <td>Riley Park</td>\n",
              "      <td>491786.0000</td>\n",
              "      <td>5.455143e+06</td>\n",
              "      <td>2005-07-20 18:57:00</td>\n",
              "      <td>Wednesday</td>\n",
              "      <td>Vehicle Collision</td>\n",
              "    </tr>\n",
              "    <tr>\n",
              "      <th>881239</th>\n",
              "      <td>Vehicle Collision or Pedestrian Struck (with I...</td>\n",
              "      <td>YUKON ST / W KING EDWARD AVE</td>\n",
              "      <td>Riley Park</td>\n",
              "      <td>491786.0000</td>\n",
              "      <td>5.455143e+06</td>\n",
              "      <td>2016-06-20 18:11:00</td>\n",
              "      <td>Monday</td>\n",
              "      <td>Vehicle Collision</td>\n",
              "    </tr>\n",
              "    <tr>\n",
              "      <th>881240</th>\n",
              "      <td>Vehicle Collision or Pedestrian Struck (with I...</td>\n",
              "      <td>YUKON ST / W KING EDWARD AVE</td>\n",
              "      <td>Riley Park</td>\n",
              "      <td>491835.0000</td>\n",
              "      <td>5.455126e+06</td>\n",
              "      <td>2013-12-03 09:49:00</td>\n",
              "      <td>Tuesday</td>\n",
              "      <td>Vehicle Collision</td>\n",
              "    </tr>\n",
              "    <tr>\n",
              "      <th>881241</th>\n",
              "      <td>Vehicle Collision or Pedestrian Struck (with I...</td>\n",
              "      <td>YUKON ST / W KING EDWARD AVE</td>\n",
              "      <td>Riley Park</td>\n",
              "      <td>491835.0000</td>\n",
              "      <td>5.455126e+06</td>\n",
              "      <td>2013-12-27 14:40:00</td>\n",
              "      <td>Friday</td>\n",
              "      <td>Vehicle Collision</td>\n",
              "    </tr>\n",
              "  </tbody>\n",
              "</table>\n",
              "<p>881087 rows × 8 columns</p>\n",
              "</div>"
            ],
            "text/plain": [
              "                                                     type  \\\n",
              "1                              Break and Enter Commercial   \n",
              "2                              Break and Enter Commercial   \n",
              "3                              Break and Enter Commercial   \n",
              "4                              Break and Enter Commercial   \n",
              "5                              Break and Enter Commercial   \n",
              "...                                                   ...   \n",
              "881237  Vehicle Collision or Pedestrian Struck (with I...   \n",
              "881238  Vehicle Collision or Pedestrian Struck (with I...   \n",
              "881239  Vehicle Collision or Pedestrian Struck (with I...   \n",
              "881240  Vehicle Collision or Pedestrian Struck (with I...   \n",
              "881241  Vehicle Collision or Pedestrian Struck (with I...   \n",
              "\n",
              "                       hundred_block neighbourhood            x             y  \\\n",
              "1                           SITKA SQ      Fairview  490612.9648  5.457110e+06   \n",
              "2                         ALBERNI ST      West End  491004.8164  5.459177e+06   \n",
              "3                         ALBERNI ST      West End  491007.7798  5.459174e+06   \n",
              "4                         ALBERNI ST      West End  491015.9434  5.459166e+06   \n",
              "5                         ALBERNI ST      West End  491015.9434  5.459166e+06   \n",
              "...                              ...           ...          ...           ...   \n",
              "881237  YUKON ST / W KING EDWARD AVE    Riley Park  491786.0000  5.455143e+06   \n",
              "881238  YUKON ST / W KING EDWARD AVE    Riley Park  491786.0000  5.455143e+06   \n",
              "881239  YUKON ST / W KING EDWARD AVE    Riley Park  491786.0000  5.455143e+06   \n",
              "881240  YUKON ST / W KING EDWARD AVE    Riley Park  491835.0000  5.455126e+06   \n",
              "881241  YUKON ST / W KING EDWARD AVE    Riley Park  491835.0000  5.455126e+06   \n",
              "\n",
              "                 timestamp day_of_week           category  \n",
              "1      2019-03-07 02:06:00    Thursday    Break and Enter  \n",
              "2      2019-08-27 04:12:00     Tuesday    Break and Enter  \n",
              "3      2021-04-26 04:44:00      Monday    Break and Enter  \n",
              "4      2014-08-08 05:13:00      Friday    Break and Enter  \n",
              "5      2020-07-28 19:12:00     Tuesday    Break and Enter  \n",
              "...                    ...         ...                ...  \n",
              "881237 2003-09-01 20:45:00      Monday  Vehicle Collision  \n",
              "881238 2005-07-20 18:57:00   Wednesday  Vehicle Collision  \n",
              "881239 2016-06-20 18:11:00      Monday  Vehicle Collision  \n",
              "881240 2013-12-03 09:49:00     Tuesday  Vehicle Collision  \n",
              "881241 2013-12-27 14:40:00      Friday  Vehicle Collision  \n",
              "\n",
              "[881087 rows x 8 columns]"
            ]
          },
          "execution_count": 16,
          "metadata": {},
          "output_type": "execute_result"
        }
      ],
      "source": [
        "category_mapping = {\n",
        "    'Theft from Vehicle': 'Theft',\n",
        "    'Other Theft': 'Theft',\n",
        "    'Mischief': 'Mischief',\n",
        "    'Offence Against a Person': 'Assault',\n",
        "    'Break and Enter Residential/Other': 'Break and Enter',\n",
        "    'Break and Enter Commercial': 'Break and Enter',\n",
        "    'Theft of Vehicle': 'Theft',\n",
        "    'Theft of Bicycle': 'Theft',\n",
        "    'Vehicle Collision or Pedestrian Struck (with Injury)': 'Vehicle Collision',\n",
        "    'Vehicle Collision or Pedestrian Struck (with Fatality)': 'Vehicle Collision',\n",
        "    'Homicide': 'Homicide'\n",
        "}\n",
        "crime_data['category'] = crime_data['type'].map(category_mapping)\n",
        "crime_data"
      ]
    },
    {
      "cell_type": "markdown",
      "metadata": {},
      "source": [
        "Map function is used on the 'type' column by extracting the values from it and restructured as category column for better EDA process."
      ]
    },
    {
      "cell_type": "code",
      "execution_count": 17,
      "metadata": {},
      "outputs": [
        {
          "data": {
            "text/plain": [
              "array(['Break and Enter', 'Homicide', 'Mischief', 'Assault', 'Theft',\n",
              "       'Vehicle Collision'], dtype=object)"
            ]
          },
          "execution_count": 17,
          "metadata": {},
          "output_type": "execute_result"
        }
      ],
      "source": [
        "crime_data['category'].unique()"
      ]
    },
    {
      "cell_type": "code",
      "execution_count": 18,
      "metadata": {},
      "outputs": [
        {
          "name": "stdout",
          "output_type": "stream",
          "text": [
            "            Category   Count\n",
            "0              Theft  546053\n",
            "1    Break and Enter  120486\n",
            "2           Mischief  107518\n",
            "3            Assault   77092\n",
            "4  Vehicle Collision   29623\n",
            "5           Homicide     315\n"
          ]
        }
      ],
      "source": [
        "category_counts = crime_data['category'].value_counts().reset_index()\n",
        "category_counts.columns = ['Category', 'Count']\n",
        "\n",
        "print(category_counts)"
      ]
    },
    {
      "cell_type": "markdown",
      "metadata": {},
      "source": [
        "A new dataframe is created for the number of each crime happened and stored under the category counts variable."
      ]
    },
    {
      "cell_type": "code",
      "execution_count": 19,
      "metadata": {},
      "outputs": [
        {
          "data": {
            "image/png": "[encoded data removed]",
            "text/plain": [
              "<Figure size 1200x800 with 6 Axes>"
            ]
          },
          "metadata": {},
          "output_type": "display_data"
        }
      ],
      "source": [
        "plt.figure(figsize=(12, 8))\n",
        "for index, row in category_counts.iterrows():\n",
        "    category_data = crime_data[crime_data['category'] == row['Category']]\n",
        "    plt.subplot(2, 3, index + 1)  \n",
        "    sns.boxplot(x='category', y='y', data=category_data)  \n",
        "    plt.title(f'Box Plot for {row[\"Category\"]}')\n",
        "    plt.xlabel('Category')\n",
        "    plt.ylabel('Numerical Value (e.g., Y-coordinate)')\n",
        "\n",
        "plt.tight_layout()\n",
        "plt.show()"
      ]
    },
    {
      "cell_type": "markdown",
      "metadata": {},
      "source": [
        "Using the category_counts dataframe, the values are subsetted into 6 different boxplot with the number of counts of each crime happened. From the boxplot it can be interpreted that theft and mischeif has outliers."
      ]
    },
    {
      "cell_type": "markdown",
      "metadata": {
        "id": "RV8rfS4em6Zh"
      },
      "source": [
        "The bar plot shows the crimes by grouping various crimes in a single type.\n"
      ]
    },
    {
      "cell_type": "code",
      "execution_count": 20,
      "metadata": {},
      "outputs": [
        {
          "name": "stdout",
          "output_type": "stream",
          "text": [
            "<class 'pandas.core.frame.DataFrame'>\n",
            "Int64Index: 881087 entries, 1 to 881241\n",
            "Data columns (total 8 columns):\n",
            " #   Column         Non-Null Count   Dtype         \n",
            "---  ------         --------------   -----         \n",
            " 0   type           881087 non-null  object        \n",
            " 1   hundred_block  881087 non-null  object        \n",
            " 2   neighbourhood  881087 non-null  object        \n",
            " 3   x              881087 non-null  float64       \n",
            " 4   y              881087 non-null  float64       \n",
            " 5   timestamp      881087 non-null  datetime64[ns]\n",
            " 6   day_of_week    881087 non-null  object        \n",
            " 7   category       881087 non-null  object        \n",
            "dtypes: datetime64[ns](1), float64(2), object(5)\n",
            "memory usage: 92.7+ MB\n"
          ]
        }
      ],
      "source": [
        "crime_data.info()"
      ]
    },
    {
      "cell_type": "code",
      "execution_count": 21,
      "metadata": {
        "id": "r8qa53vrfjpq",
        "outputId": "ed46d3a8-0ccd-4b28-de6d-875080e325cf"
      },
      "outputs": [
        {
          "data": {
            "application/vnd.plotly.v1+json": {
              "config": {
                "plotlyServerURL": "https://plot.ly"
              },
              "data": [
                {
                  "alignmentgroup": "True",
                  "hovertemplate": "Category=Assault<br>Neighbourhood=%{x}<br>Count=%{y}<extra></extra>",
                  "legendgroup": "Assault",
                  "marker": {
                    "color": "#636efa",
                    "pattern": {
                      "shape": ""
                    }
                  },
                  "name": "Assault",
                  "offsetgroup": "Assault",
                  "orientation": "v",
                  "showlegend": true,
                  "textposition": "auto",
                  "type": "bar",
                  "x": [
                    "Arbutus Ridge",
                    "Central Business District",
                    "Dunbar-Southlands",
                    "Fairview",
                    "Grandview-Woodland",
                    "Hastings-Sunrise",
                    "Kensington-Cedar Cottage",
                    "Kerrisdale",
                    "Killarney",
                    "Kitsilano",
                    "Marpole",
                    "Mount Pleasant",
                    "Musqueam",
                    "Oakridge",
                    "Renfrew-Collingwood",
                    "Riley Park",
                    "Shaughnessy",
                    "South Cambie",
                    "Stanley Park",
                    "Strathcona",
                    "Sunset",
                    "Victoria-Fraserview",
                    "West End",
                    "West Point Grey"
                  ],
                  "xaxis": "x",
                  "y": [
                    365,
                    22965,
                    445,
                    2001,
                    6219,
                    2272,
                    3623,
                    396,
                    1308,
                    1720,
                    1525,
                    3892,
                    298,
                    678,
                    3967,
                    1229,
                    404,
                    401,
                    339,
                    10035,
                    2556,
                    1546,
                    8430,
                    478
                  ],
                  "yaxis": "y"
                },
                {
                  "alignmentgroup": "True",
                  "hovertemplate": "Category=Break and Enter<br>Neighbourhood=%{x}<br>Count=%{y}<extra></extra>",
                  "legendgroup": "Break and Enter",
                  "marker": {
                    "color": "#EF553B",
                    "pattern": {
                      "shape": ""
                    }
                  },
                  "name": "Break and Enter",
                  "offsetgroup": "Break and Enter",
                  "orientation": "v",
                  "showlegend": true,
                  "textposition": "auto",
                  "type": "bar",
                  "x": [
                    "Arbutus Ridge",
                    "Central Business District",
                    "Dunbar-Southlands",
                    "Fairview",
                    "Grandview-Woodland",
                    "Hastings-Sunrise",
                    "Kensington-Cedar Cottage",
                    "Kerrisdale",
                    "Killarney",
                    "Kitsilano",
                    "Marpole",
                    "Mount Pleasant",
                    "Musqueam",
                    "Oakridge",
                    "Renfrew-Collingwood",
                    "Riley Park",
                    "Shaughnessy",
                    "South Cambie",
                    "Stanley Park",
                    "Strathcona",
                    "Sunset",
                    "Victoria-Fraserview",
                    "West End",
                    "West Point Grey"
                  ],
                  "xaxis": "x",
                  "y": [
                    2463,
                    17823,
                    2662,
                    8753,
                    8204,
                    5111,
                    6592,
                    2826,
                    2918,
                    7916,
                    4593,
                    8067,
                    122,
                    3080,
                    6626,
                    4488,
                    2528,
                    1872,
                    183,
                    5903,
                    4356,
                    3326,
                    7977,
                    2097
                  ],
                  "yaxis": "y"
                },
                {
                  "alignmentgroup": "True",
                  "hovertemplate": "Category=Homicide<br>Neighbourhood=%{x}<br>Count=%{y}<extra></extra>",
                  "legendgroup": "Homicide",
                  "marker": {
                    "color": "#00cc96",
                    "pattern": {
                      "shape": ""
                    }
                  },
                  "name": "Homicide",
                  "offsetgroup": "Homicide",
                  "orientation": "v",
                  "showlegend": true,
                  "textposition": "auto",
                  "type": "bar",
                  "x": [
                    "Arbutus Ridge",
                    "Central Business District",
                    "Dunbar-Southlands",
                    "Fairview",
                    "Grandview-Woodland",
                    "Hastings-Sunrise",
                    "Kensington-Cedar Cottage",
                    "Kerrisdale",
                    "Killarney",
                    "Kitsilano",
                    "Marpole",
                    "Mount Pleasant",
                    "Oakridge",
                    "Renfrew-Collingwood",
                    "Riley Park",
                    "Shaughnessy",
                    "South Cambie",
                    "Stanley Park",
                    "Strathcona",
                    "Sunset",
                    "Victoria-Fraserview",
                    "West End",
                    "West Point Grey"
                  ],
                  "xaxis": "x",
                  "y": [
                    2,
                    79,
                    1,
                    7,
                    20,
                    17,
                    20,
                    3,
                    13,
                    7,
                    7,
                    16,
                    2,
                    22,
                    7,
                    1,
                    3,
                    4,
                    36,
                    21,
                    10,
                    13,
                    4
                  ],
                  "yaxis": "y"
                },
                {
                  "alignmentgroup": "True",
                  "hovertemplate": "Category=Mischief<br>Neighbourhood=%{x}<br>Count=%{y}<extra></extra>",
                  "legendgroup": "Mischief",
                  "marker": {
                    "color": "#ab63fa",
                    "pattern": {
                      "shape": ""
                    }
                  },
                  "name": "Mischief",
                  "offsetgroup": "Mischief",
                  "orientation": "v",
                  "showlegend": true,
                  "textposition": "auto",
                  "type": "bar",
                  "x": [
                    "Arbutus Ridge",
                    "Central Business District",
                    "Dunbar-Southlands",
                    "Fairview",
                    "Grandview-Woodland",
                    "Hastings-Sunrise",
                    "Kensington-Cedar Cottage",
                    "Kerrisdale",
                    "Killarney",
                    "Kitsilano",
                    "Marpole",
                    "Mount Pleasant",
                    "Musqueam",
                    "Oakridge",
                    "Renfrew-Collingwood",
                    "Riley Park",
                    "Shaughnessy",
                    "South Cambie",
                    "Stanley Park",
                    "Strathcona",
                    "Sunset",
                    "Victoria-Fraserview",
                    "West End",
                    "West Point Grey"
                  ],
                  "xaxis": "x",
                  "y": [
                    1237,
                    29654,
                    1730,
                    4810,
                    6974,
                    4228,
                    5413,
                    1386,
                    2317,
                    5098,
                    2722,
                    6233,
                    135,
                    1240,
                    5407,
                    2552,
                    887,
                    933,
                    343,
                    8375,
                    4226,
                    2370,
                    8037,
                    1211
                  ],
                  "yaxis": "y"
                },
                {
                  "alignmentgroup": "True",
                  "hovertemplate": "Category=Theft<br>Neighbourhood=%{x}<br>Count=%{y}<extra></extra>",
                  "legendgroup": "Theft",
                  "marker": {
                    "color": "#FFA15A",
                    "pattern": {
                      "shape": ""
                    }
                  },
                  "name": "Theft",
                  "offsetgroup": "Theft",
                  "orientation": "v",
                  "showlegend": true,
                  "textposition": "auto",
                  "type": "bar",
                  "x": [
                    "Arbutus Ridge",
                    "Central Business District",
                    "Dunbar-Southlands",
                    "Fairview",
                    "Grandview-Woodland",
                    "Hastings-Sunrise",
                    "Kensington-Cedar Cottage",
                    "Kerrisdale",
                    "Killarney",
                    "Kitsilano",
                    "Marpole",
                    "Mount Pleasant",
                    "Musqueam",
                    "Oakridge",
                    "Renfrew-Collingwood",
                    "Riley Park",
                    "Shaughnessy",
                    "South Cambie",
                    "Stanley Park",
                    "Strathcona",
                    "Sunset",
                    "Victoria-Fraserview",
                    "West End",
                    "West Point Grey"
                  ],
                  "xaxis": "x",
                  "y": [
                    4939,
                    162740,
                    6279,
                    36833,
                    26375,
                    17027,
                    24027,
                    6287,
                    9234,
                    26799,
                    11924,
                    35110,
                    384,
                    7594,
                    29491,
                    11856,
                    4089,
                    5478,
                    4528,
                    30845,
                    16604,
                    9247,
                    52953,
                    5410
                  ],
                  "yaxis": "y"
                },
                {
                  "alignmentgroup": "True",
                  "hovertemplate": "Category=Vehicle Collision<br>Neighbourhood=%{x}<br>Count=%{y}<extra></extra>",
                  "legendgroup": "Vehicle Collision",
                  "marker": {
                    "color": "#19d3f3",
                    "pattern": {
                      "shape": ""
                    }
                  },
                  "name": "Vehicle Collision",
                  "offsetgroup": "Vehicle Collision",
                  "orientation": "v",
                  "showlegend": true,
                  "textposition": "auto",
                  "type": "bar",
                  "x": [
                    "Arbutus Ridge",
                    "Central Business District",
                    "Dunbar-Southlands",
                    "Fairview",
                    "Grandview-Woodland",
                    "Hastings-Sunrise",
                    "Kensington-Cedar Cottage",
                    "Kerrisdale",
                    "Killarney",
                    "Kitsilano",
                    "Marpole",
                    "Mount Pleasant",
                    "Musqueam",
                    "Oakridge",
                    "Renfrew-Collingwood",
                    "Riley Park",
                    "Shaughnessy",
                    "South Cambie",
                    "Stanley Park",
                    "Strathcona",
                    "Sunset",
                    "Victoria-Fraserview",
                    "West End",
                    "West Point Grey"
                  ],
                  "xaxis": "x",
                  "y": [
                    395,
                    4446,
                    382,
                    1503,
                    1596,
                    1669,
                    2030,
                    645,
                    807,
                    1382,
                    1278,
                    2174,
                    77,
                    570,
                    1925,
                    894,
                    766,
                    298,
                    291,
                    1615,
                    1792,
                    1094,
                    1592,
                    402
                  ],
                  "yaxis": "y"
                }
              ],
              "layout": {
                "barmode": "relative",
                "legend": {
                  "title": {
                    "text": "Category"
                  },
                  "tracegroupgap": 0
                },
                "template": {
                  "data": {
                    "bar": [
                      {
                        "error_x": {
                          "color": "#2a3f5f"
                        },
                        "error_y": {
                          "color": "#2a3f5f"
                        },
                        "marker": {
                          "line": {
                            "color": "#E5ECF6",
                            "width": 0.5
                          },
                          "pattern": {
                            "fillmode": "overlay",
                            "size": 10,
                            "solidity": 0.2
                          }
                        },
                        "type": "bar"
                      }
                    ],
                    "barpolar": [
                      {
                        "marker": {
                          "line": {
                            "color": "#E5ECF6",
                            "width": 0.5
                          },
                          "pattern": {
                            "fillmode": "overlay",
                            "size": 10,
                            "solidity": 0.2
                          }
                        },
                        "type": "barpolar"
                      }
                    ],
                    "carpet": [
                      {
                        "aaxis": {
                          "endlinecolor": "#2a3f5f",
                          "gridcolor": "white",
                          "linecolor": "white",
                          "minorgridcolor": "white",
                          "startlinecolor": "#2a3f5f"
                        },
                        "baxis": {
                          "endlinecolor": "#2a3f5f",
                          "gridcolor": "white",
                          "linecolor": "white",
                          "minorgridcolor": "white",
                          "startlinecolor": "#2a3f5f"
                        },
                        "type": "carpet"
                      }
                    ],
                    "choropleth": [
                      {
                        "colorbar": {
                          "outlinewidth": 0,
                          "ticks": ""
                        },
                        "type": "choropleth"
                      }
                    ],
                    "contour": [
                      {
                        "colorbar": {
                          "outlinewidth": 0,
                          "ticks": ""
                        },
                        "colorscale": [
                          [
                            0,
                            "#0d0887"
                          ],
                          [
                            0.1111111111111111,
                            "#46039f"
                          ],
                          [
                            0.2222222222222222,
                            "#7201a8"
                          ],
                          [
                            0.3333333333333333,
                            "#9c179e"
                          ],
                          [
                            0.4444444444444444,
                            "#bd3786"
                          ],
                          [
                            0.5555555555555556,
                            "#d8576b"
                          ],
                          [
                            0.6666666666666666,
                            "#ed7953"
                          ],
                          [
                            0.7777777777777778,
                            "#fb9f3a"
                          ],
                          [
                            0.8888888888888888,
                            "#fdca26"
                          ],
                          [
                            1,
                            "#f0f921"
                          ]
                        ],
                        "type": "contour"
                      }
                    ],
                    "contourcarpet": [
                      {
                        "colorbar": {
                          "outlinewidth": 0,
                          "ticks": ""
                        },
                        "type": "contourcarpet"
                      }
                    ],
                    "heatmap": [
                      {
                        "colorbar": {
                          "outlinewidth": 0,
                          "ticks": ""
                        },
                        "colorscale": [
                          [
                            0,
                            "#0d0887"
                          ],
                          [
                            0.1111111111111111,
                            "#46039f"
                          ],
                          [
                            0.2222222222222222,
                            "#7201a8"
                          ],
                          [
                            0.3333333333333333,
                            "#9c179e"
                          ],
                          [
                            0.4444444444444444,
                            "#bd3786"
                          ],
                          [
                            0.5555555555555556,
                            "#d8576b"
                          ],
                          [
                            0.6666666666666666,
                            "#ed7953"
                          ],
                          [
                            0.7777777777777778,
                            "#fb9f3a"
                          ],
                          [
                            0.8888888888888888,
                            "#fdca26"
                          ],
                          [
                            1,
                            "#f0f921"
                          ]
                        ],
                        "type": "heatmap"
                      }
                    ],
                    "heatmapgl": [
                      {
                        "colorbar": {
                          "outlinewidth": 0,
                          "ticks": ""
                        },
                        "colorscale": [
                          [
                            0,
                            "#0d0887"
                          ],
                          [
                            0.1111111111111111,
                            "#46039f"
                          ],
                          [
                            0.2222222222222222,
                            "#7201a8"
                          ],
                          [
                            0.3333333333333333,
                            "#9c179e"
                          ],
                          [
                            0.4444444444444444,
                            "#bd3786"
                          ],
                          [
                            0.5555555555555556,
                            "#d8576b"
                          ],
                          [
                            0.6666666666666666,
                            "#ed7953"
                          ],
                          [
                            0.7777777777777778,
                            "#fb9f3a"
                          ],
                          [
                            0.8888888888888888,
                            "#fdca26"
                          ],
                          [
                            1,
                            "#f0f921"
                          ]
                        ],
                        "type": "heatmapgl"
                      }
                    ],
                    "histogram": [
                      {
                        "marker": {
                          "pattern": {
                            "fillmode": "overlay",
                            "size": 10,
                            "solidity": 0.2
                          }
                        },
                        "type": "histogram"
                      }
                    ],
                    "histogram2d": [
                      {
                        "colorbar": {
                          "outlinewidth": 0,
                          "ticks": ""
                        },
                        "colorscale": [
                          [
                            0,
                            "#0d0887"
                          ],
                          [
                            0.1111111111111111,
                            "#46039f"
                          ],
                          [
                            0.2222222222222222,
                            "#7201a8"
                          ],
                          [
                            0.3333333333333333,
                            "#9c179e"
                          ],
                          [
                            0.4444444444444444,
                            "#bd3786"
                          ],
                          [
                            0.5555555555555556,
                            "#d8576b"
                          ],
                          [
                            0.6666666666666666,
                            "#ed7953"
                          ],
                          [
                            0.7777777777777778,
                            "#fb9f3a"
                          ],
                          [
                            0.8888888888888888,
                            "#fdca26"
                          ],
                          [
                            1,
                            "#f0f921"
                          ]
                        ],
                        "type": "histogram2d"
                      }
                    ],
                    "histogram2dcontour": [
                      {
                        "colorbar": {
                          "outlinewidth": 0,
                          "ticks": ""
                        },
                        "colorscale": [
                          [
                            0,
                            "#0d0887"
                          ],
                          [
                            0.1111111111111111,
                            "#46039f"
                          ],
                          [
                            0.2222222222222222,
                            "#7201a8"
                          ],
                          [
                            0.3333333333333333,
                            "#9c179e"
                          ],
                          [
                            0.4444444444444444,
                            "#bd3786"
                          ],
                          [
                            0.5555555555555556,
                            "#d8576b"
                          ],
                          [
                            0.6666666666666666,
                            "#ed7953"
                          ],
                          [
                            0.7777777777777778,
                            "#fb9f3a"
                          ],
                          [
                            0.8888888888888888,
                            "#fdca26"
                          ],
                          [
                            1,
                            "#f0f921"
                          ]
                        ],
                        "type": "histogram2dcontour"
                      }
                    ],
                    "mesh3d": [
                      {
                        "colorbar": {
                          "outlinewidth": 0,
                          "ticks": ""
                        },
                        "type": "mesh3d"
                      }
                    ],
                    "parcoords": [
                      {
                        "line": {
                          "colorbar": {
                            "outlinewidth": 0,
                            "ticks": ""
                          }
                        },
                        "type": "parcoords"
                      }
                    ],
                    "pie": [
                      {
                        "automargin": true,
                        "type": "pie"
                      }
                    ],
                    "scatter": [
                      {
                        "fillpattern": {
                          "fillmode": "overlay",
                          "size": 10,
                          "solidity": 0.2
                        },
                        "type": "scatter"
                      }
                    ],
                    "scatter3d": [
                      {
                        "line": {
                          "colorbar": {
                            "outlinewidth": 0,
                            "ticks": ""
                          }
                        },
                        "marker": {
                          "colorbar": {
                            "outlinewidth": 0,
                            "ticks": ""
                          }
                        },
                        "type": "scatter3d"
                      }
                    ],
                    "scattercarpet": [
                      {
                        "marker": {
                          "colorbar": {
                            "outlinewidth": 0,
                            "ticks": ""
                          }
                        },
                        "type": "scattercarpet"
                      }
                    ],
                    "scattergeo": [
                      {
                        "marker": {
                          "colorbar": {
                            "outlinewidth": 0,
                            "ticks": ""
                          }
                        },
                        "type": "scattergeo"
                      }
                    ],
                    "scattergl": [
                      {
                        "marker": {
                          "colorbar": {
                            "outlinewidth": 0,
                            "ticks": ""
                          }
                        },
                        "type": "scattergl"
                      }
                    ],
                    "scattermapbox": [
                      {
                        "marker": {
                          "colorbar": {
                            "outlinewidth": 0,
                            "ticks": ""
                          }
                        },
                        "type": "scattermapbox"
                      }
                    ],
                    "scatterpolar": [
                      {
                        "marker": {
                          "colorbar": {
                            "outlinewidth": 0,
                            "ticks": ""
                          }
                        },
                        "type": "scatterpolar"
                      }
                    ],
                    "scatterpolargl": [
                      {
                        "marker": {
                          "colorbar": {
                            "outlinewidth": 0,
                            "ticks": ""
                          }
                        },
                        "type": "scatterpolargl"
                      }
                    ],
                    "scatterternary": [
                      {
                        "marker": {
                          "colorbar": {
                            "outlinewidth": 0,
                            "ticks": ""
                          }
                        },
                        "type": "scatterternary"
                      }
                    ],
                    "surface": [
                      {
                        "colorbar": {
                          "outlinewidth": 0,
                          "ticks": ""
                        },
                        "colorscale": [
                          [
                            0,
                            "#0d0887"
                          ],
                          [
                            0.1111111111111111,
                            "#46039f"
                          ],
                          [
                            0.2222222222222222,
                            "#7201a8"
                          ],
                          [
                            0.3333333333333333,
                            "#9c179e"
                          ],
                          [
                            0.4444444444444444,
                            "#bd3786"
                          ],
                          [
                            0.5555555555555556,
                            "#d8576b"
                          ],
                          [
                            0.6666666666666666,
                            "#ed7953"
                          ],
                          [
                            0.7777777777777778,
                            "#fb9f3a"
                          ],
                          [
                            0.8888888888888888,
                            "#fdca26"
                          ],
                          [
                            1,
                            "#f0f921"
                          ]
                        ],
                        "type": "surface"
                      }
                    ],
                    "table": [
                      {
                        "cells": {
                          "fill": {
                            "color": "#EBF0F8"
                          },
                          "line": {
                            "color": "white"
                          }
                        },
                        "header": {
                          "fill": {
                            "color": "#C8D4E3"
                          },
                          "line": {
                            "color": "white"
                          }
                        },
                        "type": "table"
                      }
                    ]
                  },
                  "layout": {
                    "annotationdefaults": {
                      "arrowcolor": "#2a3f5f",
                      "arrowhead": 0,
                      "arrowwidth": 1
                    },
                    "autotypenumbers": "strict",
                    "coloraxis": {
                      "colorbar": {
                        "outlinewidth": 0,
                        "ticks": ""
                      }
                    },
                    "colorscale": {
                      "diverging": [
                        [
                          0,
                          "#8e0152"
                        ],
                        [
                          0.1,
                          "#c51b7d"
                        ],
                        [
                          0.2,
                          "#de77ae"
                        ],
                        [
                          0.3,
                          "#f1b6da"
                        ],
                        [
                          0.4,
                          "#fde0ef"
                        ],
                        [
                          0.5,
                          "#f7f7f7"
                        ],
                        [
                          0.6,
                          "#e6f5d0"
                        ],
                        [
                          0.7,
                          "#b8e186"
                        ],
                        [
                          0.8,
                          "#7fbc41"
                        ],
                        [
                          0.9,
                          "#4d9221"
                        ],
                        [
                          1,
                          "#276419"
                        ]
                      ],
                      "sequential": [
                        [
                          0,
                          "#0d0887"
                        ],
                        [
                          0.1111111111111111,
                          "#46039f"
                        ],
                        [
                          0.2222222222222222,
                          "#7201a8"
                        ],
                        [
                          0.3333333333333333,
                          "#9c179e"
                        ],
                        [
                          0.4444444444444444,
                          "#bd3786"
                        ],
                        [
                          0.5555555555555556,
                          "#d8576b"
                        ],
                        [
                          0.6666666666666666,
                          "#ed7953"
                        ],
                        [
                          0.7777777777777778,
                          "#fb9f3a"
                        ],
                        [
                          0.8888888888888888,
                          "#fdca26"
                        ],
                        [
                          1,
                          "#f0f921"
                        ]
                      ],
                      "sequentialminus": [
                        [
                          0,
                          "#0d0887"
                        ],
                        [
                          0.1111111111111111,
                          "#46039f"
                        ],
                        [
                          0.2222222222222222,
                          "#7201a8"
                        ],
                        [
                          0.3333333333333333,
                          "#9c179e"
                        ],
                        [
                          0.4444444444444444,
                          "#bd3786"
                        ],
                        [
                          0.5555555555555556,
                          "#d8576b"
                        ],
                        [
                          0.6666666666666666,
                          "#ed7953"
                        ],
                        [
                          0.7777777777777778,
                          "#fb9f3a"
                        ],
                        [
                          0.8888888888888888,
                          "#fdca26"
                        ],
                        [
                          1,
                          "#f0f921"
                        ]
                      ]
                    },
                    "colorway": [
                      "#636efa",
                      "#EF553B",
                      "#00cc96",
                      "#ab63fa",
                      "#FFA15A",
                      "#19d3f3",
                      "#FF6692",
                      "#B6E880",
                      "#FF97FF",
                      "#FECB52"
                    ],
                    "font": {
                      "color": "#2a3f5f"
                    },
                    "geo": {
                      "bgcolor": "white",
                      "lakecolor": "white",
                      "landcolor": "#E5ECF6",
                      "showlakes": true,
                      "showland": true,
                      "subunitcolor": "white"
                    },
                    "hoverlabel": {
                      "align": "left"
                    },
                    "hovermode": "closest",
                    "mapbox": {
                      "style": "light"
                    },
                    "paper_bgcolor": "white",
                    "plot_bgcolor": "#E5ECF6",
                    "polar": {
                      "angularaxis": {
                        "gridcolor": "white",
                        "linecolor": "white",
                        "ticks": ""
                      },
                      "bgcolor": "#E5ECF6",
                      "radialaxis": {
                        "gridcolor": "white",
                        "linecolor": "white",
                        "ticks": ""
                      }
                    },
                    "scene": {
                      "xaxis": {
                        "backgroundcolor": "#E5ECF6",
                        "gridcolor": "white",
                        "gridwidth": 2,
                        "linecolor": "white",
                        "showbackground": true,
                        "ticks": "",
                        "zerolinecolor": "white"
                      },
                      "yaxis": {
                        "backgroundcolor": "#E5ECF6",
                        "gridcolor": "white",
                        "gridwidth": 2,
                        "linecolor": "white",
                        "showbackground": true,
                        "ticks": "",
                        "zerolinecolor": "white"
                      },
                      "zaxis": {
                        "backgroundcolor": "#E5ECF6",
                        "gridcolor": "white",
                        "gridwidth": 2,
                        "linecolor": "white",
                        "showbackground": true,
                        "ticks": "",
                        "zerolinecolor": "white"
                      }
                    },
                    "shapedefaults": {
                      "line": {
                        "color": "#2a3f5f"
                      }
                    },
                    "ternary": {
                      "aaxis": {
                        "gridcolor": "white",
                        "linecolor": "white",
                        "ticks": ""
                      },
                      "baxis": {
                        "gridcolor": "white",
                        "linecolor": "white",
                        "ticks": ""
                      },
                      "bgcolor": "#E5ECF6",
                      "caxis": {
                        "gridcolor": "white",
                        "linecolor": "white",
                        "ticks": ""
                      }
                    },
                    "title": {
                      "x": 0.05
                    },
                    "xaxis": {
                      "automargin": true,
                      "gridcolor": "white",
                      "linecolor": "white",
                      "ticks": "",
                      "title": {
                        "standoff": 15
                      },
                      "zerolinecolor": "white",
                      "zerolinewidth": 2
                    },
                    "yaxis": {
                      "automargin": true,
                      "gridcolor": "white",
                      "linecolor": "white",
                      "ticks": "",
                      "title": {
                        "standoff": 15
                      },
                      "zerolinecolor": "white",
                      "zerolinewidth": 2
                    }
                  }
                },
                "title": {
                  "text": "Neighborhood vs Category"
                },
                "xaxis": {
                  "anchor": "y",
                  "domain": [
                    0,
                    1
                  ],
                  "title": {
                    "text": "Neighbourhood"
                  }
                },
                "yaxis": {
                  "anchor": "x",
                  "domain": [
                    0,
                    1
                  ],
                  "title": {
                    "text": "Count"
                  }
                }
              }
            }
          },
          "metadata": {},
          "output_type": "display_data"
        }
      ],
      "source": [
        "import plotly.express as px\n",
        "neighbourhood_category_counts = crime_data.groupby(['neighbourhood', 'category']).size().reset_index(name='count')\n",
        "fig = px.bar(neighbourhood_category_counts,\n",
        "             x='neighbourhood',\n",
        "             y='count',\n",
        "             color='category',\n",
        "             title='Neighborhood vs Category',\n",
        "             labels={'neighbourhood': 'Neighbourhood', 'count': 'Count', 'category': 'Category'})\n",
        "fig.show()"
      ]
    },
    {
      "cell_type": "markdown",
      "metadata": {
        "id": "eh2ZQMvPlgDL"
      },
      "source": [
        "To provide more equitable comparisons between neighborhoods with varying populations or sizes, compute crime rates per capita or area rather than using raw counts.\n",
        "Timeframe: Understanding whether patterns are recent or persistent requires knowing the timeframe (e.g., monthly, yearly) covered by the data.\n",
        "Analyze patterns in disparate crime categories within a neighborhood or evaluate comparable categories between communities.\n",
        "External factors: Investigate possible reasons for trends you see by looking at socioeconomic information, population trends, or local police tactics.\n"
      ]
    },
    {
      "cell_type": "code",
      "execution_count": 22,
      "metadata": {
        "id": "ewJcVzd9fjpq",
        "outputId": "a8d656c4-2b8e-49cc-fd62-e36331ded612"
      },
      "outputs": [
        {
          "name": "stdout",
          "output_type": "stream",
          "text": [
            "category                   Assault  Break and Enter  Homicide  Mischief  \\\n",
            "neighbourhood                                                             \n",
            "Arbutus Ridge                  365             2463         2      1237   \n",
            "Central Business District    22965            17823        79     29654   \n",
            "Dunbar-Southlands              445             2662         1      1730   \n",
            "Fairview                      2001             8753         7      4810   \n",
            "Grandview-Woodland            6219             8204        20      6974   \n",
            "Hastings-Sunrise              2272             5111        17      4228   \n",
            "Kensington-Cedar Cottage      3623             6592        20      5413   \n",
            "Kerrisdale                     396             2826         3      1386   \n",
            "Killarney                     1308             2918        13      2317   \n",
            "Kitsilano                     1720             7916         7      5098   \n",
            "Marpole                       1525             4593         7      2722   \n",
            "Mount Pleasant                3892             8067        16      6233   \n",
            "Musqueam                       298              122         0       135   \n",
            "Oakridge                       678             3080         2      1240   \n",
            "Renfrew-Collingwood           3967             6626        22      5407   \n",
            "Riley Park                    1229             4488         7      2552   \n",
            "Shaughnessy                    404             2528         1       887   \n",
            "South Cambie                   401             1872         3       933   \n",
            "Stanley Park                   339              183         4       343   \n",
            "Strathcona                   10035             5903        36      8375   \n",
            "Sunset                        2556             4356        21      4226   \n",
            "Victoria-Fraserview           1546             3326        10      2370   \n",
            "West End                      8430             7977        13      8037   \n",
            "West Point Grey                478             2097         4      1211   \n",
            "\n",
            "category                    Theft  Vehicle Collision  \n",
            "neighbourhood                                         \n",
            "Arbutus Ridge                4939                395  \n",
            "Central Business District  162740               4446  \n",
            "Dunbar-Southlands            6279                382  \n",
            "Fairview                    36833               1503  \n",
            "Grandview-Woodland          26375               1596  \n",
            "Hastings-Sunrise            17027               1669  \n",
            "Kensington-Cedar Cottage    24027               2030  \n",
            "Kerrisdale                   6287                645  \n",
            "Killarney                    9234                807  \n",
            "Kitsilano                   26799               1382  \n",
            "Marpole                     11924               1278  \n",
            "Mount Pleasant              35110               2174  \n",
            "Musqueam                      384                 77  \n",
            "Oakridge                     7594                570  \n",
            "Renfrew-Collingwood         29491               1925  \n",
            "Riley Park                  11856                894  \n",
            "Shaughnessy                  4089                766  \n",
            "South Cambie                 5478                298  \n",
            "Stanley Park                 4528                291  \n",
            "Strathcona                  30845               1615  \n",
            "Sunset                      16604               1792  \n",
            "Victoria-Fraserview          9247               1094  \n",
            "West End                    52953               1592  \n",
            "West Point Grey              5410                402  \n",
            "\n",
            "\n",
            "Chi-square test results:\n",
            "Chi-square statistic: 43631.62772782138\n",
            "P-value: 0.0\n",
            "Degrees of freedom: 115\n",
            "There is a significant association between neighborhood and crime category\n"
          ]
        }
      ],
      "source": [
        "from scipy.stats import chi2_contingency\n",
        "\n",
        "neighbourhood_type_counts = crime_data.groupby(['neighbourhood', 'category']).size().reset_index(name='count')\n",
        "ctable = pd.pivot_table(neighbourhood_type_counts, values='count', index='neighbourhood', columns='category', fill_value=0)\n",
        "print(ctable)\n",
        "# Perform the chi-square test\n",
        "chi2_stat, p_value, dof, _ = chi2_contingency(ctable)\n",
        "\n",
        "# Print results\n",
        "print(\"\\n\\nChi-square test results:\")\n",
        "print(f\"Chi-square statistic: {chi2_stat}\")\n",
        "print(f\"P-value: {p_value}\")\n",
        "print(f\"Degrees of freedom: {dof}\")\n",
        "\n",
        "\n",
        "# Interpret the results\n",
        "if p_value < 0.05:\n",
        "    print(\"There is a significant association between neighborhood and crime category\")\n",
        "else:\n",
        "    print(\"There is no significant association between neighborhood and crime category.\")\n"
      ]
    },
    {
      "cell_type": "markdown",
      "metadata": {
        "id": "0qobUEq0fjpq",
        "scrolled": true
      },
      "source": [
        "A hypothesis is stated to verify whether there are any significance associated with crime and category and the Null and Alternate Hypothesis are as follows:\n",
        "\n",
        "H0 (Null Hypothesis): There is a significant association between neighborhood and crime category\n",
        "\n",
        "H1 (Alternate Hypothesis): There is no significant association between neighborhood and crime category\n"
      ]
    },
    {
      "cell_type": "code",
      "execution_count": 23,
      "metadata": {
        "id": "M8boTqNifjpq",
        "outputId": "b426730f-ca6a-4427-c8e8-c0d0dad100df"
      },
      "outputs": [
        {
          "data": {
            "text/html": [
              "<div>\n",
              "<style scoped>\n",
              "    .dataframe tbody tr th:only-of-type {\n",
              "        vertical-align: middle;\n",
              "    }\n",
              "\n",
              "    .dataframe tbody tr th {\n",
              "        vertical-align: top;\n",
              "    }\n",
              "\n",
              "    .dataframe thead th {\n",
              "        text-align: right;\n",
              "    }\n",
              "</style>\n",
              "<table border=\"1\" class=\"dataframe\">\n",
              "  <thead>\n",
              "    <tr style=\"text-align: right;\">\n",
              "      <th></th>\n",
              "      <th>type</th>\n",
              "      <th>hundred_block</th>\n",
              "      <th>neighbourhood</th>\n",
              "      <th>x</th>\n",
              "      <th>y</th>\n",
              "      <th>timestamp</th>\n",
              "      <th>day_of_week</th>\n",
              "      <th>category</th>\n",
              "      <th>time_of_happening</th>\n",
              "    </tr>\n",
              "  </thead>\n",
              "  <tbody>\n",
              "    <tr>\n",
              "      <th>1</th>\n",
              "      <td>Break and Enter Commercial</td>\n",
              "      <td>SITKA SQ</td>\n",
              "      <td>Fairview</td>\n",
              "      <td>490612.9648</td>\n",
              "      <td>5.457110e+06</td>\n",
              "      <td>2019-03-07 02:06:00</td>\n",
              "      <td>Thursday</td>\n",
              "      <td>Break and Enter</td>\n",
              "      <td>Night</td>\n",
              "    </tr>\n",
              "    <tr>\n",
              "      <th>2</th>\n",
              "      <td>Break and Enter Commercial</td>\n",
              "      <td>ALBERNI ST</td>\n",
              "      <td>West End</td>\n",
              "      <td>491004.8164</td>\n",
              "      <td>5.459177e+06</td>\n",
              "      <td>2019-08-27 04:12:00</td>\n",
              "      <td>Tuesday</td>\n",
              "      <td>Break and Enter</td>\n",
              "      <td>Night</td>\n",
              "    </tr>\n",
              "    <tr>\n",
              "      <th>3</th>\n",
              "      <td>Break and Enter Commercial</td>\n",
              "      <td>ALBERNI ST</td>\n",
              "      <td>West End</td>\n",
              "      <td>491007.7798</td>\n",
              "      <td>5.459174e+06</td>\n",
              "      <td>2021-04-26 04:44:00</td>\n",
              "      <td>Monday</td>\n",
              "      <td>Break and Enter</td>\n",
              "      <td>Night</td>\n",
              "    </tr>\n",
              "    <tr>\n",
              "      <th>4</th>\n",
              "      <td>Break and Enter Commercial</td>\n",
              "      <td>ALBERNI ST</td>\n",
              "      <td>West End</td>\n",
              "      <td>491015.9434</td>\n",
              "      <td>5.459166e+06</td>\n",
              "      <td>2014-08-08 05:13:00</td>\n",
              "      <td>Friday</td>\n",
              "      <td>Break and Enter</td>\n",
              "      <td>Night</td>\n",
              "    </tr>\n",
              "    <tr>\n",
              "      <th>5</th>\n",
              "      <td>Break and Enter Commercial</td>\n",
              "      <td>ALBERNI ST</td>\n",
              "      <td>West End</td>\n",
              "      <td>491015.9434</td>\n",
              "      <td>5.459166e+06</td>\n",
              "      <td>2020-07-28 19:12:00</td>\n",
              "      <td>Tuesday</td>\n",
              "      <td>Break and Enter</td>\n",
              "      <td>Evening</td>\n",
              "    </tr>\n",
              "  </tbody>\n",
              "</table>\n",
              "</div>"
            ],
            "text/plain": [
              "                         type hundred_block neighbourhood            x  \\\n",
              "1  Break and Enter Commercial      SITKA SQ      Fairview  490612.9648   \n",
              "2  Break and Enter Commercial    ALBERNI ST      West End  491004.8164   \n",
              "3  Break and Enter Commercial    ALBERNI ST      West End  491007.7798   \n",
              "4  Break and Enter Commercial    ALBERNI ST      West End  491015.9434   \n",
              "5  Break and Enter Commercial    ALBERNI ST      West End  491015.9434   \n",
              "\n",
              "              y           timestamp day_of_week         category  \\\n",
              "1  5.457110e+06 2019-03-07 02:06:00    Thursday  Break and Enter   \n",
              "2  5.459177e+06 2019-08-27 04:12:00     Tuesday  Break and Enter   \n",
              "3  5.459174e+06 2021-04-26 04:44:00      Monday  Break and Enter   \n",
              "4  5.459166e+06 2014-08-08 05:13:00      Friday  Break and Enter   \n",
              "5  5.459166e+06 2020-07-28 19:12:00     Tuesday  Break and Enter   \n",
              "\n",
              "  time_of_happening  \n",
              "1             Night  \n",
              "2             Night  \n",
              "3             Night  \n",
              "4             Night  \n",
              "5           Evening  "
            ]
          },
          "execution_count": 23,
          "metadata": {},
          "output_type": "execute_result"
        }
      ],
      "source": [
        "# Creating a new column for the time of happening\n",
        "def category_of_time(hour):\n",
        "    if 6 <= hour < 12:\n",
        "        return 'Morning'\n",
        "    elif 12 <= hour < 18:\n",
        "        return 'Afternoon'\n",
        "    elif 18 <= hour < 24:\n",
        "        return 'Evening'\n",
        "    else:\n",
        "        return 'Night'\n",
        "\n",
        "crime_data['time_of_happening'] = crime_data['timestamp'].dt.hour.apply(category_of_time)\n",
        "\n",
        "crime_data.head()"
      ]
    },
    {
      "cell_type": "markdown",
      "metadata": {},
      "source": [
        "The python inbuilt def function is used to create a new column for the category of time of event happening, whether in Morning, afternoon, evening or at night."
      ]
    },
    {
      "cell_type": "code",
      "execution_count": 24,
      "metadata": {
        "id": "jdWanfYxfjpq",
        "outputId": "926869b7-dc57-4795-c26b-a9152fb45a0f"
      },
      "outputs": [
        {
          "data": {
            "image/png": "[encoded data removed]",
            "text/plain": [
              "<Figure size 1200x800 with 1 Axes>"
            ]
          },
          "metadata": {},
          "output_type": "display_data"
        }
      ],
      "source": [
        "plt.figure(figsize=(12, 8))\n",
        "sns.countplot(x='time_of_happening', hue='category', data=crime_data)\n",
        "plt.title('Crime Distribution by Time of Day and Category')\n",
        "plt.xlabel('Time of Day')\n",
        "plt.ylabel('Number of Crimes')\n",
        "plt.legend(title='Crime Category', bbox_to_anchor=(1.05, 1), loc='upper left')\n",
        "plt.show()"
      ]
    },
    {
      "cell_type": "markdown",
      "metadata": {
        "id": "nnARULbYlw7C"
      },
      "source": [
        "This plot shows the distribution of crimes by time of day and category, providing a visual representation of the data that can help identify patterns or trends in crime. This information could be useful for identifying patterns or trends in crime, such as which types of crimes are more common at certain times of day."
      ]
    },
    {
      "cell_type": "code",
      "execution_count": 25,
      "metadata": {
        "id": "xTi4F3v3fjpq",
        "outputId": "c354d755-db93-4fc1-f9ec-a9b811cb065b"
      },
      "outputs": [
        {
          "data": {
            "text/html": [
              "<div>\n",
              "<style scoped>\n",
              "    .dataframe tbody tr th:only-of-type {\n",
              "        vertical-align: middle;\n",
              "    }\n",
              "\n",
              "    .dataframe tbody tr th {\n",
              "        vertical-align: top;\n",
              "    }\n",
              "\n",
              "    .dataframe thead th {\n",
              "        text-align: right;\n",
              "    }\n",
              "</style>\n",
              "<table border=\"1\" class=\"dataframe\">\n",
              "  <thead>\n",
              "    <tr style=\"text-align: right;\">\n",
              "      <th></th>\n",
              "      <th>type</th>\n",
              "      <th>hundred_block</th>\n",
              "      <th>neighbourhood</th>\n",
              "      <th>x</th>\n",
              "      <th>y</th>\n",
              "      <th>timestamp</th>\n",
              "      <th>day_of_week</th>\n",
              "      <th>category</th>\n",
              "      <th>time_of_happening</th>\n",
              "      <th>week_type</th>\n",
              "    </tr>\n",
              "  </thead>\n",
              "  <tbody>\n",
              "    <tr>\n",
              "      <th>1</th>\n",
              "      <td>Break and Enter Commercial</td>\n",
              "      <td>SITKA SQ</td>\n",
              "      <td>Fairview</td>\n",
              "      <td>490612.9648</td>\n",
              "      <td>5.457110e+06</td>\n",
              "      <td>2019-03-07 02:06:00</td>\n",
              "      <td>Thursday</td>\n",
              "      <td>Break and Enter</td>\n",
              "      <td>Night</td>\n",
              "      <td>Weekday</td>\n",
              "    </tr>\n",
              "    <tr>\n",
              "      <th>2</th>\n",
              "      <td>Break and Enter Commercial</td>\n",
              "      <td>ALBERNI ST</td>\n",
              "      <td>West End</td>\n",
              "      <td>491004.8164</td>\n",
              "      <td>5.459177e+06</td>\n",
              "      <td>2019-08-27 04:12:00</td>\n",
              "      <td>Tuesday</td>\n",
              "      <td>Break and Enter</td>\n",
              "      <td>Night</td>\n",
              "      <td>Weekday</td>\n",
              "    </tr>\n",
              "    <tr>\n",
              "      <th>3</th>\n",
              "      <td>Break and Enter Commercial</td>\n",
              "      <td>ALBERNI ST</td>\n",
              "      <td>West End</td>\n",
              "      <td>491007.7798</td>\n",
              "      <td>5.459174e+06</td>\n",
              "      <td>2021-04-26 04:44:00</td>\n",
              "      <td>Monday</td>\n",
              "      <td>Break and Enter</td>\n",
              "      <td>Night</td>\n",
              "      <td>Weekday</td>\n",
              "    </tr>\n",
              "    <tr>\n",
              "      <th>4</th>\n",
              "      <td>Break and Enter Commercial</td>\n",
              "      <td>ALBERNI ST</td>\n",
              "      <td>West End</td>\n",
              "      <td>491015.9434</td>\n",
              "      <td>5.459166e+06</td>\n",
              "      <td>2014-08-08 05:13:00</td>\n",
              "      <td>Friday</td>\n",
              "      <td>Break and Enter</td>\n",
              "      <td>Night</td>\n",
              "      <td>Weekday</td>\n",
              "    </tr>\n",
              "    <tr>\n",
              "      <th>5</th>\n",
              "      <td>Break and Enter Commercial</td>\n",
              "      <td>ALBERNI ST</td>\n",
              "      <td>West End</td>\n",
              "      <td>491015.9434</td>\n",
              "      <td>5.459166e+06</td>\n",
              "      <td>2020-07-28 19:12:00</td>\n",
              "      <td>Tuesday</td>\n",
              "      <td>Break and Enter</td>\n",
              "      <td>Evening</td>\n",
              "      <td>Weekday</td>\n",
              "    </tr>\n",
              "  </tbody>\n",
              "</table>\n",
              "</div>"
            ],
            "text/plain": [
              "                         type hundred_block neighbourhood            x  \\\n",
              "1  Break and Enter Commercial      SITKA SQ      Fairview  490612.9648   \n",
              "2  Break and Enter Commercial    ALBERNI ST      West End  491004.8164   \n",
              "3  Break and Enter Commercial    ALBERNI ST      West End  491007.7798   \n",
              "4  Break and Enter Commercial    ALBERNI ST      West End  491015.9434   \n",
              "5  Break and Enter Commercial    ALBERNI ST      West End  491015.9434   \n",
              "\n",
              "              y           timestamp day_of_week         category  \\\n",
              "1  5.457110e+06 2019-03-07 02:06:00    Thursday  Break and Enter   \n",
              "2  5.459177e+06 2019-08-27 04:12:00     Tuesday  Break and Enter   \n",
              "3  5.459174e+06 2021-04-26 04:44:00      Monday  Break and Enter   \n",
              "4  5.459166e+06 2014-08-08 05:13:00      Friday  Break and Enter   \n",
              "5  5.459166e+06 2020-07-28 19:12:00     Tuesday  Break and Enter   \n",
              "\n",
              "  time_of_happening week_type  \n",
              "1             Night   Weekday  \n",
              "2             Night   Weekday  \n",
              "3             Night   Weekday  \n",
              "4             Night   Weekday  \n",
              "5           Evening   Weekday  "
            ]
          },
          "execution_count": 25,
          "metadata": {},
          "output_type": "execute_result"
        }
      ],
      "source": [
        "# Creating a new column for the type of the week if it is week-day or week-end\n",
        "\n",
        "def week_day_type(day):\n",
        "    if day in ['Monday','Tuesday','Wednesday','Thursday','Friday']:\n",
        "        return 'Weekday'\n",
        "    else:\n",
        "        return 'Weekend'\n",
        "\n",
        "crime_data['week_type'] = crime_data['day_of_week'].apply(week_day_type)\n",
        "crime_data.head()"
      ]
    },
    {
      "cell_type": "markdown",
      "metadata": {},
      "source": [
        "A new column is created to find whether the crime has happened during the weekend or weekday and assigned to a new column named week_type"
      ]
    },
    {
      "cell_type": "code",
      "execution_count": 26,
      "metadata": {
        "id": "HHYgd-P6fjpq",
        "outputId": "b17b4ebe-86c1-4e11-c57d-021079ec5c2f"
      },
      "outputs": [
        {
          "data": {
            "text/html": [
              "<div>\n",
              "<style scoped>\n",
              "    .dataframe tbody tr th:only-of-type {\n",
              "        vertical-align: middle;\n",
              "    }\n",
              "\n",
              "    .dataframe tbody tr th {\n",
              "        vertical-align: top;\n",
              "    }\n",
              "\n",
              "    .dataframe thead th {\n",
              "        text-align: right;\n",
              "    }\n",
              "</style>\n",
              "<table border=\"1\" class=\"dataframe\">\n",
              "  <thead>\n",
              "    <tr style=\"text-align: right;\">\n",
              "      <th></th>\n",
              "      <th>category</th>\n",
              "      <th>time_of_happening</th>\n",
              "      <th>week_type</th>\n",
              "      <th>frequency</th>\n",
              "    </tr>\n",
              "  </thead>\n",
              "  <tbody>\n",
              "    <tr>\n",
              "      <th>0</th>\n",
              "      <td>Assault</td>\n",
              "      <td>Night</td>\n",
              "      <td>Weekday</td>\n",
              "      <td>51662</td>\n",
              "    </tr>\n",
              "    <tr>\n",
              "      <th>1</th>\n",
              "      <td>Assault</td>\n",
              "      <td>Night</td>\n",
              "      <td>Weekend</td>\n",
              "      <td>25430</td>\n",
              "    </tr>\n",
              "    <tr>\n",
              "      <th>2</th>\n",
              "      <td>Break and Enter</td>\n",
              "      <td>Afternoon</td>\n",
              "      <td>Weekday</td>\n",
              "      <td>21348</td>\n",
              "    </tr>\n",
              "    <tr>\n",
              "      <th>3</th>\n",
              "      <td>Break and Enter</td>\n",
              "      <td>Afternoon</td>\n",
              "      <td>Weekend</td>\n",
              "      <td>8122</td>\n",
              "    </tr>\n",
              "    <tr>\n",
              "      <th>4</th>\n",
              "      <td>Break and Enter</td>\n",
              "      <td>Evening</td>\n",
              "      <td>Weekday</td>\n",
              "      <td>23764</td>\n",
              "    </tr>\n",
              "    <tr>\n",
              "      <th>5</th>\n",
              "      <td>Break and Enter</td>\n",
              "      <td>Evening</td>\n",
              "      <td>Weekend</td>\n",
              "      <td>9325</td>\n",
              "    </tr>\n",
              "    <tr>\n",
              "      <th>6</th>\n",
              "      <td>Break and Enter</td>\n",
              "      <td>Morning</td>\n",
              "      <td>Weekday</td>\n",
              "      <td>21173</td>\n",
              "    </tr>\n",
              "    <tr>\n",
              "      <th>7</th>\n",
              "      <td>Break and Enter</td>\n",
              "      <td>Morning</td>\n",
              "      <td>Weekend</td>\n",
              "      <td>6351</td>\n",
              "    </tr>\n",
              "    <tr>\n",
              "      <th>8</th>\n",
              "      <td>Break and Enter</td>\n",
              "      <td>Night</td>\n",
              "      <td>Weekday</td>\n",
              "      <td>21833</td>\n",
              "    </tr>\n",
              "    <tr>\n",
              "      <th>9</th>\n",
              "      <td>Break and Enter</td>\n",
              "      <td>Night</td>\n",
              "      <td>Weekend</td>\n",
              "      <td>8570</td>\n",
              "    </tr>\n",
              "    <tr>\n",
              "      <th>10</th>\n",
              "      <td>Homicide</td>\n",
              "      <td>Night</td>\n",
              "      <td>Weekday</td>\n",
              "      <td>211</td>\n",
              "    </tr>\n",
              "    <tr>\n",
              "      <th>11</th>\n",
              "      <td>Homicide</td>\n",
              "      <td>Night</td>\n",
              "      <td>Weekend</td>\n",
              "      <td>104</td>\n",
              "    </tr>\n",
              "    <tr>\n",
              "      <th>12</th>\n",
              "      <td>Mischief</td>\n",
              "      <td>Afternoon</td>\n",
              "      <td>Weekday</td>\n",
              "      <td>18362</td>\n",
              "    </tr>\n",
              "    <tr>\n",
              "      <th>13</th>\n",
              "      <td>Mischief</td>\n",
              "      <td>Afternoon</td>\n",
              "      <td>Weekend</td>\n",
              "      <td>7671</td>\n",
              "    </tr>\n",
              "    <tr>\n",
              "      <th>14</th>\n",
              "      <td>Mischief</td>\n",
              "      <td>Evening</td>\n",
              "      <td>Weekday</td>\n",
              "      <td>26743</td>\n",
              "    </tr>\n",
              "    <tr>\n",
              "      <th>15</th>\n",
              "      <td>Mischief</td>\n",
              "      <td>Evening</td>\n",
              "      <td>Weekend</td>\n",
              "      <td>11235</td>\n",
              "    </tr>\n",
              "    <tr>\n",
              "      <th>16</th>\n",
              "      <td>Mischief</td>\n",
              "      <td>Morning</td>\n",
              "      <td>Weekday</td>\n",
              "      <td>13244</td>\n",
              "    </tr>\n",
              "    <tr>\n",
              "      <th>17</th>\n",
              "      <td>Mischief</td>\n",
              "      <td>Morning</td>\n",
              "      <td>Weekend</td>\n",
              "      <td>4896</td>\n",
              "    </tr>\n",
              "    <tr>\n",
              "      <th>18</th>\n",
              "      <td>Mischief</td>\n",
              "      <td>Night</td>\n",
              "      <td>Weekday</td>\n",
              "      <td>15422</td>\n",
              "    </tr>\n",
              "    <tr>\n",
              "      <th>19</th>\n",
              "      <td>Mischief</td>\n",
              "      <td>Night</td>\n",
              "      <td>Weekend</td>\n",
              "      <td>9945</td>\n",
              "    </tr>\n",
              "    <tr>\n",
              "      <th>20</th>\n",
              "      <td>Theft</td>\n",
              "      <td>Afternoon</td>\n",
              "      <td>Weekday</td>\n",
              "      <td>134120</td>\n",
              "    </tr>\n",
              "    <tr>\n",
              "      <th>21</th>\n",
              "      <td>Theft</td>\n",
              "      <td>Afternoon</td>\n",
              "      <td>Weekend</td>\n",
              "      <td>54490</td>\n",
              "    </tr>\n",
              "    <tr>\n",
              "      <th>22</th>\n",
              "      <td>Theft</td>\n",
              "      <td>Evening</td>\n",
              "      <td>Weekday</td>\n",
              "      <td>139483</td>\n",
              "    </tr>\n",
              "    <tr>\n",
              "      <th>23</th>\n",
              "      <td>Theft</td>\n",
              "      <td>Evening</td>\n",
              "      <td>Weekend</td>\n",
              "      <td>56788</td>\n",
              "    </tr>\n",
              "    <tr>\n",
              "      <th>24</th>\n",
              "      <td>Theft</td>\n",
              "      <td>Morning</td>\n",
              "      <td>Weekday</td>\n",
              "      <td>69622</td>\n",
              "    </tr>\n",
              "    <tr>\n",
              "      <th>25</th>\n",
              "      <td>Theft</td>\n",
              "      <td>Morning</td>\n",
              "      <td>Weekend</td>\n",
              "      <td>22721</td>\n",
              "    </tr>\n",
              "    <tr>\n",
              "      <th>26</th>\n",
              "      <td>Theft</td>\n",
              "      <td>Night</td>\n",
              "      <td>Weekday</td>\n",
              "      <td>44208</td>\n",
              "    </tr>\n",
              "    <tr>\n",
              "      <th>27</th>\n",
              "      <td>Theft</td>\n",
              "      <td>Night</td>\n",
              "      <td>Weekend</td>\n",
              "      <td>24621</td>\n",
              "    </tr>\n",
              "    <tr>\n",
              "      <th>28</th>\n",
              "      <td>Vehicle Collision</td>\n",
              "      <td>Afternoon</td>\n",
              "      <td>Weekday</td>\n",
              "      <td>8650</td>\n",
              "    </tr>\n",
              "    <tr>\n",
              "      <th>29</th>\n",
              "      <td>Vehicle Collision</td>\n",
              "      <td>Afternoon</td>\n",
              "      <td>Weekend</td>\n",
              "      <td>2722</td>\n",
              "    </tr>\n",
              "    <tr>\n",
              "      <th>30</th>\n",
              "      <td>Vehicle Collision</td>\n",
              "      <td>Evening</td>\n",
              "      <td>Weekday</td>\n",
              "      <td>5812</td>\n",
              "    </tr>\n",
              "    <tr>\n",
              "      <th>31</th>\n",
              "      <td>Vehicle Collision</td>\n",
              "      <td>Evening</td>\n",
              "      <td>Weekend</td>\n",
              "      <td>2128</td>\n",
              "    </tr>\n",
              "    <tr>\n",
              "      <th>32</th>\n",
              "      <td>Vehicle Collision</td>\n",
              "      <td>Morning</td>\n",
              "      <td>Weekday</td>\n",
              "      <td>6055</td>\n",
              "    </tr>\n",
              "    <tr>\n",
              "      <th>33</th>\n",
              "      <td>Vehicle Collision</td>\n",
              "      <td>Morning</td>\n",
              "      <td>Weekend</td>\n",
              "      <td>1474</td>\n",
              "    </tr>\n",
              "    <tr>\n",
              "      <th>34</th>\n",
              "      <td>Vehicle Collision</td>\n",
              "      <td>Night</td>\n",
              "      <td>Weekday</td>\n",
              "      <td>1415</td>\n",
              "    </tr>\n",
              "    <tr>\n",
              "      <th>35</th>\n",
              "      <td>Vehicle Collision</td>\n",
              "      <td>Night</td>\n",
              "      <td>Weekend</td>\n",
              "      <td>1367</td>\n",
              "    </tr>\n",
              "  </tbody>\n",
              "</table>\n",
              "</div>"
            ],
            "text/plain": [
              "             category time_of_happening week_type  frequency\n",
              "0             Assault             Night   Weekday      51662\n",
              "1             Assault             Night   Weekend      25430\n",
              "2     Break and Enter         Afternoon   Weekday      21348\n",
              "3     Break and Enter         Afternoon   Weekend       8122\n",
              "4     Break and Enter           Evening   Weekday      23764\n",
              "5     Break and Enter           Evening   Weekend       9325\n",
              "6     Break and Enter           Morning   Weekday      21173\n",
              "7     Break and Enter           Morning   Weekend       6351\n",
              "8     Break and Enter             Night   Weekday      21833\n",
              "9     Break and Enter             Night   Weekend       8570\n",
              "10           Homicide             Night   Weekday        211\n",
              "11           Homicide             Night   Weekend        104\n",
              "12           Mischief         Afternoon   Weekday      18362\n",
              "13           Mischief         Afternoon   Weekend       7671\n",
              "14           Mischief           Evening   Weekday      26743\n",
              "15           Mischief           Evening   Weekend      11235\n",
              "16           Mischief           Morning   Weekday      13244\n",
              "17           Mischief           Morning   Weekend       4896\n",
              "18           Mischief             Night   Weekday      15422\n",
              "19           Mischief             Night   Weekend       9945\n",
              "20              Theft         Afternoon   Weekday     134120\n",
              "21              Theft         Afternoon   Weekend      54490\n",
              "22              Theft           Evening   Weekday     139483\n",
              "23              Theft           Evening   Weekend      56788\n",
              "24              Theft           Morning   Weekday      69622\n",
              "25              Theft           Morning   Weekend      22721\n",
              "26              Theft             Night   Weekday      44208\n",
              "27              Theft             Night   Weekend      24621\n",
              "28  Vehicle Collision         Afternoon   Weekday       8650\n",
              "29  Vehicle Collision         Afternoon   Weekend       2722\n",
              "30  Vehicle Collision           Evening   Weekday       5812\n",
              "31  Vehicle Collision           Evening   Weekend       2128\n",
              "32  Vehicle Collision           Morning   Weekday       6055\n",
              "33  Vehicle Collision           Morning   Weekend       1474\n",
              "34  Vehicle Collision             Night   Weekday       1415\n",
              "35  Vehicle Collision             Night   Weekend       1367"
            ]
          },
          "execution_count": 26,
          "metadata": {},
          "output_type": "execute_result"
        }
      ],
      "source": [
        "category_frequency = crime_data.groupby(['category','time_of_happening','week_type']).size().reset_index(name='frequency')\n",
        "category_frequency"
      ]
    },
    {
      "cell_type": "markdown",
      "metadata": {},
      "source": [
        "The frequency of each crime happened at different time is created into a dataframe with their frequency."
      ]
    },
    {
      "cell_type": "code",
      "execution_count": 27,
      "metadata": {
        "id": "chZmoWPmfjpq",
        "outputId": "00c064bb-ee82-4d0c-8c5a-2a7903e80b4d"
      },
      "outputs": [
        {
          "data": {
            "image/png": "[encoded data removed]",
            "text/plain": [
              "<Figure size 2000x1200 with 2 Axes>"
            ]
          },
          "metadata": {},
          "output_type": "display_data"
        }
      ],
      "source": [
        "# Pivot table\n",
        "pivot = category_frequency.pivot_table(index='category', columns=['time_of_happening', 'week_type'], values='frequency', fill_value=0)\n",
        "\n",
        "# Create a heatmap\n",
        "plt.figure(figsize=(20, 12))\n",
        "sns.heatmap(pivot, cmap='Blues', annot=True, fmt='g', cbar_kws={'label': 'Frequency'})\n",
        "plt.title('Crime Frequency by Category,Time of Happening, and Week Type')\n",
        "plt.xlabel('Time of Happening, and Week Type')\n",
        "plt.ylabel('Crime Category')\n",
        "plt.show()"
      ]
    },
    {
      "cell_type": "markdown",
      "metadata": {
        "id": "IVGp5XcglrI2"
      },
      "source": [
        "Provides a clear visual representation of the crime frequency data, which can be useful for identifying patterns and trends in crime. The heatmap makes it easy to quickly compare the frequency of different crime categories at different times of day and days of the week.\n"
      ]
    },
    {
      "cell_type": "code",
      "execution_count": 28,
      "metadata": {},
      "outputs": [
        {
          "name": "stdout",
          "output_type": "stream",
          "text": [
            "category     Assault  Break and Enter  Homicide  Mischief  Theft  \\\n",
            "day_of_week                                                        \n",
            "Friday         11175            19339        42     16913  82976   \n",
            "Monday          9908            17786        39     14181  77562   \n",
            "Saturday       13215            16641        60     17846  82436   \n",
            "Sunday         12215            15727        44     15901  76184   \n",
            "Thursday       10425            16921        41     14351  75789   \n",
            "Tuesday         9790            17329        45     13932  76480   \n",
            "Wednesday      10364            16743        44     14394  74626   \n",
            "\n",
            "category     Vehicle Collision  \n",
            "day_of_week                     \n",
            "Friday                    4733  \n",
            "Monday                    3999  \n",
            "Saturday                  4201  \n",
            "Sunday                    3490  \n",
            "Thursday                  4428  \n",
            "Tuesday                   4348  \n",
            "Wednesday                 4424  \n",
            "\n",
            "\n",
            "Chi-square test results:\n",
            "Chi-square statistic: 1507.1827770029925\n",
            "P-value: 1.166933174385411e-298\n",
            "Degrees of freedom: 30\n",
            "There is a significant association between day of week and crime category\n"
          ]
        }
      ],
      "source": [
        "from scipy.stats import chi2_contingency\n",
        "\n",
        "day_of_week_type_counts = crime_data.groupby(['day_of_week', 'category']).size().reset_index(name='count')\n",
        "ctable_day_of_week = pd.pivot_table(day_of_week_type_counts, values='count', index='day_of_week', columns='category', fill_value=0)\n",
        "print(ctable_day_of_week)\n",
        "# Perform the chi-square test\n",
        "chi2_stat, p_value, dof, _ = chi2_contingency(ctable_day_of_week)\n",
        "\n",
        "# Print results\n",
        "print(\"\\n\\nChi-square test results:\")\n",
        "print(f\"Chi-square statistic: {chi2_stat}\")\n",
        "print(f\"P-value: {p_value}\")\n",
        "print(f\"Degrees of freedom: {dof}\")\n",
        "\n",
        "\n",
        "# Interpret the results\n",
        "if p_value < 0.05:\n",
        "    print(\"There is a significant association between day of week and crime category\")\n",
        "else:\n",
        "    print(\"There is no significant association between day of week and crime category.\")"
      ]
    },
    {
      "cell_type": "markdown",
      "metadata": {},
      "source": [
        "A hypothesis is stated to verify whether there are any significance associated with category and day of week.\n",
        "The Null and Alternate Hypothesis are as follows:\n",
        "\n",
        "H0 (Null Hypothesis): There is a significant association between day of week and crime category\n",
        "\n",
        "H1 (Alternate Hypothesis): There is no significant association between day of week and crime category"
      ]
    },
    {
      "cell_type": "code",
      "execution_count": 29,
      "metadata": {
        "id": "vBkjPPgBfjpr"
      },
      "outputs": [],
      "source": [
        "crime_data.drop(columns=['x', 'y', 'hundred_block','day_of_week', 'type'], inplace=True)"
      ]
    },
    {
      "cell_type": "markdown",
      "metadata": {},
      "source": [
        "Columns 'x','y','hundred_block','day_of_week' and 'type' is dropped from the datafrane using drop() function."
      ]
    },
    {
      "cell_type": "code",
      "execution_count": 30,
      "metadata": {
        "id": "rLN5vW4sfjpr",
        "outputId": "8cea63ba-1937-4f51-aadf-7ac073cc31db",
        "scrolled": false
      },
      "outputs": [
        {
          "data": {
            "text/html": [
              "<div>\n",
              "<style scoped>\n",
              "    .dataframe tbody tr th:only-of-type {\n",
              "        vertical-align: middle;\n",
              "    }\n",
              "\n",
              "    .dataframe tbody tr th {\n",
              "        vertical-align: top;\n",
              "    }\n",
              "\n",
              "    .dataframe thead th {\n",
              "        text-align: right;\n",
              "    }\n",
              "</style>\n",
              "<table border=\"1\" class=\"dataframe\">\n",
              "  <thead>\n",
              "    <tr style=\"text-align: right;\">\n",
              "      <th></th>\n",
              "      <th>neighbourhood</th>\n",
              "      <th>category</th>\n",
              "      <th>time_of_happening</th>\n",
              "      <th>week_type</th>\n",
              "      <th>hour</th>\n",
              "      <th>month</th>\n",
              "      <th>day_of_week</th>\n",
              "    </tr>\n",
              "  </thead>\n",
              "  <tbody>\n",
              "    <tr>\n",
              "      <th>1</th>\n",
              "      <td>Fairview</td>\n",
              "      <td>Break and Enter</td>\n",
              "      <td>Night</td>\n",
              "      <td>Weekday</td>\n",
              "      <td>2</td>\n",
              "      <td>3</td>\n",
              "      <td>3</td>\n",
              "    </tr>\n",
              "    <tr>\n",
              "      <th>2</th>\n",
              "      <td>West End</td>\n",
              "      <td>Break and Enter</td>\n",
              "      <td>Night</td>\n",
              "      <td>Weekday</td>\n",
              "      <td>4</td>\n",
              "      <td>8</td>\n",
              "      <td>1</td>\n",
              "    </tr>\n",
              "    <tr>\n",
              "      <th>3</th>\n",
              "      <td>West End</td>\n",
              "      <td>Break and Enter</td>\n",
              "      <td>Night</td>\n",
              "      <td>Weekday</td>\n",
              "      <td>4</td>\n",
              "      <td>4</td>\n",
              "      <td>0</td>\n",
              "    </tr>\n",
              "    <tr>\n",
              "      <th>4</th>\n",
              "      <td>West End</td>\n",
              "      <td>Break and Enter</td>\n",
              "      <td>Night</td>\n",
              "      <td>Weekday</td>\n",
              "      <td>5</td>\n",
              "      <td>8</td>\n",
              "      <td>4</td>\n",
              "    </tr>\n",
              "    <tr>\n",
              "      <th>5</th>\n",
              "      <td>West End</td>\n",
              "      <td>Break and Enter</td>\n",
              "      <td>Evening</td>\n",
              "      <td>Weekday</td>\n",
              "      <td>19</td>\n",
              "      <td>7</td>\n",
              "      <td>1</td>\n",
              "    </tr>\n",
              "    <tr>\n",
              "      <th>...</th>\n",
              "      <td>...</td>\n",
              "      <td>...</td>\n",
              "      <td>...</td>\n",
              "      <td>...</td>\n",
              "      <td>...</td>\n",
              "      <td>...</td>\n",
              "      <td>...</td>\n",
              "    </tr>\n",
              "    <tr>\n",
              "      <th>881237</th>\n",
              "      <td>Riley Park</td>\n",
              "      <td>Vehicle Collision</td>\n",
              "      <td>Evening</td>\n",
              "      <td>Weekday</td>\n",
              "      <td>20</td>\n",
              "      <td>9</td>\n",
              "      <td>0</td>\n",
              "    </tr>\n",
              "    <tr>\n",
              "      <th>881238</th>\n",
              "      <td>Riley Park</td>\n",
              "      <td>Vehicle Collision</td>\n",
              "      <td>Evening</td>\n",
              "      <td>Weekday</td>\n",
              "      <td>18</td>\n",
              "      <td>7</td>\n",
              "      <td>2</td>\n",
              "    </tr>\n",
              "    <tr>\n",
              "      <th>881239</th>\n",
              "      <td>Riley Park</td>\n",
              "      <td>Vehicle Collision</td>\n",
              "      <td>Evening</td>\n",
              "      <td>Weekday</td>\n",
              "      <td>18</td>\n",
              "      <td>6</td>\n",
              "      <td>0</td>\n",
              "    </tr>\n",
              "    <tr>\n",
              "      <th>881240</th>\n",
              "      <td>Riley Park</td>\n",
              "      <td>Vehicle Collision</td>\n",
              "      <td>Morning</td>\n",
              "      <td>Weekday</td>\n",
              "      <td>9</td>\n",
              "      <td>12</td>\n",
              "      <td>1</td>\n",
              "    </tr>\n",
              "    <tr>\n",
              "      <th>881241</th>\n",
              "      <td>Riley Park</td>\n",
              "      <td>Vehicle Collision</td>\n",
              "      <td>Afternoon</td>\n",
              "      <td>Weekday</td>\n",
              "      <td>14</td>\n",
              "      <td>12</td>\n",
              "      <td>4</td>\n",
              "    </tr>\n",
              "  </tbody>\n",
              "</table>\n",
              "<p>881087 rows × 7 columns</p>\n",
              "</div>"
            ],
            "text/plain": [
              "       neighbourhood           category time_of_happening week_type  hour  \\\n",
              "1           Fairview    Break and Enter             Night   Weekday     2   \n",
              "2           West End    Break and Enter             Night   Weekday     4   \n",
              "3           West End    Break and Enter             Night   Weekday     4   \n",
              "4           West End    Break and Enter             Night   Weekday     5   \n",
              "5           West End    Break and Enter           Evening   Weekday    19   \n",
              "...              ...                ...               ...       ...   ...   \n",
              "881237    Riley Park  Vehicle Collision           Evening   Weekday    20   \n",
              "881238    Riley Park  Vehicle Collision           Evening   Weekday    18   \n",
              "881239    Riley Park  Vehicle Collision           Evening   Weekday    18   \n",
              "881240    Riley Park  Vehicle Collision           Morning   Weekday     9   \n",
              "881241    Riley Park  Vehicle Collision         Afternoon   Weekday    14   \n",
              "\n",
              "        month  day_of_week  \n",
              "1           3            3  \n",
              "2           8            1  \n",
              "3           4            0  \n",
              "4           8            4  \n",
              "5           7            1  \n",
              "...       ...          ...  \n",
              "881237      9            0  \n",
              "881238      7            2  \n",
              "881239      6            0  \n",
              "881240     12            1  \n",
              "881241     12            4  \n",
              "\n",
              "[881087 rows x 7 columns]"
            ]
          },
          "execution_count": 30,
          "metadata": {},
          "output_type": "execute_result"
        }
      ],
      "source": [
        "crime_data['hour'] = pd.to_datetime(crime_data['timestamp']).dt.hour\n",
        "crime_data['month'] = pd.to_datetime(crime_data['timestamp']).dt.month\n",
        "crime_data['day_of_week'] = pd.to_datetime(crime_data['timestamp']).dt.dayofweek\n",
        "crime_data = crime_data.drop(['timestamp'], axis=1)\n",
        "\n",
        "crime_data #Using this dataset for Classification using Log regession"
      ]
    },
    {
      "cell_type": "markdown",
      "metadata": {},
      "source": [
        "For the regression part, the timstamp is broken down into hour, month, day_of_week for the model to predict."
      ]
    },
    {
      "cell_type": "code",
      "execution_count": 31,
      "metadata": {
        "id": "BAjfR7A1fjpr",
        "outputId": "19b07ee8-f338-4ab7-ff66-a74380962b91"
      },
      "outputs": [
        {
          "data": {
            "text/plain": [
              "Index(['neighbourhood', 'category', 'time_of_happening', 'week_type', 'hour',\n",
              "       'month', 'day_of_week'],\n",
              "      dtype='object')"
            ]
          },
          "execution_count": 31,
          "metadata": {},
          "output_type": "execute_result"
        }
      ],
      "source": [
        "crime_data.columns"
      ]
    },
    {
      "cell_type": "markdown",
      "metadata": {},
      "source": [
        "the columns function returns the name of each column present in the dataset."
      ]
    },
    {
      "cell_type": "markdown",
      "metadata": {
        "id": "XQrdJH3yfjpr"
      },
      "source": [
        "## Basic Regression"
      ]
    },
    {
      "cell_type": "code",
      "execution_count": 32,
      "metadata": {
        "id": "SEifKJtBfjpr",
        "outputId": "043f5029-cf40-4e69-e5ae-d4de2fe499f2",
        "scrolled": true
      },
      "outputs": [
        {
          "name": "stdout",
          "output_type": "stream",
          "text": [
            "Accuracy: 0.6719919009224958\n",
            "Classification Report:\n",
            "              precision    recall  f1-score   support\n",
            "\n",
            "           0       0.62      1.00      0.76     19340\n",
            "           1       0.41      0.01      0.01     30067\n",
            "           2       0.00      0.00      0.00        66\n",
            "           3       0.00      0.00      0.00     27081\n",
            "           4       0.68      0.94      0.79    136373\n",
            "           5       0.00      0.00      0.00      7345\n",
            "\n",
            "    accuracy                           0.67    220272\n",
            "   macro avg       0.28      0.32      0.26    220272\n",
            "weighted avg       0.53      0.67      0.56    220272\n",
            "\n"
          ]
        }
      ],
      "source": [
        "from sklearn.model_selection import train_test_split\n",
        "from sklearn.linear_model import LogisticRegression\n",
        "from sklearn.metrics import accuracy_score, classification_report, confusion_matrix\n",
        "from sklearn.preprocessing import LabelEncoder\n",
        "\n",
        "# Encode categorical variables using dummies\n",
        "data_encoded = pd.get_dummies(crime_data, columns=['neighbourhood', 'time_of_happening', 'week_type', 'day_of_week'])\n",
        "\n",
        "# category as numerical labels\n",
        "label_encoder = LabelEncoder()\n",
        "data_encoded['category_encoded'] = label_encoder.fit_transform(data_encoded['category'])\n",
        "\n",
        "# Split the data\n",
        "X = data_encoded.drop(columns=['category', 'category_encoded'])#features\n",
        "y = data_encoded['category_encoded']#target variable\n",
        "X_train, X_test, y_train, y_test = train_test_split(X, y, test_size=0.25, random_state=42)\n",
        "\n",
        "\n",
        "model = LogisticRegression(max_iter=10000)\n",
        "model.fit(X_train, y_train)\n",
        "y_pred = model.predict(X_test)\n",
        "\n",
        "accuracy = accuracy_score(y_test, y_pred)\n",
        "print(\"Accuracy:\", accuracy)\n",
        "print(\"Classification Report:\")\n",
        "print(classification_report(y_test, y_pred))\n"
      ]
    },
    {
      "cell_type": "markdown",
      "metadata": {
        "id": "vucHlEDIkowS"
      },
      "source": [
        "In this analysis, we used logistic regression to predict the category of crime based on the given features. We first encoded the categorical variables using dummies. Then, we split the data into training and testing sets.\n",
        "\n",
        "We used logistic regression as the model because it is a good choice for binary classification problems. We set the maximum number of iterations to 10,000 to ensure convergence.\n",
        "\n",
        "The accuracy of the model is 0.78, which means that the model correctly predicted the category of crime in 78% of the test cases. This is a decent performance, but there is room for improvement.\n",
        "\n",
        "The classification report provides more detailed information about the performance of the model. It shows the precision, recall, and F1-score for each category of crime. These metrics help us understand the performance of the model for each category."
      ]
    },
    {
      "cell_type": "code",
      "execution_count": 33,
      "metadata": {
        "id": "PcPSUUa6fjpr",
        "outputId": "fd2983ed-21cc-430c-9c70-793ce20aed48",
        "scrolled": false
      },
      "outputs": [
        {
          "name": "stdout",
          "output_type": "stream",
          "text": [
            "[[ 19318      0      0      0     22      0]\n",
            " [  1941    214      0      0  27912      0]\n",
            " [    66      0      0      0      0      0]\n",
            " [  2126     83      0      0  24872      0]\n",
            " [  7686    198      0      0 128489      0]\n",
            " [   175     26      0      0   7144      0]]\n",
            "['Break and Enter' 'Homicide' 'Mischief' 'Assault' 'Theft'\n",
            " 'Vehicle Collision']\n",
            "['Break and Enter' 'Homicide' 'Mischief' 'Assault' 'Theft'\n",
            " 'Vehicle Collision']\n"
          ]
        },
        {
          "data": {
            "image/png": "[encoded data removed]",
            "text/plain": [
              "<Figure size 1000x800 with 1 Axes>"
            ]
          },
          "metadata": {},
          "output_type": "display_data"
        }
      ],
      "source": [
        "conf_matrix = confusion_matrix(y_test, y_pred)\n",
        "print(conf_matrix)\n",
        "labels = data_encoded['category'].unique()\n",
        "print(labels)\n",
        "\n",
        "plt.figure(figsize=(10, 8))\n",
        "sns.heatmap(conf_matrix, annot=True, cmap='Blues', fmt='d', cbar=False)\n",
        "labels = data_encoded['category'].unique()\n",
        "print(labels)\n",
        "# Add labels, title, and axis ticks\n",
        "plt.xlabel('Predicted Labels')\n",
        "plt.ylabel('True Labels')\n",
        "plt.title('Confusion Matrix')\n",
        "plt.xticks(ticks=np.arange(len(labels)) + 0.5, labels= labels)\n",
        "plt.yticks(ticks=np.arange(len(labels)) + 0.5, labels= labels)\n",
        "\n",
        "plt.show()\n",
        "\n"
      ]
    },
    {
      "cell_type": "markdown",
      "metadata": {
        "id": "iddz_OXifjps"
      },
      "source": [
        "4case - TP, FN, FP,TN\n",
        "6 categories - 6 labels for predict and actual\n",
        "Confusion matrix interpretation\n",
        "Let consider Break and enter label\n",
        "x axis is Predict label(testing dataset)\n",
        "y axis is True label(Labels in acutal train dataset)\n",
        "\n",
        "Actual is B&E and predict is B&E(TP) = 19318\n",
        "Actual is not B&E but predict is B&E(FP) = 2\n",
        "Actual is B&E and predict is not B&E(TN, (BE+ anything but B&E)) =19318+22 = 19430\n",
        "Actual is not B&E not predict is not B&E(FN) = 0"
      ]
    },
    {
      "cell_type": "markdown",
      "metadata": {
        "id": "3k2H97CRkJB8"
      },
      "source": [
        "The resulting confusion matrix is then plotted using the sns.heatmap() function from the seaborn library. The plot shows the number of true positives, false positives, false negatives, and true negatives for each label.\n",
        "\n",
        "From the given confusion matrix, we can see that the model performs well in classifying Theft, Vehicle Collision, and Homicide crimes, as the true positive values are high compared to false positives and false negatives. However, the model struggles to differentiate between Mischief, Break and Enter, and Assault crimes, as the false positive and false negative values are relatively high.\n",
        "\n",
        "In conclusion, the  model performs well in classifying some crime types, but it needs improvement in distinguishing between other crime types, particularly Mischief, Break and Enter, and Assault. The confusion matrix provides insights into the model's performance, enabling us to evaluate and improve the model's accuracy."
      ]
    },
    {
      "cell_type": "markdown",
      "metadata": {
        "id": "yJn6UZ3dfjps"
      },
      "source": [
        "## Improved Model"
      ]
    },
    {
      "cell_type": "code",
      "execution_count": 34,
      "metadata": {
        "id": "4mlrP2Vrfjpy",
        "outputId": "9fe4dca1-4b59-42d7-ccf9-2d035e1e9ece"
      },
      "outputs": [],
      "source": [
        "from sklearn.linear_model import Ridge, Lasso, SGDRegressor\n",
        "from sklearn.model_selection import train_test_split\n",
        "from sklearn.model_selection import cross_val_score, cross_val_predict\n",
        "from sklearn.model_selection import RepeatedKFold\n",
        "from sklearn.model_selection import GridSearchCV\n",
        "import time\n",
        "from sklearn.model_selection import train_test_split\n",
        "from sklearn.model_selection import cross_val_score, cross_val_predict\n",
        "from sklearn.model_selection import RepeatedKFold\n",
        "from sklearn.model_selection import GridSearchCV\n",
        "from sklearn import metrics\n",
        "\n"
      ]
    },
    {
      "cell_type": "code",
      "execution_count": 35,
      "metadata": {},
      "outputs": [
        {
          "data": {
            "text/html": [
              "<div>\n",
              "<style scoped>\n",
              "    .dataframe tbody tr th:only-of-type {\n",
              "        vertical-align: middle;\n",
              "    }\n",
              "\n",
              "    .dataframe tbody tr th {\n",
              "        vertical-align: top;\n",
              "    }\n",
              "\n",
              "    .dataframe thead th {\n",
              "        text-align: right;\n",
              "    }\n",
              "</style>\n",
              "<table border=\"1\" class=\"dataframe\">\n",
              "  <thead>\n",
              "    <tr style=\"text-align: right;\">\n",
              "      <th></th>\n",
              "      <th>category</th>\n",
              "      <th>hour</th>\n",
              "      <th>month</th>\n",
              "      <th>neighbourhood_Arbutus Ridge</th>\n",
              "      <th>neighbourhood_Central Business District</th>\n",
              "      <th>neighbourhood_Dunbar-Southlands</th>\n",
              "      <th>neighbourhood_Fairview</th>\n",
              "      <th>neighbourhood_Grandview-Woodland</th>\n",
              "      <th>neighbourhood_Hastings-Sunrise</th>\n",
              "      <th>neighbourhood_Kensington-Cedar Cottage</th>\n",
              "      <th>...</th>\n",
              "      <th>week_type_Weekday</th>\n",
              "      <th>week_type_Weekend</th>\n",
              "      <th>day_of_week_0</th>\n",
              "      <th>day_of_week_1</th>\n",
              "      <th>day_of_week_2</th>\n",
              "      <th>day_of_week_3</th>\n",
              "      <th>day_of_week_4</th>\n",
              "      <th>day_of_week_5</th>\n",
              "      <th>day_of_week_6</th>\n",
              "      <th>category_encoded</th>\n",
              "    </tr>\n",
              "  </thead>\n",
              "  <tbody>\n",
              "    <tr>\n",
              "      <th>851521</th>\n",
              "      <td>Vehicle Collision</td>\n",
              "      <td>2</td>\n",
              "      <td>11</td>\n",
              "      <td>0</td>\n",
              "      <td>1</td>\n",
              "      <td>0</td>\n",
              "      <td>0</td>\n",
              "      <td>0</td>\n",
              "      <td>0</td>\n",
              "      <td>0</td>\n",
              "      <td>...</td>\n",
              "      <td>1</td>\n",
              "      <td>0</td>\n",
              "      <td>0</td>\n",
              "      <td>0</td>\n",
              "      <td>1</td>\n",
              "      <td>0</td>\n",
              "      <td>0</td>\n",
              "      <td>0</td>\n",
              "      <td>0</td>\n",
              "      <td>5</td>\n",
              "    </tr>\n",
              "    <tr>\n",
              "      <th>851522</th>\n",
              "      <td>Vehicle Collision</td>\n",
              "      <td>10</td>\n",
              "      <td>8</td>\n",
              "      <td>0</td>\n",
              "      <td>1</td>\n",
              "      <td>0</td>\n",
              "      <td>0</td>\n",
              "      <td>0</td>\n",
              "      <td>0</td>\n",
              "      <td>0</td>\n",
              "      <td>...</td>\n",
              "      <td>1</td>\n",
              "      <td>0</td>\n",
              "      <td>1</td>\n",
              "      <td>0</td>\n",
              "      <td>0</td>\n",
              "      <td>0</td>\n",
              "      <td>0</td>\n",
              "      <td>0</td>\n",
              "      <td>0</td>\n",
              "      <td>5</td>\n",
              "    </tr>\n",
              "    <tr>\n",
              "      <th>851523</th>\n",
              "      <td>Vehicle Collision</td>\n",
              "      <td>1</td>\n",
              "      <td>11</td>\n",
              "      <td>0</td>\n",
              "      <td>1</td>\n",
              "      <td>0</td>\n",
              "      <td>0</td>\n",
              "      <td>0</td>\n",
              "      <td>0</td>\n",
              "      <td>0</td>\n",
              "      <td>...</td>\n",
              "      <td>1</td>\n",
              "      <td>0</td>\n",
              "      <td>0</td>\n",
              "      <td>0</td>\n",
              "      <td>0</td>\n",
              "      <td>0</td>\n",
              "      <td>1</td>\n",
              "      <td>0</td>\n",
              "      <td>0</td>\n",
              "      <td>5</td>\n",
              "    </tr>\n",
              "    <tr>\n",
              "      <th>851524</th>\n",
              "      <td>Vehicle Collision</td>\n",
              "      <td>15</td>\n",
              "      <td>2</td>\n",
              "      <td>0</td>\n",
              "      <td>0</td>\n",
              "      <td>0</td>\n",
              "      <td>0</td>\n",
              "      <td>0</td>\n",
              "      <td>0</td>\n",
              "      <td>0</td>\n",
              "      <td>...</td>\n",
              "      <td>1</td>\n",
              "      <td>0</td>\n",
              "      <td>1</td>\n",
              "      <td>0</td>\n",
              "      <td>0</td>\n",
              "      <td>0</td>\n",
              "      <td>0</td>\n",
              "      <td>0</td>\n",
              "      <td>0</td>\n",
              "      <td>5</td>\n",
              "    </tr>\n",
              "    <tr>\n",
              "      <th>851525</th>\n",
              "      <td>Vehicle Collision</td>\n",
              "      <td>22</td>\n",
              "      <td>10</td>\n",
              "      <td>0</td>\n",
              "      <td>0</td>\n",
              "      <td>0</td>\n",
              "      <td>0</td>\n",
              "      <td>0</td>\n",
              "      <td>0</td>\n",
              "      <td>0</td>\n",
              "      <td>...</td>\n",
              "      <td>0</td>\n",
              "      <td>1</td>\n",
              "      <td>0</td>\n",
              "      <td>0</td>\n",
              "      <td>0</td>\n",
              "      <td>0</td>\n",
              "      <td>0</td>\n",
              "      <td>0</td>\n",
              "      <td>1</td>\n",
              "      <td>5</td>\n",
              "    </tr>\n",
              "  </tbody>\n",
              "</table>\n",
              "<p>5 rows × 41 columns</p>\n",
              "</div>"
            ],
            "text/plain": [
              "                 category  hour  month  neighbourhood_Arbutus Ridge  \\\n",
              "851521  Vehicle Collision     2     11                            0   \n",
              "851522  Vehicle Collision    10      8                            0   \n",
              "851523  Vehicle Collision     1     11                            0   \n",
              "851524  Vehicle Collision    15      2                            0   \n",
              "851525  Vehicle Collision    22     10                            0   \n",
              "\n",
              "        neighbourhood_Central Business District  \\\n",
              "851521                                        1   \n",
              "851522                                        1   \n",
              "851523                                        1   \n",
              "851524                                        0   \n",
              "851525                                        0   \n",
              "\n",
              "        neighbourhood_Dunbar-Southlands  neighbourhood_Fairview  \\\n",
              "851521                                0                       0   \n",
              "851522                                0                       0   \n",
              "851523                                0                       0   \n",
              "851524                                0                       0   \n",
              "851525                                0                       0   \n",
              "\n",
              "        neighbourhood_Grandview-Woodland  neighbourhood_Hastings-Sunrise  \\\n",
              "851521                                 0                               0   \n",
              "851522                                 0                               0   \n",
              "851523                                 0                               0   \n",
              "851524                                 0                               0   \n",
              "851525                                 0                               0   \n",
              "\n",
              "        neighbourhood_Kensington-Cedar Cottage  ...  week_type_Weekday  \\\n",
              "851521                                       0  ...                  1   \n",
              "851522                                       0  ...                  1   \n",
              "851523                                       0  ...                  1   \n",
              "851524                                       0  ...                  1   \n",
              "851525                                       0  ...                  0   \n",
              "\n",
              "        week_type_Weekend  day_of_week_0  day_of_week_1  day_of_week_2  \\\n",
              "851521                  0              0              0              1   \n",
              "851522                  0              1              0              0   \n",
              "851523                  0              0              0              0   \n",
              "851524                  0              1              0              0   \n",
              "851525                  1              0              0              0   \n",
              "\n",
              "        day_of_week_3  day_of_week_4  day_of_week_5  day_of_week_6  \\\n",
              "851521              0              0              0              0   \n",
              "851522              0              0              0              0   \n",
              "851523              0              1              0              0   \n",
              "851524              0              0              0              0   \n",
              "851525              0              0              0              1   \n",
              "\n",
              "        category_encoded  \n",
              "851521                 5  \n",
              "851522                 5  \n",
              "851523                 5  \n",
              "851524                 5  \n",
              "851525                 5  \n",
              "\n",
              "[5 rows x 41 columns]"
            ]
          },
          "execution_count": 35,
          "metadata": {},
          "output_type": "execute_result"
        }
      ],
      "source": [
        "encoded_vs_original = pd.concat([data_encoded['category_encoded'], crime_data['category']], axis=1)\n",
        "encoded_vs_original.columns = ['Encoded Category', 'Original Category']\n",
        "\n",
        "hom=data_encoded[data_encoded['category_encoded'] == 2] # Understanding what class 2 , 3 and 5 are\n",
        "hom.head(5)\n",
        "\n",
        "three= data_encoded[data_encoded['category_encoded'] == 3]\n",
        "three.head(5)\n",
        "\n",
        "five= data_encoded[data_encoded['category_encoded'] == 5]\n",
        "five.head(5)\n"
      ]
    },
    {
      "cell_type": "markdown",
      "metadata": {},
      "source": [
        "According to  classification output,  classifier failed to recognize class 2 and 3, these classes are homocide and mischeif respectively. Hence removing would likely lead to improvements in overall performace of model. Reducing number of classes to classifiy which mean there would 4 classes to classify. "
      ]
    },
    {
      "cell_type": "code",
      "execution_count": 36,
      "metadata": {},
      "outputs": [
        {
          "name": "stdout",
          "output_type": "stream",
          "text": [
            "Accuracy: 0.7962379241345181\n",
            "Classification Report:\n",
            "              precision    recall  f1-score   support\n",
            "\n",
            "           0       0.66      1.00      0.80     19250\n",
            "           1       0.47      0.01      0.01     30072\n",
            "           4       0.82      0.94      0.88    136586\n",
            "\n",
            "    accuracy                           0.80    185908\n",
            "   macro avg       0.65      0.65      0.56    185908\n",
            "weighted avg       0.75      0.80      0.73    185908\n",
            "\n"
          ]
        }
      ],
      "source": [
        "ncdata = data_encoded[~data_encoded['category_encoded'].isin([2, 3, 5])] # removing class 2,3 and 5\n",
        "# ncdata, new log regression model will be built, \n",
        "# later this new model's preforance will be compared with basic regression model\n",
        "\n",
        "X1 = ncdata.drop(columns=['category', 'category_encoded'])#features\n",
        "y1 = ncdata['category_encoded']#target variable\n",
        "X_train_1, X_test_1, y_train_1, y_test_1 = train_test_split(X1, y1, test_size=0.25, random_state=42)\n",
        "\n",
        "\n",
        "new_logr = LogisticRegression(max_iter=10000) #new log reg model with classes 2 and 3 and 5\n",
        "new_logr.fit(X_train_1, y_train_1)\n",
        "y_pred_1= new_logr.predict(X_test_1)\n",
        "\n",
        "accuracy = accuracy_score(y_test_1, y_pred_1)\n",
        "print(\"Accuracy:\", accuracy)\n",
        "print(\"Classification Report:\")\n",
        "print(classification_report(y_test_1, y_pred_1))"
      ]
    },
    {
      "cell_type": "markdown",
      "metadata": {},
      "source": [
        "Perfromance improved after removing classes 3,2and 5.The improved model has achieved 79% accuracy."
      ]
    },
    {
      "cell_type": "markdown",
      "metadata": {},
      "source": [
        "## Grid search and RepeatedKFold CrossValidation"
      ]
    },
    {
      "cell_type": "code",
      "execution_count": 37,
      "metadata": {
        "id": "3K5qMxXqfjpy"
      },
      "outputs": [
        {
          "name": "stderr",
          "output_type": "stream",
          "text": [
            "/Library/Frameworks/Python.framework/Versions/3.11/lib/python3.11/site-packages/sklearn/linear_model/_logistic.py:1173: FutureWarning: `penalty='none'`has been deprecated in 1.2 and will be removed in 1.4. To keep the past behaviour, set `penalty=None`.\n",
            "  warnings.warn(\n",
            "/Library/Frameworks/Python.framework/Versions/3.11/lib/python3.11/site-packages/sklearn/linear_model/_glm/_newton_solver.py:491: LinAlgWarning: The inner solver of NewtonCholeskySolver stumbled upon a singular or very ill-conditioned Hessian matrix at iteration #1. It will now resort to lbfgs instead.\n",
            "Further options are to use another solver or to avoid such situation in the first place. Possible remedies are removing collinear features of X or increasing the penalization strengths.\n",
            "The original Linear Algebra message was:\n",
            "Ill-conditioned matrix (rcond=2.16353e-18): result may not be accurate.\n",
            "  warnings.warn(\n",
            "/Library/Frameworks/Python.framework/Versions/3.11/lib/python3.11/site-packages/sklearn/linear_model/_glm/_newton_solver.py:491: LinAlgWarning: The inner solver of NewtonCholeskySolver stumbled upon a singular or very ill-conditioned Hessian matrix at iteration #1. It will now resort to lbfgs instead.\n",
            "Further options are to use another solver or to avoid such situation in the first place. Possible remedies are removing collinear features of X or increasing the penalization strengths.\n",
            "The original Linear Algebra message was:\n",
            "Ill-conditioned matrix (rcond=2.16353e-18): result may not be accurate.\n",
            "  warnings.warn(\n",
            "/Library/Frameworks/Python.framework/Versions/3.11/lib/python3.11/site-packages/sklearn/linear_model/_logistic.py:1173: FutureWarning: `penalty='none'`has been deprecated in 1.2 and will be removed in 1.4. To keep the past behaviour, set `penalty=None`.\n",
            "  warnings.warn(\n",
            "/Library/Frameworks/Python.framework/Versions/3.11/lib/python3.11/site-packages/sklearn/linear_model/_logistic.py:1173: FutureWarning: `penalty='none'`has been deprecated in 1.2 and will be removed in 1.4. To keep the past behaviour, set `penalty=None`.\n",
            "  warnings.warn(\n",
            "/Library/Frameworks/Python.framework/Versions/3.11/lib/python3.11/site-packages/sklearn/linear_model/_logistic.py:1173: FutureWarning: `penalty='none'`has been deprecated in 1.2 and will be removed in 1.4. To keep the past behaviour, set `penalty=None`.\n",
            "  warnings.warn(\n",
            "/Library/Frameworks/Python.framework/Versions/3.11/lib/python3.11/site-packages/sklearn/linear_model/_glm/_newton_solver.py:491: LinAlgWarning: The inner solver of NewtonCholeskySolver stumbled upon a singular or very ill-conditioned Hessian matrix at iteration #1. It will now resort to lbfgs instead.\n",
            "Further options are to use another solver or to avoid such situation in the first place. Possible remedies are removing collinear features of X or increasing the penalization strengths.\n",
            "The original Linear Algebra message was:\n",
            "Ill-conditioned matrix (rcond=1.00379e-18): result may not be accurate.\n",
            "  warnings.warn(\n",
            "/Library/Frameworks/Python.framework/Versions/3.11/lib/python3.11/site-packages/sklearn/linear_model/_logistic.py:1173: FutureWarning: `penalty='none'`has been deprecated in 1.2 and will be removed in 1.4. To keep the past behaviour, set `penalty=None`.\n",
            "  warnings.warn(\n",
            "/Library/Frameworks/Python.framework/Versions/3.11/lib/python3.11/site-packages/sklearn/linear_model/_glm/_newton_solver.py:491: LinAlgWarning: The inner solver of NewtonCholeskySolver stumbled upon a singular or very ill-conditioned Hessian matrix at iteration #1. It will now resort to lbfgs instead.\n",
            "Further options are to use another solver or to avoid such situation in the first place. Possible remedies are removing collinear features of X or increasing the penalization strengths.\n",
            "The original Linear Algebra message was:\n",
            "Ill-conditioned matrix (rcond=9.50729e-19): result may not be accurate.\n",
            "  warnings.warn(\n",
            "/Library/Frameworks/Python.framework/Versions/3.11/lib/python3.11/site-packages/sklearn/linear_model/_glm/_newton_solver.py:491: LinAlgWarning: The inner solver of NewtonCholeskySolver stumbled upon a singular or very ill-conditioned Hessian matrix at iteration #1. It will now resort to lbfgs instead.\n",
            "Further options are to use another solver or to avoid such situation in the first place. Possible remedies are removing collinear features of X or increasing the penalization strengths.\n",
            "The original Linear Algebra message was:\n",
            "Ill-conditioned matrix (rcond=1.04535e-18): result may not be accurate.\n",
            "  warnings.warn(\n",
            "/Library/Frameworks/Python.framework/Versions/3.11/lib/python3.11/site-packages/sklearn/linear_model/_glm/_newton_solver.py:491: LinAlgWarning: The inner solver of NewtonCholeskySolver stumbled upon a singular or very ill-conditioned Hessian matrix at iteration #1. It will now resort to lbfgs instead.\n",
            "Further options are to use another solver or to avoid such situation in the first place. Possible remedies are removing collinear features of X or increasing the penalization strengths.\n",
            "The original Linear Algebra message was:\n",
            "Ill-conditioned matrix (rcond=9.73837e-19): result may not be accurate.\n",
            "  warnings.warn(\n",
            "/Library/Frameworks/Python.framework/Versions/3.11/lib/python3.11/site-packages/sklearn/linear_model/_glm/_newton_solver.py:491: LinAlgWarning: The inner solver of NewtonCholeskySolver stumbled upon a singular or very ill-conditioned Hessian matrix at iteration #1. It will now resort to lbfgs instead.\n",
            "Further options are to use another solver or to avoid such situation in the first place. Possible remedies are removing collinear features of X or increasing the penalization strengths.\n",
            "The original Linear Algebra message was:\n",
            "Ill-conditioned matrix (rcond=1.00379e-18): result may not be accurate.\n",
            "  warnings.warn(\n",
            "/Library/Frameworks/Python.framework/Versions/3.11/lib/python3.11/site-packages/sklearn/linear_model/_glm/_newton_solver.py:491: LinAlgWarning: The inner solver of NewtonCholeskySolver stumbled upon a singular or very ill-conditioned Hessian matrix at iteration #1. It will now resort to lbfgs instead.\n",
            "Further options are to use another solver or to avoid such situation in the first place. Possible remedies are removing collinear features of X or increasing the penalization strengths.\n",
            "The original Linear Algebra message was:\n",
            "Ill-conditioned matrix (rcond=9.50729e-19): result may not be accurate.\n",
            "  warnings.warn(\n",
            "/Library/Frameworks/Python.framework/Versions/3.11/lib/python3.11/site-packages/sklearn/linear_model/_glm/_newton_solver.py:491: LinAlgWarning: The inner solver of NewtonCholeskySolver stumbled upon a singular or very ill-conditioned Hessian matrix at iteration #1. It will now resort to lbfgs instead.\n",
            "Further options are to use another solver or to avoid such situation in the first place. Possible remedies are removing collinear features of X or increasing the penalization strengths.\n",
            "The original Linear Algebra message was:\n",
            "Ill-conditioned matrix (rcond=9.73837e-19): result may not be accurate.\n",
            "  warnings.warn(\n",
            "/Library/Frameworks/Python.framework/Versions/3.11/lib/python3.11/site-packages/sklearn/linear_model/_glm/_newton_solver.py:491: LinAlgWarning: The inner solver of NewtonCholeskySolver stumbled upon a singular or very ill-conditioned Hessian matrix at iteration #1. It will now resort to lbfgs instead.\n",
            "Further options are to use another solver or to avoid such situation in the first place. Possible remedies are removing collinear features of X or increasing the penalization strengths.\n",
            "The original Linear Algebra message was:\n",
            "Ill-conditioned matrix (rcond=1.04535e-18): result may not be accurate.\n",
            "  warnings.warn(\n",
            "/Library/Frameworks/Python.framework/Versions/3.11/lib/python3.11/site-packages/sklearn/linear_model/_glm/_newton_solver.py:491: LinAlgWarning: The inner solver of NewtonCholeskySolver stumbled upon a singular or very ill-conditioned Hessian matrix at iteration #1. It will now resort to lbfgs instead.\n",
            "Further options are to use another solver or to avoid such situation in the first place. Possible remedies are removing collinear features of X or increasing the penalization strengths.\n",
            "The original Linear Algebra message was:\n",
            "Ill-conditioned matrix (rcond=2.16353e-18): result may not be accurate.\n",
            "  warnings.warn(\n",
            "/Library/Frameworks/Python.framework/Versions/3.11/lib/python3.11/site-packages/sklearn/linear_model/_glm/_newton_solver.py:491: LinAlgWarning: The inner solver of NewtonCholeskySolver stumbled upon a singular or very ill-conditioned Hessian matrix at iteration #1. It will now resort to lbfgs instead.\n",
            "Further options are to use another solver or to avoid such situation in the first place. Possible remedies are removing collinear features of X or increasing the penalization strengths.\n",
            "The original Linear Algebra message was:\n",
            "Ill-conditioned matrix (rcond=1.00379e-18): result may not be accurate.\n",
            "  warnings.warn(\n",
            "/Library/Frameworks/Python.framework/Versions/3.11/lib/python3.11/site-packages/sklearn/linear_model/_glm/_newton_solver.py:491: LinAlgWarning: The inner solver of NewtonCholeskySolver stumbled upon a singular or very ill-conditioned Hessian matrix at iteration #1. It will now resort to lbfgs instead.\n",
            "Further options are to use another solver or to avoid such situation in the first place. Possible remedies are removing collinear features of X or increasing the penalization strengths.\n",
            "The original Linear Algebra message was:\n",
            "Ill-conditioned matrix (rcond=9.73837e-19): result may not be accurate.\n",
            "  warnings.warn(\n",
            "/Library/Frameworks/Python.framework/Versions/3.11/lib/python3.11/site-packages/sklearn/linear_model/_glm/_newton_solver.py:491: LinAlgWarning: The inner solver of NewtonCholeskySolver stumbled upon a singular or very ill-conditioned Hessian matrix at iteration #1. It will now resort to lbfgs instead.\n",
            "Further options are to use another solver or to avoid such situation in the first place. Possible remedies are removing collinear features of X or increasing the penalization strengths.\n",
            "The original Linear Algebra message was:\n",
            "Ill-conditioned matrix (rcond=9.50729e-19): result may not be accurate.\n",
            "  warnings.warn(\n",
            "/Library/Frameworks/Python.framework/Versions/3.11/lib/python3.11/site-packages/sklearn/linear_model/_glm/_newton_solver.py:491: LinAlgWarning: The inner solver of NewtonCholeskySolver stumbled upon a singular or very ill-conditioned Hessian matrix at iteration #1. It will now resort to lbfgs instead.\n",
            "Further options are to use another solver or to avoid such situation in the first place. Possible remedies are removing collinear features of X or increasing the penalization strengths.\n",
            "The original Linear Algebra message was:\n",
            "Ill-conditioned matrix (rcond=1.04535e-18): result may not be accurate.\n",
            "  warnings.warn(\n",
            "/Library/Frameworks/Python.framework/Versions/3.11/lib/python3.11/site-packages/sklearn/linear_model/_logistic.py:1173: FutureWarning: `penalty='none'`has been deprecated in 1.2 and will be removed in 1.4. To keep the past behaviour, set `penalty=None`.\n",
            "  warnings.warn(\n",
            "/Library/Frameworks/Python.framework/Versions/3.11/lib/python3.11/site-packages/sklearn/linear_model/_glm/_newton_solver.py:491: LinAlgWarning: The inner solver of NewtonCholeskySolver stumbled upon a singular or very ill-conditioned Hessian matrix at iteration #1. It will now resort to lbfgs instead.\n",
            "Further options are to use another solver or to avoid such situation in the first place. Possible remedies are removing collinear features of X or increasing the penalization strengths.\n",
            "The original Linear Algebra message was:\n",
            "Ill-conditioned matrix (rcond=1.03152e-18): result may not be accurate.\n",
            "  warnings.warn(\n",
            "/Library/Frameworks/Python.framework/Versions/3.11/lib/python3.11/site-packages/sklearn/linear_model/_glm/_newton_solver.py:491: LinAlgWarning: The inner solver of NewtonCholeskySolver stumbled upon a singular or very ill-conditioned Hessian matrix at iteration #1. It will now resort to lbfgs instead.\n",
            "Further options are to use another solver or to avoid such situation in the first place. Possible remedies are removing collinear features of X or increasing the penalization strengths.\n",
            "The original Linear Algebra message was:\n",
            "Ill-conditioned matrix (rcond=1.03152e-18): result may not be accurate.\n",
            "  warnings.warn(\n",
            "/Library/Frameworks/Python.framework/Versions/3.11/lib/python3.11/site-packages/sklearn/linear_model/_logistic.py:1173: FutureWarning: `penalty='none'`has been deprecated in 1.2 and will be removed in 1.4. To keep the past behaviour, set `penalty=None`.\n",
            "  warnings.warn(\n",
            "/Library/Frameworks/Python.framework/Versions/3.11/lib/python3.11/site-packages/sklearn/linear_model/_glm/_newton_solver.py:491: LinAlgWarning: The inner solver of NewtonCholeskySolver stumbled upon a singular or very ill-conditioned Hessian matrix at iteration #1. It will now resort to lbfgs instead.\n",
            "Further options are to use another solver or to avoid such situation in the first place. Possible remedies are removing collinear features of X or increasing the penalization strengths.\n",
            "The original Linear Algebra message was:\n",
            "Ill-conditioned matrix (rcond=1.03151e-18): result may not be accurate.\n",
            "  warnings.warn(\n",
            "/Library/Frameworks/Python.framework/Versions/3.11/lib/python3.11/site-packages/sklearn/linear_model/_logistic.py:1173: FutureWarning: `penalty='none'`has been deprecated in 1.2 and will be removed in 1.4. To keep the past behaviour, set `penalty=None`.\n",
            "  warnings.warn(\n",
            "/Library/Frameworks/Python.framework/Versions/3.11/lib/python3.11/site-packages/sklearn/linear_model/_glm/_newton_solver.py:491: LinAlgWarning: The inner solver of NewtonCholeskySolver stumbled upon a singular or very ill-conditioned Hessian matrix at iteration #1. It will now resort to lbfgs instead.\n",
            "Further options are to use another solver or to avoid such situation in the first place. Possible remedies are removing collinear features of X or increasing the penalization strengths.\n",
            "The original Linear Algebra message was:\n",
            "Ill-conditioned matrix (rcond=1.00532e-18): result may not be accurate.\n",
            "  warnings.warn(\n",
            "/Library/Frameworks/Python.framework/Versions/3.11/lib/python3.11/site-packages/sklearn/linear_model/_logistic.py:1173: FutureWarning: `penalty='none'`has been deprecated in 1.2 and will be removed in 1.4. To keep the past behaviour, set `penalty=None`.\n",
            "  warnings.warn(\n",
            "/Library/Frameworks/Python.framework/Versions/3.11/lib/python3.11/site-packages/sklearn/linear_model/_glm/_newton_solver.py:491: LinAlgWarning: The inner solver of NewtonCholeskySolver stumbled upon a singular or very ill-conditioned Hessian matrix at iteration #1. It will now resort to lbfgs instead.\n",
            "Further options are to use another solver or to avoid such situation in the first place. Possible remedies are removing collinear features of X or increasing the penalization strengths.\n",
            "The original Linear Algebra message was:\n",
            "Ill-conditioned matrix (rcond=7.61072e-19): result may not be accurate.\n",
            "  warnings.warn(\n",
            "/Library/Frameworks/Python.framework/Versions/3.11/lib/python3.11/site-packages/sklearn/linear_model/_glm/_newton_solver.py:491: LinAlgWarning: The inner solver of NewtonCholeskySolver stumbled upon a singular or very ill-conditioned Hessian matrix at iteration #1. It will now resort to lbfgs instead.\n",
            "Further options are to use another solver or to avoid such situation in the first place. Possible remedies are removing collinear features of X or increasing the penalization strengths.\n",
            "The original Linear Algebra message was:\n",
            "Ill-conditioned matrix (rcond=1.03151e-18): result may not be accurate.\n",
            "  warnings.warn(\n",
            "/Library/Frameworks/Python.framework/Versions/3.11/lib/python3.11/site-packages/sklearn/linear_model/_logistic.py:1173: FutureWarning: `penalty='none'`has been deprecated in 1.2 and will be removed in 1.4. To keep the past behaviour, set `penalty=None`.\n",
            "  warnings.warn(\n",
            "/Library/Frameworks/Python.framework/Versions/3.11/lib/python3.11/site-packages/sklearn/linear_model/_glm/_newton_solver.py:491: LinAlgWarning: The inner solver of NewtonCholeskySolver stumbled upon a singular or very ill-conditioned Hessian matrix at iteration #1. It will now resort to lbfgs instead.\n",
            "Further options are to use another solver or to avoid such situation in the first place. Possible remedies are removing collinear features of X or increasing the penalization strengths.\n",
            "The original Linear Algebra message was:\n",
            "Ill-conditioned matrix (rcond=1.00544e-18): result may not be accurate.\n",
            "  warnings.warn(\n",
            "/Library/Frameworks/Python.framework/Versions/3.11/lib/python3.11/site-packages/sklearn/linear_model/_glm/_newton_solver.py:491: LinAlgWarning: The inner solver of NewtonCholeskySolver stumbled upon a singular or very ill-conditioned Hessian matrix at iteration #1. It will now resort to lbfgs instead.\n",
            "Further options are to use another solver or to avoid such situation in the first place. Possible remedies are removing collinear features of X or increasing the penalization strengths.\n",
            "The original Linear Algebra message was:\n",
            "Ill-conditioned matrix (rcond=1.00532e-18): result may not be accurate.\n",
            "  warnings.warn(\n",
            "/Library/Frameworks/Python.framework/Versions/3.11/lib/python3.11/site-packages/sklearn/linear_model/_glm/_newton_solver.py:491: LinAlgWarning: The inner solver of NewtonCholeskySolver stumbled upon a singular or very ill-conditioned Hessian matrix at iteration #1. It will now resort to lbfgs instead.\n",
            "Further options are to use another solver or to avoid such situation in the first place. Possible remedies are removing collinear features of X or increasing the penalization strengths.\n",
            "The original Linear Algebra message was:\n",
            "Ill-conditioned matrix (rcond=7.61072e-19): result may not be accurate.\n",
            "  warnings.warn(\n",
            "/Library/Frameworks/Python.framework/Versions/3.11/lib/python3.11/site-packages/sklearn/linear_model/_glm/_newton_solver.py:491: LinAlgWarning: The inner solver of NewtonCholeskySolver stumbled upon a singular or very ill-conditioned Hessian matrix at iteration #1. It will now resort to lbfgs instead.\n",
            "Further options are to use another solver or to avoid such situation in the first place. Possible remedies are removing collinear features of X or increasing the penalization strengths.\n",
            "The original Linear Algebra message was:\n",
            "Ill-conditioned matrix (rcond=1.00544e-18): result may not be accurate.\n",
            "  warnings.warn(\n",
            "/Library/Frameworks/Python.framework/Versions/3.11/lib/python3.11/site-packages/sklearn/linear_model/_glm/_newton_solver.py:491: LinAlgWarning: The inner solver of NewtonCholeskySolver stumbled upon a singular or very ill-conditioned Hessian matrix at iteration #1. It will now resort to lbfgs instead.\n",
            "Further options are to use another solver or to avoid such situation in the first place. Possible remedies are removing collinear features of X or increasing the penalization strengths.\n",
            "The original Linear Algebra message was:\n",
            "Ill-conditioned matrix (rcond=1.03152e-18): result may not be accurate.\n",
            "  warnings.warn(\n",
            "/Library/Frameworks/Python.framework/Versions/3.11/lib/python3.11/site-packages/sklearn/linear_model/_glm/_newton_solver.py:491: LinAlgWarning: The inner solver of NewtonCholeskySolver stumbled upon a singular or very ill-conditioned Hessian matrix at iteration #1. It will now resort to lbfgs instead.\n",
            "Further options are to use another solver or to avoid such situation in the first place. Possible remedies are removing collinear features of X or increasing the penalization strengths.\n",
            "The original Linear Algebra message was:\n",
            "Ill-conditioned matrix (rcond=1.03151e-18): result may not be accurate.\n",
            "  warnings.warn(\n",
            "/Library/Frameworks/Python.framework/Versions/3.11/lib/python3.11/site-packages/sklearn/linear_model/_glm/_newton_solver.py:491: LinAlgWarning: The inner solver of NewtonCholeskySolver stumbled upon a singular or very ill-conditioned Hessian matrix at iteration #1. It will now resort to lbfgs instead.\n",
            "Further options are to use another solver or to avoid such situation in the first place. Possible remedies are removing collinear features of X or increasing the penalization strengths.\n",
            "The original Linear Algebra message was:\n",
            "Ill-conditioned matrix (rcond=1.00532e-18): result may not be accurate.\n",
            "  warnings.warn(\n",
            "/Library/Frameworks/Python.framework/Versions/3.11/lib/python3.11/site-packages/sklearn/linear_model/_logistic.py:1173: FutureWarning: `penalty='none'`has been deprecated in 1.2 and will be removed in 1.4. To keep the past behaviour, set `penalty=None`.\n",
            "  warnings.warn(\n",
            "/Library/Frameworks/Python.framework/Versions/3.11/lib/python3.11/site-packages/sklearn/linear_model/_glm/_newton_solver.py:491: LinAlgWarning: The inner solver of NewtonCholeskySolver stumbled upon a singular or very ill-conditioned Hessian matrix at iteration #1. It will now resort to lbfgs instead.\n",
            "Further options are to use another solver or to avoid such situation in the first place. Possible remedies are removing collinear features of X or increasing the penalization strengths.\n",
            "The original Linear Algebra message was:\n",
            "Ill-conditioned matrix (rcond=1.00544e-18): result may not be accurate.\n",
            "  warnings.warn(\n",
            "/Library/Frameworks/Python.framework/Versions/3.11/lib/python3.11/site-packages/sklearn/linear_model/_glm/_newton_solver.py:491: LinAlgWarning: The inner solver of NewtonCholeskySolver stumbled upon a singular or very ill-conditioned Hessian matrix at iteration #1. It will now resort to lbfgs instead.\n",
            "Further options are to use another solver or to avoid such situation in the first place. Possible remedies are removing collinear features of X or increasing the penalization strengths.\n",
            "The original Linear Algebra message was:\n",
            "Ill-conditioned matrix (rcond=7.61072e-19): result may not be accurate.\n",
            "  warnings.warn(\n",
            "/Library/Frameworks/Python.framework/Versions/3.11/lib/python3.11/site-packages/sklearn/linear_model/_glm/_newton_solver.py:491: LinAlgWarning: The inner solver of NewtonCholeskySolver stumbled upon a singular or very ill-conditioned Hessian matrix at iteration #1. It will now resort to lbfgs instead.\n",
            "Further options are to use another solver or to avoid such situation in the first place. Possible remedies are removing collinear features of X or increasing the penalization strengths.\n",
            "The original Linear Algebra message was:\n",
            "Ill-conditioned matrix (rcond=2.1415e-18): result may not be accurate.\n",
            "  warnings.warn(\n",
            "/Library/Frameworks/Python.framework/Versions/3.11/lib/python3.11/site-packages/sklearn/linear_model/_logistic.py:1173: FutureWarning: `penalty='none'`has been deprecated in 1.2 and will be removed in 1.4. To keep the past behaviour, set `penalty=None`.\n",
            "  warnings.warn(\n",
            "/Library/Frameworks/Python.framework/Versions/3.11/lib/python3.11/site-packages/sklearn/linear_model/_glm/_newton_solver.py:491: LinAlgWarning: The inner solver of NewtonCholeskySolver stumbled upon a singular or very ill-conditioned Hessian matrix at iteration #1. It will now resort to lbfgs instead.\n",
            "Further options are to use another solver or to avoid such situation in the first place. Possible remedies are removing collinear features of X or increasing the penalization strengths.\n",
            "The original Linear Algebra message was:\n",
            "Ill-conditioned matrix (rcond=2.1415e-18): result may not be accurate.\n",
            "  warnings.warn(\n",
            "/Library/Frameworks/Python.framework/Versions/3.11/lib/python3.11/site-packages/sklearn/linear_model/_glm/_newton_solver.py:491: LinAlgWarning: The inner solver of NewtonCholeskySolver stumbled upon a singular or very ill-conditioned Hessian matrix at iteration #1. It will now resort to lbfgs instead.\n",
            "Further options are to use another solver or to avoid such situation in the first place. Possible remedies are removing collinear features of X or increasing the penalization strengths.\n",
            "The original Linear Algebra message was:\n",
            "Ill-conditioned matrix (rcond=8.75803e-19): result may not be accurate.\n",
            "  warnings.warn(\n",
            "/Library/Frameworks/Python.framework/Versions/3.11/lib/python3.11/site-packages/sklearn/linear_model/_logistic.py:1173: FutureWarning: `penalty='none'`has been deprecated in 1.2 and will be removed in 1.4. To keep the past behaviour, set `penalty=None`.\n",
            "  warnings.warn(\n",
            "/Library/Frameworks/Python.framework/Versions/3.11/lib/python3.11/site-packages/sklearn/linear_model/_logistic.py:1173: FutureWarning: `penalty='none'`has been deprecated in 1.2 and will be removed in 1.4. To keep the past behaviour, set `penalty=None`.\n",
            "  warnings.warn(\n",
            "/Library/Frameworks/Python.framework/Versions/3.11/lib/python3.11/site-packages/sklearn/linear_model/_glm/_newton_solver.py:491: LinAlgWarning: The inner solver of NewtonCholeskySolver stumbled upon a singular or very ill-conditioned Hessian matrix at iteration #1. It will now resort to lbfgs instead.\n",
            "Further options are to use another solver or to avoid such situation in the first place. Possible remedies are removing collinear features of X or increasing the penalization strengths.\n",
            "The original Linear Algebra message was:\n",
            "Ill-conditioned matrix (rcond=1.11421e-18): result may not be accurate.\n",
            "  warnings.warn(\n",
            "/Library/Frameworks/Python.framework/Versions/3.11/lib/python3.11/site-packages/sklearn/linear_model/_glm/_newton_solver.py:491: LinAlgWarning: The inner solver of NewtonCholeskySolver stumbled upon a singular or very ill-conditioned Hessian matrix at iteration #1. It will now resort to lbfgs instead.\n",
            "Further options are to use another solver or to avoid such situation in the first place. Possible remedies are removing collinear features of X or increasing the penalization strengths.\n",
            "The original Linear Algebra message was:\n",
            "Ill-conditioned matrix (rcond=1.01662e-18): result may not be accurate.\n",
            "  warnings.warn(\n",
            "/Library/Frameworks/Python.framework/Versions/3.11/lib/python3.11/site-packages/sklearn/linear_model/_logistic.py:1173: FutureWarning: `penalty='none'`has been deprecated in 1.2 and will be removed in 1.4. To keep the past behaviour, set `penalty=None`.\n",
            "  warnings.warn(\n",
            "/Library/Frameworks/Python.framework/Versions/3.11/lib/python3.11/site-packages/sklearn/linear_model/_glm/_newton_solver.py:491: LinAlgWarning: The inner solver of NewtonCholeskySolver stumbled upon a singular or very ill-conditioned Hessian matrix at iteration #1. It will now resort to lbfgs instead.\n",
            "Further options are to use another solver or to avoid such situation in the first place. Possible remedies are removing collinear features of X or increasing the penalization strengths.\n",
            "The original Linear Algebra message was:\n",
            "Ill-conditioned matrix (rcond=9.9635e-19): result may not be accurate.\n",
            "  warnings.warn(\n",
            "/Library/Frameworks/Python.framework/Versions/3.11/lib/python3.11/site-packages/sklearn/linear_model/_glm/_newton_solver.py:491: LinAlgWarning: The inner solver of NewtonCholeskySolver stumbled upon a singular or very ill-conditioned Hessian matrix at iteration #1. It will now resort to lbfgs instead.\n",
            "Further options are to use another solver or to avoid such situation in the first place. Possible remedies are removing collinear features of X or increasing the penalization strengths.\n",
            "The original Linear Algebra message was:\n",
            "Ill-conditioned matrix (rcond=8.75803e-19): result may not be accurate.\n",
            "  warnings.warn(\n",
            "/Library/Frameworks/Python.framework/Versions/3.11/lib/python3.11/site-packages/sklearn/linear_model/_glm/_newton_solver.py:491: LinAlgWarning: The inner solver of NewtonCholeskySolver stumbled upon a singular or very ill-conditioned Hessian matrix at iteration #1. It will now resort to lbfgs instead.\n",
            "Further options are to use another solver or to avoid such situation in the first place. Possible remedies are removing collinear features of X or increasing the penalization strengths.\n",
            "The original Linear Algebra message was:\n",
            "Ill-conditioned matrix (rcond=1.11421e-18): result may not be accurate.\n",
            "  warnings.warn(\n",
            "/Library/Frameworks/Python.framework/Versions/3.11/lib/python3.11/site-packages/sklearn/linear_model/_glm/_newton_solver.py:491: LinAlgWarning: The inner solver of NewtonCholeskySolver stumbled upon a singular or very ill-conditioned Hessian matrix at iteration #1. It will now resort to lbfgs instead.\n",
            "Further options are to use another solver or to avoid such situation in the first place. Possible remedies are removing collinear features of X or increasing the penalization strengths.\n",
            "The original Linear Algebra message was:\n",
            "Ill-conditioned matrix (rcond=2.1415e-18): result may not be accurate.\n",
            "  warnings.warn(\n",
            "/Library/Frameworks/Python.framework/Versions/3.11/lib/python3.11/site-packages/sklearn/linear_model/_glm/_newton_solver.py:491: LinAlgWarning: The inner solver of NewtonCholeskySolver stumbled upon a singular or very ill-conditioned Hessian matrix at iteration #1. It will now resort to lbfgs instead.\n",
            "Further options are to use another solver or to avoid such situation in the first place. Possible remedies are removing collinear features of X or increasing the penalization strengths.\n",
            "The original Linear Algebra message was:\n",
            "Ill-conditioned matrix (rcond=1.01662e-18): result may not be accurate.\n",
            "  warnings.warn(\n",
            "/Library/Frameworks/Python.framework/Versions/3.11/lib/python3.11/site-packages/sklearn/linear_model/_glm/_newton_solver.py:491: LinAlgWarning: The inner solver of NewtonCholeskySolver stumbled upon a singular or very ill-conditioned Hessian matrix at iteration #1. It will now resort to lbfgs instead.\n",
            "Further options are to use another solver or to avoid such situation in the first place. Possible remedies are removing collinear features of X or increasing the penalization strengths.\n",
            "The original Linear Algebra message was:\n",
            "Ill-conditioned matrix (rcond=9.9635e-19): result may not be accurate.\n",
            "  warnings.warn(\n",
            "/Library/Frameworks/Python.framework/Versions/3.11/lib/python3.11/site-packages/sklearn/linear_model/_glm/_newton_solver.py:491: LinAlgWarning: The inner solver of NewtonCholeskySolver stumbled upon a singular or very ill-conditioned Hessian matrix at iteration #1. It will now resort to lbfgs instead.\n",
            "Further options are to use another solver or to avoid such situation in the first place. Possible remedies are removing collinear features of X or increasing the penalization strengths.\n",
            "The original Linear Algebra message was:\n",
            "Ill-conditioned matrix (rcond=8.75803e-19): result may not be accurate.\n",
            "  warnings.warn(\n",
            "/Library/Frameworks/Python.framework/Versions/3.11/lib/python3.11/site-packages/sklearn/linear_model/_logistic.py:1173: FutureWarning: `penalty='none'`has been deprecated in 1.2 and will be removed in 1.4. To keep the past behaviour, set `penalty=None`.\n",
            "  warnings.warn(\n",
            "/Library/Frameworks/Python.framework/Versions/3.11/lib/python3.11/site-packages/sklearn/linear_model/_glm/_newton_solver.py:491: LinAlgWarning: The inner solver of NewtonCholeskySolver stumbled upon a singular or very ill-conditioned Hessian matrix at iteration #1. It will now resort to lbfgs instead.\n",
            "Further options are to use another solver or to avoid such situation in the first place. Possible remedies are removing collinear features of X or increasing the penalization strengths.\n",
            "The original Linear Algebra message was:\n",
            "Ill-conditioned matrix (rcond=1.09925e-18): result may not be accurate.\n",
            "  warnings.warn(\n",
            "/Library/Frameworks/Python.framework/Versions/3.11/lib/python3.11/site-packages/sklearn/linear_model/_glm/_newton_solver.py:491: LinAlgWarning: The inner solver of NewtonCholeskySolver stumbled upon a singular or very ill-conditioned Hessian matrix at iteration #1. It will now resort to lbfgs instead.\n",
            "Further options are to use another solver or to avoid such situation in the first place. Possible remedies are removing collinear features of X or increasing the penalization strengths.\n",
            "The original Linear Algebra message was:\n",
            "Ill-conditioned matrix (rcond=1.11421e-18): result may not be accurate.\n",
            "  warnings.warn(\n",
            "/Library/Frameworks/Python.framework/Versions/3.11/lib/python3.11/site-packages/sklearn/linear_model/_glm/_newton_solver.py:491: LinAlgWarning: The inner solver of NewtonCholeskySolver stumbled upon a singular or very ill-conditioned Hessian matrix at iteration #1. It will now resort to lbfgs instead.\n",
            "Further options are to use another solver or to avoid such situation in the first place. Possible remedies are removing collinear features of X or increasing the penalization strengths.\n",
            "The original Linear Algebra message was:\n",
            "Ill-conditioned matrix (rcond=9.9635e-19): result may not be accurate.\n",
            "  warnings.warn(\n",
            "/Library/Frameworks/Python.framework/Versions/3.11/lib/python3.11/site-packages/sklearn/linear_model/_glm/_newton_solver.py:491: LinAlgWarning: The inner solver of NewtonCholeskySolver stumbled upon a singular or very ill-conditioned Hessian matrix at iteration #1. It will now resort to lbfgs instead.\n",
            "Further options are to use another solver or to avoid such situation in the first place. Possible remedies are removing collinear features of X or increasing the penalization strengths.\n",
            "The original Linear Algebra message was:\n",
            "Ill-conditioned matrix (rcond=1.01662e-18): result may not be accurate.\n",
            "  warnings.warn(\n",
            "/Library/Frameworks/Python.framework/Versions/3.11/lib/python3.11/site-packages/sklearn/linear_model/_glm/_newton_solver.py:491: LinAlgWarning: The inner solver of NewtonCholeskySolver stumbled upon a singular or very ill-conditioned Hessian matrix at iteration #1. It will now resort to lbfgs instead.\n",
            "Further options are to use another solver or to avoid such situation in the first place. Possible remedies are removing collinear features of X or increasing the penalization strengths.\n",
            "The original Linear Algebra message was:\n",
            "Ill-conditioned matrix (rcond=1.09925e-18): result may not be accurate.\n",
            "  warnings.warn(\n",
            "/Library/Frameworks/Python.framework/Versions/3.11/lib/python3.11/site-packages/sklearn/linear_model/_logistic.py:1173: FutureWarning: `penalty='none'`has been deprecated in 1.2 and will be removed in 1.4. To keep the past behaviour, set `penalty=None`.\n",
            "  warnings.warn(\n",
            "/Library/Frameworks/Python.framework/Versions/3.11/lib/python3.11/site-packages/sklearn/linear_model/_glm/_newton_solver.py:491: LinAlgWarning: The inner solver of NewtonCholeskySolver stumbled upon a singular or very ill-conditioned Hessian matrix at iteration #1. It will now resort to lbfgs instead.\n",
            "Further options are to use another solver or to avoid such situation in the first place. Possible remedies are removing collinear features of X or increasing the penalization strengths.\n",
            "The original Linear Algebra message was:\n",
            "Ill-conditioned matrix (rcond=1.06806e-18): result may not be accurate.\n",
            "  warnings.warn(\n",
            "/Library/Frameworks/Python.framework/Versions/3.11/lib/python3.11/site-packages/sklearn/linear_model/_logistic.py:1173: FutureWarning: `penalty='none'`has been deprecated in 1.2 and will be removed in 1.4. To keep the past behaviour, set `penalty=None`.\n",
            "  warnings.warn(\n",
            "/Library/Frameworks/Python.framework/Versions/3.11/lib/python3.11/site-packages/sklearn/linear_model/_glm/_newton_solver.py:491: LinAlgWarning: The inner solver of NewtonCholeskySolver stumbled upon a singular or very ill-conditioned Hessian matrix at iteration #1. It will now resort to lbfgs instead.\n",
            "Further options are to use another solver or to avoid such situation in the first place. Possible remedies are removing collinear features of X or increasing the penalization strengths.\n",
            "The original Linear Algebra message was:\n",
            "Ill-conditioned matrix (rcond=8.76437e-19): result may not be accurate.\n",
            "  warnings.warn(\n",
            "/Library/Frameworks/Python.framework/Versions/3.11/lib/python3.11/site-packages/sklearn/linear_model/_logistic.py:1173: FutureWarning: `penalty='none'`has been deprecated in 1.2 and will be removed in 1.4. To keep the past behaviour, set `penalty=None`.\n",
            "  warnings.warn(\n",
            "/Library/Frameworks/Python.framework/Versions/3.11/lib/python3.11/site-packages/sklearn/linear_model/_glm/_newton_solver.py:491: LinAlgWarning: The inner solver of NewtonCholeskySolver stumbled upon a singular or very ill-conditioned Hessian matrix at iteration #1. It will now resort to lbfgs instead.\n",
            "Further options are to use another solver or to avoid such situation in the first place. Possible remedies are removing collinear features of X or increasing the penalization strengths.\n",
            "The original Linear Algebra message was:\n",
            "Ill-conditioned matrix (rcond=1.06806e-18): result may not be accurate.\n",
            "  warnings.warn(\n",
            "/Library/Frameworks/Python.framework/Versions/3.11/lib/python3.11/site-packages/sklearn/linear_model/_logistic.py:1173: FutureWarning: `penalty='none'`has been deprecated in 1.2 and will be removed in 1.4. To keep the past behaviour, set `penalty=None`.\n",
            "  warnings.warn(\n",
            "/Library/Frameworks/Python.framework/Versions/3.11/lib/python3.11/site-packages/sklearn/linear_model/_glm/_newton_solver.py:491: LinAlgWarning: The inner solver of NewtonCholeskySolver stumbled upon a singular or very ill-conditioned Hessian matrix at iteration #1. It will now resort to lbfgs instead.\n",
            "Further options are to use another solver or to avoid such situation in the first place. Possible remedies are removing collinear features of X or increasing the penalization strengths.\n",
            "The original Linear Algebra message was:\n",
            "Ill-conditioned matrix (rcond=1.02888e-18): result may not be accurate.\n",
            "  warnings.warn(\n",
            "/Library/Frameworks/Python.framework/Versions/3.11/lib/python3.11/site-packages/sklearn/linear_model/_glm/_newton_solver.py:491: LinAlgWarning: The inner solver of NewtonCholeskySolver stumbled upon a singular or very ill-conditioned Hessian matrix at iteration #1. It will now resort to lbfgs instead.\n",
            "Further options are to use another solver or to avoid such situation in the first place. Possible remedies are removing collinear features of X or increasing the penalization strengths.\n",
            "The original Linear Algebra message was:\n",
            "Ill-conditioned matrix (rcond=7.72977e-19): result may not be accurate.\n",
            "  warnings.warn(\n",
            "/Library/Frameworks/Python.framework/Versions/3.11/lib/python3.11/site-packages/sklearn/linear_model/_glm/_newton_solver.py:491: LinAlgWarning: The inner solver of NewtonCholeskySolver stumbled upon a singular or very ill-conditioned Hessian matrix at iteration #1. It will now resort to lbfgs instead.\n",
            "Further options are to use another solver or to avoid such situation in the first place. Possible remedies are removing collinear features of X or increasing the penalization strengths.\n",
            "The original Linear Algebra message was:\n",
            "Ill-conditioned matrix (rcond=8.76437e-19): result may not be accurate.\n",
            "  warnings.warn(\n",
            "/Library/Frameworks/Python.framework/Versions/3.11/lib/python3.11/site-packages/sklearn/linear_model/_glm/_newton_solver.py:491: LinAlgWarning: The inner solver of NewtonCholeskySolver stumbled upon a singular or very ill-conditioned Hessian matrix at iteration #1. It will now resort to lbfgs instead.\n",
            "Further options are to use another solver or to avoid such situation in the first place. Possible remedies are removing collinear features of X or increasing the penalization strengths.\n",
            "The original Linear Algebra message was:\n",
            "Ill-conditioned matrix (rcond=7.72977e-19): result may not be accurate.\n",
            "  warnings.warn(\n",
            "/Library/Frameworks/Python.framework/Versions/3.11/lib/python3.11/site-packages/sklearn/linear_model/_glm/_newton_solver.py:491: LinAlgWarning: The inner solver of NewtonCholeskySolver stumbled upon a singular or very ill-conditioned Hessian matrix at iteration #1. It will now resort to lbfgs instead.\n",
            "Further options are to use another solver or to avoid such situation in the first place. Possible remedies are removing collinear features of X or increasing the penalization strengths.\n",
            "The original Linear Algebra message was:\n",
            "Ill-conditioned matrix (rcond=1.02888e-18): result may not be accurate.\n",
            "  warnings.warn(\n",
            "/Library/Frameworks/Python.framework/Versions/3.11/lib/python3.11/site-packages/sklearn/linear_model/_glm/_newton_solver.py:491: LinAlgWarning: The inner solver of NewtonCholeskySolver stumbled upon a singular or very ill-conditioned Hessian matrix at iteration #1. It will now resort to lbfgs instead.\n",
            "Further options are to use another solver or to avoid such situation in the first place. Possible remedies are removing collinear features of X or increasing the penalization strengths.\n",
            "The original Linear Algebra message was:\n",
            "Ill-conditioned matrix (rcond=1.09925e-18): result may not be accurate.\n",
            "  warnings.warn(\n",
            "/Library/Frameworks/Python.framework/Versions/3.11/lib/python3.11/site-packages/sklearn/linear_model/_glm/_newton_solver.py:491: LinAlgWarning: The inner solver of NewtonCholeskySolver stumbled upon a singular or very ill-conditioned Hessian matrix at iteration #1. It will now resort to lbfgs instead.\n",
            "Further options are to use another solver or to avoid such situation in the first place. Possible remedies are removing collinear features of X or increasing the penalization strengths.\n",
            "The original Linear Algebra message was:\n",
            "Ill-conditioned matrix (rcond=1.06806e-18): result may not be accurate.\n",
            "  warnings.warn(\n",
            "/Library/Frameworks/Python.framework/Versions/3.11/lib/python3.11/site-packages/sklearn/linear_model/_glm/_newton_solver.py:491: LinAlgWarning: The inner solver of NewtonCholeskySolver stumbled upon a singular or very ill-conditioned Hessian matrix at iteration #1. It will now resort to lbfgs instead.\n",
            "Further options are to use another solver or to avoid such situation in the first place. Possible remedies are removing collinear features of X or increasing the penalization strengths.\n",
            "The original Linear Algebra message was:\n",
            "Ill-conditioned matrix (rcond=7.72977e-19): result may not be accurate.\n",
            "  warnings.warn(\n",
            "/Library/Frameworks/Python.framework/Versions/3.11/lib/python3.11/site-packages/sklearn/linear_model/_logistic.py:1173: FutureWarning: `penalty='none'`has been deprecated in 1.2 and will be removed in 1.4. To keep the past behaviour, set `penalty=None`.\n",
            "  warnings.warn(\n",
            "/Library/Frameworks/Python.framework/Versions/3.11/lib/python3.11/site-packages/sklearn/linear_model/_glm/_newton_solver.py:491: LinAlgWarning: The inner solver of NewtonCholeskySolver stumbled upon a singular or very ill-conditioned Hessian matrix at iteration #1. It will now resort to lbfgs instead.\n",
            "Further options are to use another solver or to avoid such situation in the first place. Possible remedies are removing collinear features of X or increasing the penalization strengths.\n",
            "The original Linear Algebra message was:\n",
            "Ill-conditioned matrix (rcond=8.76437e-19): result may not be accurate.\n",
            "  warnings.warn(\n",
            "/Library/Frameworks/Python.framework/Versions/3.11/lib/python3.11/site-packages/sklearn/linear_model/_glm/_newton_solver.py:491: LinAlgWarning: The inner solver of NewtonCholeskySolver stumbled upon a singular or very ill-conditioned Hessian matrix at iteration #1. It will now resort to lbfgs instead.\n",
            "Further options are to use another solver or to avoid such situation in the first place. Possible remedies are removing collinear features of X or increasing the penalization strengths.\n",
            "The original Linear Algebra message was:\n",
            "Ill-conditioned matrix (rcond=2.07793e-18): result may not be accurate.\n",
            "  warnings.warn(\n",
            "/Library/Frameworks/Python.framework/Versions/3.11/lib/python3.11/site-packages/sklearn/linear_model/_glm/_newton_solver.py:491: LinAlgWarning: The inner solver of NewtonCholeskySolver stumbled upon a singular or very ill-conditioned Hessian matrix at iteration #1. It will now resort to lbfgs instead.\n",
            "Further options are to use another solver or to avoid such situation in the first place. Possible remedies are removing collinear features of X or increasing the penalization strengths.\n",
            "The original Linear Algebra message was:\n",
            "Ill-conditioned matrix (rcond=1.02888e-18): result may not be accurate.\n",
            "  warnings.warn(\n",
            "/Library/Frameworks/Python.framework/Versions/3.11/lib/python3.11/site-packages/sklearn/linear_model/_glm/_newton_solver.py:491: LinAlgWarning: The inner solver of NewtonCholeskySolver stumbled upon a singular or very ill-conditioned Hessian matrix at iteration #1. It will now resort to lbfgs instead.\n",
            "Further options are to use another solver or to avoid such situation in the first place. Possible remedies are removing collinear features of X or increasing the penalization strengths.\n",
            "The original Linear Algebra message was:\n",
            "Ill-conditioned matrix (rcond=2.07793e-18): result may not be accurate.\n",
            "  warnings.warn(\n",
            "/Library/Frameworks/Python.framework/Versions/3.11/lib/python3.11/site-packages/sklearn/linear_model/_logistic.py:1173: FutureWarning: `penalty='none'`has been deprecated in 1.2 and will be removed in 1.4. To keep the past behaviour, set `penalty=None`.\n",
            "  warnings.warn(\n",
            "/Library/Frameworks/Python.framework/Versions/3.11/lib/python3.11/site-packages/sklearn/linear_model/_glm/_newton_solver.py:491: LinAlgWarning: The inner solver of NewtonCholeskySolver stumbled upon a singular or very ill-conditioned Hessian matrix at iteration #1. It will now resort to lbfgs instead.\n",
            "Further options are to use another solver or to avoid such situation in the first place. Possible remedies are removing collinear features of X or increasing the penalization strengths.\n",
            "The original Linear Algebra message was:\n",
            "Ill-conditioned matrix (rcond=1.04578e-18): result may not be accurate.\n",
            "  warnings.warn(\n",
            "/Library/Frameworks/Python.framework/Versions/3.11/lib/python3.11/site-packages/sklearn/linear_model/_logistic.py:1173: FutureWarning: `penalty='none'`has been deprecated in 1.2 and will be removed in 1.4. To keep the past behaviour, set `penalty=None`.\n",
            "  warnings.warn(\n",
            "/Library/Frameworks/Python.framework/Versions/3.11/lib/python3.11/site-packages/sklearn/linear_model/_glm/_newton_solver.py:491: LinAlgWarning: The inner solver of NewtonCholeskySolver stumbled upon a singular or very ill-conditioned Hessian matrix at iteration #1. It will now resort to lbfgs instead.\n",
            "Further options are to use another solver or to avoid such situation in the first place. Possible remedies are removing collinear features of X or increasing the penalization strengths.\n",
            "The original Linear Algebra message was:\n",
            "Ill-conditioned matrix (rcond=1.08485e-18): result may not be accurate.\n",
            "  warnings.warn(\n",
            "/Library/Frameworks/Python.framework/Versions/3.11/lib/python3.11/site-packages/sklearn/linear_model/_logistic.py:1173: FutureWarning: `penalty='none'`has been deprecated in 1.2 and will be removed in 1.4. To keep the past behaviour, set `penalty=None`.\n",
            "  warnings.warn(\n",
            "/Library/Frameworks/Python.framework/Versions/3.11/lib/python3.11/site-packages/sklearn/linear_model/_glm/_newton_solver.py:491: LinAlgWarning: The inner solver of NewtonCholeskySolver stumbled upon a singular or very ill-conditioned Hessian matrix at iteration #1. It will now resort to lbfgs instead.\n",
            "Further options are to use another solver or to avoid such situation in the first place. Possible remedies are removing collinear features of X or increasing the penalization strengths.\n",
            "The original Linear Algebra message was:\n",
            "Ill-conditioned matrix (rcond=1.02349e-18): result may not be accurate.\n",
            "  warnings.warn(\n",
            "/Library/Frameworks/Python.framework/Versions/3.11/lib/python3.11/site-packages/sklearn/linear_model/_logistic.py:1173: FutureWarning: `penalty='none'`has been deprecated in 1.2 and will be removed in 1.4. To keep the past behaviour, set `penalty=None`.\n",
            "  warnings.warn(\n",
            "/Library/Frameworks/Python.framework/Versions/3.11/lib/python3.11/site-packages/sklearn/linear_model/_glm/_newton_solver.py:491: LinAlgWarning: The inner solver of NewtonCholeskySolver stumbled upon a singular or very ill-conditioned Hessian matrix at iteration #1. It will now resort to lbfgs instead.\n",
            "Further options are to use another solver or to avoid such situation in the first place. Possible remedies are removing collinear features of X or increasing the penalization strengths.\n",
            "The original Linear Algebra message was:\n",
            "Ill-conditioned matrix (rcond=1.04578e-18): result may not be accurate.\n",
            "  warnings.warn(\n",
            "/Library/Frameworks/Python.framework/Versions/3.11/lib/python3.11/site-packages/sklearn/linear_model/_glm/_newton_solver.py:491: LinAlgWarning: The inner solver of NewtonCholeskySolver stumbled upon a singular or very ill-conditioned Hessian matrix at iteration #1. It will now resort to lbfgs instead.\n",
            "Further options are to use another solver or to avoid such situation in the first place. Possible remedies are removing collinear features of X or increasing the penalization strengths.\n",
            "The original Linear Algebra message was:\n",
            "Ill-conditioned matrix (rcond=9.63601e-19): result may not be accurate.\n",
            "  warnings.warn(\n",
            "/Library/Frameworks/Python.framework/Versions/3.11/lib/python3.11/site-packages/sklearn/linear_model/_glm/_newton_solver.py:491: LinAlgWarning: The inner solver of NewtonCholeskySolver stumbled upon a singular or very ill-conditioned Hessian matrix at iteration #1. It will now resort to lbfgs instead.\n",
            "Further options are to use another solver or to avoid such situation in the first place. Possible remedies are removing collinear features of X or increasing the penalization strengths.\n",
            "The original Linear Algebra message was:\n",
            "Ill-conditioned matrix (rcond=1.08485e-18): result may not be accurate.\n",
            "  warnings.warn(\n",
            "/Library/Frameworks/Python.framework/Versions/3.11/lib/python3.11/site-packages/sklearn/linear_model/_glm/_newton_solver.py:491: LinAlgWarning: The inner solver of NewtonCholeskySolver stumbled upon a singular or very ill-conditioned Hessian matrix at iteration #1. It will now resort to lbfgs instead.\n",
            "Further options are to use another solver or to avoid such situation in the first place. Possible remedies are removing collinear features of X or increasing the penalization strengths.\n",
            "The original Linear Algebra message was:\n",
            "Ill-conditioned matrix (rcond=1.02349e-18): result may not be accurate.\n",
            "  warnings.warn(\n",
            "/Library/Frameworks/Python.framework/Versions/3.11/lib/python3.11/site-packages/sklearn/linear_model/_glm/_newton_solver.py:491: LinAlgWarning: The inner solver of NewtonCholeskySolver stumbled upon a singular or very ill-conditioned Hessian matrix at iteration #1. It will now resort to lbfgs instead.\n",
            "Further options are to use another solver or to avoid such situation in the first place. Possible remedies are removing collinear features of X or increasing the penalization strengths.\n",
            "The original Linear Algebra message was:\n",
            "Ill-conditioned matrix (rcond=9.63601e-19): result may not be accurate.\n",
            "  warnings.warn(\n",
            "/Library/Frameworks/Python.framework/Versions/3.11/lib/python3.11/site-packages/sklearn/linear_model/_glm/_newton_solver.py:491: LinAlgWarning: The inner solver of NewtonCholeskySolver stumbled upon a singular or very ill-conditioned Hessian matrix at iteration #1. It will now resort to lbfgs instead.\n",
            "Further options are to use another solver or to avoid such situation in the first place. Possible remedies are removing collinear features of X or increasing the penalization strengths.\n",
            "The original Linear Algebra message was:\n",
            "Ill-conditioned matrix (rcond=2.07793e-18): result may not be accurate.\n",
            "  warnings.warn(\n",
            "/Library/Frameworks/Python.framework/Versions/3.11/lib/python3.11/site-packages/sklearn/linear_model/_glm/_newton_solver.py:491: LinAlgWarning: The inner solver of NewtonCholeskySolver stumbled upon a singular or very ill-conditioned Hessian matrix at iteration #1. It will now resort to lbfgs instead.\n",
            "Further options are to use another solver or to avoid such situation in the first place. Possible remedies are removing collinear features of X or increasing the penalization strengths.\n",
            "The original Linear Algebra message was:\n",
            "Ill-conditioned matrix (rcond=1.04578e-18): result may not be accurate.\n",
            "  warnings.warn(\n",
            "/Library/Frameworks/Python.framework/Versions/3.11/lib/python3.11/site-packages/sklearn/linear_model/_glm/_newton_solver.py:491: LinAlgWarning: The inner solver of NewtonCholeskySolver stumbled upon a singular or very ill-conditioned Hessian matrix at iteration #1. It will now resort to lbfgs instead.\n",
            "Further options are to use another solver or to avoid such situation in the first place. Possible remedies are removing collinear features of X or increasing the penalization strengths.\n",
            "The original Linear Algebra message was:\n",
            "Ill-conditioned matrix (rcond=1.08485e-18): result may not be accurate.\n",
            "  warnings.warn(\n",
            "/Library/Frameworks/Python.framework/Versions/3.11/lib/python3.11/site-packages/sklearn/linear_model/_glm/_newton_solver.py:491: LinAlgWarning: The inner solver of NewtonCholeskySolver stumbled upon a singular or very ill-conditioned Hessian matrix at iteration #1. It will now resort to lbfgs instead.\n",
            "Further options are to use another solver or to avoid such situation in the first place. Possible remedies are removing collinear features of X or increasing the penalization strengths.\n",
            "The original Linear Algebra message was:\n",
            "Ill-conditioned matrix (rcond=1.02349e-18): result may not be accurate.\n",
            "  warnings.warn(\n",
            "/Library/Frameworks/Python.framework/Versions/3.11/lib/python3.11/site-packages/sklearn/linear_model/_logistic.py:1173: FutureWarning: `penalty='none'`has been deprecated in 1.2 and will be removed in 1.4. To keep the past behaviour, set `penalty=None`.\n",
            "  warnings.warn(\n",
            "/Library/Frameworks/Python.framework/Versions/3.11/lib/python3.11/site-packages/sklearn/linear_model/_glm/_newton_solver.py:491: LinAlgWarning: The inner solver of NewtonCholeskySolver stumbled upon a singular or very ill-conditioned Hessian matrix at iteration #1. It will now resort to lbfgs instead.\n",
            "Further options are to use another solver or to avoid such situation in the first place. Possible remedies are removing collinear features of X or increasing the penalization strengths.\n",
            "The original Linear Algebra message was:\n",
            "Ill-conditioned matrix (rcond=9.63601e-19): result may not be accurate.\n",
            "  warnings.warn(\n",
            "/Library/Frameworks/Python.framework/Versions/3.11/lib/python3.11/site-packages/sklearn/linear_model/_glm/_newton_solver.py:491: LinAlgWarning: The inner solver of NewtonCholeskySolver stumbled upon a singular or very ill-conditioned Hessian matrix at iteration #1. It will now resort to lbfgs instead.\n",
            "Further options are to use another solver or to avoid such situation in the first place. Possible remedies are removing collinear features of X or increasing the penalization strengths.\n",
            "The original Linear Algebra message was:\n",
            "Ill-conditioned matrix (rcond=9.58395e-19): result may not be accurate.\n",
            "  warnings.warn(\n",
            "/Library/Frameworks/Python.framework/Versions/3.11/lib/python3.11/site-packages/sklearn/linear_model/_glm/_newton_solver.py:491: LinAlgWarning: The inner solver of NewtonCholeskySolver stumbled upon a singular or very ill-conditioned Hessian matrix at iteration #1. It will now resort to lbfgs instead.\n",
            "Further options are to use another solver or to avoid such situation in the first place. Possible remedies are removing collinear features of X or increasing the penalization strengths.\n",
            "The original Linear Algebra message was:\n",
            "Ill-conditioned matrix (rcond=9.58395e-19): result may not be accurate.\n",
            "  warnings.warn(\n",
            "/Library/Frameworks/Python.framework/Versions/3.11/lib/python3.11/site-packages/sklearn/linear_model/_logistic.py:1173: FutureWarning: `penalty='none'`has been deprecated in 1.2 and will be removed in 1.4. To keep the past behaviour, set `penalty=None`.\n",
            "  warnings.warn(\n",
            "/Library/Frameworks/Python.framework/Versions/3.11/lib/python3.11/site-packages/sklearn/linear_model/_glm/_newton_solver.py:491: LinAlgWarning: The inner solver of NewtonCholeskySolver stumbled upon a singular or very ill-conditioned Hessian matrix at iteration #1. It will now resort to lbfgs instead.\n",
            "Further options are to use another solver or to avoid such situation in the first place. Possible remedies are removing collinear features of X or increasing the penalization strengths.\n",
            "The original Linear Algebra message was:\n",
            "Ill-conditioned matrix (rcond=9.04574e-19): result may not be accurate.\n",
            "  warnings.warn(\n",
            "/Library/Frameworks/Python.framework/Versions/3.11/lib/python3.11/site-packages/sklearn/linear_model/_logistic.py:1173: FutureWarning: `penalty='none'`has been deprecated in 1.2 and will be removed in 1.4. To keep the past behaviour, set `penalty=None`.\n",
            "  warnings.warn(\n",
            "/Library/Frameworks/Python.framework/Versions/3.11/lib/python3.11/site-packages/sklearn/linear_model/_glm/_newton_solver.py:491: LinAlgWarning: The inner solver of NewtonCholeskySolver stumbled upon a singular or very ill-conditioned Hessian matrix at iteration #1. It will now resort to lbfgs instead.\n",
            "Further options are to use another solver or to avoid such situation in the first place. Possible remedies are removing collinear features of X or increasing the penalization strengths.\n",
            "The original Linear Algebra message was:\n",
            "Ill-conditioned matrix (rcond=1.10705e-18): result may not be accurate.\n",
            "  warnings.warn(\n",
            "/Library/Frameworks/Python.framework/Versions/3.11/lib/python3.11/site-packages/sklearn/linear_model/_logistic.py:1173: FutureWarning: `penalty='none'`has been deprecated in 1.2 and will be removed in 1.4. To keep the past behaviour, set `penalty=None`.\n",
            "  warnings.warn(\n",
            "/Library/Frameworks/Python.framework/Versions/3.11/lib/python3.11/site-packages/sklearn/linear_model/_glm/_newton_solver.py:491: LinAlgWarning: The inner solver of NewtonCholeskySolver stumbled upon a singular or very ill-conditioned Hessian matrix at iteration #1. It will now resort to lbfgs instead.\n",
            "Further options are to use another solver or to avoid such situation in the first place. Possible remedies are removing collinear features of X or increasing the penalization strengths.\n",
            "The original Linear Algebra message was:\n",
            "Ill-conditioned matrix (rcond=8.06326e-19): result may not be accurate.\n",
            "  warnings.warn(\n",
            "/Library/Frameworks/Python.framework/Versions/3.11/lib/python3.11/site-packages/sklearn/linear_model/_glm/_newton_solver.py:491: LinAlgWarning: The inner solver of NewtonCholeskySolver stumbled upon a singular or very ill-conditioned Hessian matrix at iteration #1. It will now resort to lbfgs instead.\n",
            "Further options are to use another solver or to avoid such situation in the first place. Possible remedies are removing collinear features of X or increasing the penalization strengths.\n",
            "The original Linear Algebra message was:\n",
            "Ill-conditioned matrix (rcond=9.04574e-19): result may not be accurate.\n",
            "  warnings.warn(\n",
            "/Library/Frameworks/Python.framework/Versions/3.11/lib/python3.11/site-packages/sklearn/linear_model/_glm/_newton_solver.py:491: LinAlgWarning: The inner solver of NewtonCholeskySolver stumbled upon a singular or very ill-conditioned Hessian matrix at iteration #1. It will now resort to lbfgs instead.\n",
            "Further options are to use another solver or to avoid such situation in the first place. Possible remedies are removing collinear features of X or increasing the penalization strengths.\n",
            "The original Linear Algebra message was:\n",
            "Ill-conditioned matrix (rcond=1.10705e-18): result may not be accurate.\n",
            "  warnings.warn(\n",
            "/Library/Frameworks/Python.framework/Versions/3.11/lib/python3.11/site-packages/sklearn/linear_model/_logistic.py:1173: FutureWarning: `penalty='none'`has been deprecated in 1.2 and will be removed in 1.4. To keep the past behaviour, set `penalty=None`.\n",
            "  warnings.warn(\n",
            "/Library/Frameworks/Python.framework/Versions/3.11/lib/python3.11/site-packages/sklearn/linear_model/_glm/_newton_solver.py:491: LinAlgWarning: The inner solver of NewtonCholeskySolver stumbled upon a singular or very ill-conditioned Hessian matrix at iteration #1. It will now resort to lbfgs instead.\n",
            "Further options are to use another solver or to avoid such situation in the first place. Possible remedies are removing collinear features of X or increasing the penalization strengths.\n",
            "The original Linear Algebra message was:\n",
            "Ill-conditioned matrix (rcond=1.0951e-18): result may not be accurate.\n",
            "  warnings.warn(\n",
            "/Library/Frameworks/Python.framework/Versions/3.11/lib/python3.11/site-packages/sklearn/linear_model/_glm/_newton_solver.py:491: LinAlgWarning: The inner solver of NewtonCholeskySolver stumbled upon a singular or very ill-conditioned Hessian matrix at iteration #1. It will now resort to lbfgs instead.\n",
            "Further options are to use another solver or to avoid such situation in the first place. Possible remedies are removing collinear features of X or increasing the penalization strengths.\n",
            "The original Linear Algebra message was:\n",
            "Ill-conditioned matrix (rcond=8.06326e-19): result may not be accurate.\n",
            "  warnings.warn(\n",
            "/Library/Frameworks/Python.framework/Versions/3.11/lib/python3.11/site-packages/sklearn/linear_model/_glm/_newton_solver.py:491: LinAlgWarning: The inner solver of NewtonCholeskySolver stumbled upon a singular or very ill-conditioned Hessian matrix at iteration #1. It will now resort to lbfgs instead.\n",
            "Further options are to use another solver or to avoid such situation in the first place. Possible remedies are removing collinear features of X or increasing the penalization strengths.\n",
            "The original Linear Algebra message was:\n",
            "Ill-conditioned matrix (rcond=9.58395e-19): result may not be accurate.\n",
            "  warnings.warn(\n",
            "/Library/Frameworks/Python.framework/Versions/3.11/lib/python3.11/site-packages/sklearn/linear_model/_glm/_newton_solver.py:491: LinAlgWarning: The inner solver of NewtonCholeskySolver stumbled upon a singular or very ill-conditioned Hessian matrix at iteration #1. It will now resort to lbfgs instead.\n",
            "Further options are to use another solver or to avoid such situation in the first place. Possible remedies are removing collinear features of X or increasing the penalization strengths.\n",
            "The original Linear Algebra message was:\n",
            "Ill-conditioned matrix (rcond=1.0951e-18): result may not be accurate.\n",
            "  warnings.warn(\n",
            "/Library/Frameworks/Python.framework/Versions/3.11/lib/python3.11/site-packages/sklearn/linear_model/_glm/_newton_solver.py:491: LinAlgWarning: The inner solver of NewtonCholeskySolver stumbled upon a singular or very ill-conditioned Hessian matrix at iteration #1. It will now resort to lbfgs instead.\n",
            "Further options are to use another solver or to avoid such situation in the first place. Possible remedies are removing collinear features of X or increasing the penalization strengths.\n",
            "The original Linear Algebra message was:\n",
            "Ill-conditioned matrix (rcond=9.04574e-19): result may not be accurate.\n",
            "  warnings.warn(\n",
            "/Library/Frameworks/Python.framework/Versions/3.11/lib/python3.11/site-packages/sklearn/linear_model/_glm/_newton_solver.py:491: LinAlgWarning: The inner solver of NewtonCholeskySolver stumbled upon a singular or very ill-conditioned Hessian matrix at iteration #1. It will now resort to lbfgs instead.\n",
            "Further options are to use another solver or to avoid such situation in the first place. Possible remedies are removing collinear features of X or increasing the penalization strengths.\n",
            "The original Linear Algebra message was:\n",
            "Ill-conditioned matrix (rcond=1.10705e-18): result may not be accurate.\n",
            "  warnings.warn(\n",
            "/Library/Frameworks/Python.framework/Versions/3.11/lib/python3.11/site-packages/sklearn/linear_model/_glm/_newton_solver.py:491: LinAlgWarning: The inner solver of NewtonCholeskySolver stumbled upon a singular or very ill-conditioned Hessian matrix at iteration #1. It will now resort to lbfgs instead.\n",
            "Further options are to use another solver or to avoid such situation in the first place. Possible remedies are removing collinear features of X or increasing the penalization strengths.\n",
            "The original Linear Algebra message was:\n",
            "Ill-conditioned matrix (rcond=8.06326e-19): result may not be accurate.\n",
            "  warnings.warn(\n",
            "/Library/Frameworks/Python.framework/Versions/3.11/lib/python3.11/site-packages/sklearn/linear_model/_glm/_newton_solver.py:491: LinAlgWarning: The inner solver of NewtonCholeskySolver stumbled upon a singular or very ill-conditioned Hessian matrix at iteration #1. It will now resort to lbfgs instead.\n",
            "Further options are to use another solver or to avoid such situation in the first place. Possible remedies are removing collinear features of X or increasing the penalization strengths.\n",
            "The original Linear Algebra message was:\n",
            "Ill-conditioned matrix (rcond=1.0951e-18): result may not be accurate.\n",
            "  warnings.warn(\n",
            "/Library/Frameworks/Python.framework/Versions/3.11/lib/python3.11/site-packages/sklearn/linear_model/_logistic.py:1173: FutureWarning: `penalty='none'`has been deprecated in 1.2 and will be removed in 1.4. To keep the past behaviour, set `penalty=None`.\n",
            "  warnings.warn(\n",
            "/Library/Frameworks/Python.framework/Versions/3.11/lib/python3.11/site-packages/sklearn/linear_model/_glm/_newton_solver.py:491: LinAlgWarning: The inner solver of NewtonCholeskySolver stumbled upon a singular or very ill-conditioned Hessian matrix at iteration #1. It will now resort to lbfgs instead.\n",
            "Further options are to use another solver or to avoid such situation in the first place. Possible remedies are removing collinear features of X or increasing the penalization strengths.\n",
            "The original Linear Algebra message was:\n",
            "Ill-conditioned matrix (rcond=2.16353e-18): result may not be accurate.\n",
            "  warnings.warn(\n",
            "/Library/Frameworks/Python.framework/Versions/3.11/lib/python3.11/site-packages/sklearn/linear_model/_glm/_newton_solver.py:491: LinAlgWarning: The inner solver of NewtonCholeskySolver stumbled upon a singular or very ill-conditioned Hessian matrix at iteration #1. It will now resort to lbfgs instead.\n",
            "Further options are to use another solver or to avoid such situation in the first place. Possible remedies are removing collinear features of X or increasing the penalization strengths.\n",
            "The original Linear Algebra message was:\n",
            "Ill-conditioned matrix (rcond=2.16353e-18): result may not be accurate.\n",
            "  warnings.warn(\n",
            "/Library/Frameworks/Python.framework/Versions/3.11/lib/python3.11/site-packages/sklearn/linear_model/_logistic.py:1173: FutureWarning: `penalty='none'`has been deprecated in 1.2 and will be removed in 1.4. To keep the past behaviour, set `penalty=None`.\n",
            "  warnings.warn(\n",
            "/Library/Frameworks/Python.framework/Versions/3.11/lib/python3.11/site-packages/sklearn/linear_model/_glm/_newton_solver.py:491: LinAlgWarning: The inner solver of NewtonCholeskySolver stumbled upon a singular or very ill-conditioned Hessian matrix at iteration #1. It will now resort to lbfgs instead.\n",
            "Further options are to use another solver or to avoid such situation in the first place. Possible remedies are removing collinear features of X or increasing the penalization strengths.\n",
            "The original Linear Algebra message was:\n",
            "Ill-conditioned matrix (rcond=1.00379e-18): result may not be accurate.\n",
            "  warnings.warn(\n",
            "/Library/Frameworks/Python.framework/Versions/3.11/lib/python3.11/site-packages/sklearn/linear_model/_logistic.py:1173: FutureWarning: `penalty='none'`has been deprecated in 1.2 and will be removed in 1.4. To keep the past behaviour, set `penalty=None`.\n",
            "  warnings.warn(\n",
            "/Library/Frameworks/Python.framework/Versions/3.11/lib/python3.11/site-packages/sklearn/linear_model/_glm/_newton_solver.py:491: LinAlgWarning: The inner solver of NewtonCholeskySolver stumbled upon a singular or very ill-conditioned Hessian matrix at iteration #1. It will now resort to lbfgs instead.\n",
            "Further options are to use another solver or to avoid such situation in the first place. Possible remedies are removing collinear features of X or increasing the penalization strengths.\n",
            "The original Linear Algebra message was:\n",
            "Ill-conditioned matrix (rcond=9.50729e-19): result may not be accurate.\n",
            "  warnings.warn(\n",
            "/Library/Frameworks/Python.framework/Versions/3.11/lib/python3.11/site-packages/sklearn/linear_model/_logistic.py:1173: FutureWarning: `penalty='none'`has been deprecated in 1.2 and will be removed in 1.4. To keep the past behaviour, set `penalty=None`.\n",
            "  warnings.warn(\n",
            "/Library/Frameworks/Python.framework/Versions/3.11/lib/python3.11/site-packages/sklearn/linear_model/_glm/_newton_solver.py:491: LinAlgWarning: The inner solver of NewtonCholeskySolver stumbled upon a singular or very ill-conditioned Hessian matrix at iteration #1. It will now resort to lbfgs instead.\n",
            "Further options are to use another solver or to avoid such situation in the first place. Possible remedies are removing collinear features of X or increasing the penalization strengths.\n",
            "The original Linear Algebra message was:\n",
            "Ill-conditioned matrix (rcond=1.04535e-18): result may not be accurate.\n",
            "  warnings.warn(\n",
            "/Library/Frameworks/Python.framework/Versions/3.11/lib/python3.11/site-packages/sklearn/linear_model/_logistic.py:1173: FutureWarning: `penalty='none'`has been deprecated in 1.2 and will be removed in 1.4. To keep the past behaviour, set `penalty=None`.\n",
            "  warnings.warn(\n",
            "/Library/Frameworks/Python.framework/Versions/3.11/lib/python3.11/site-packages/sklearn/linear_model/_glm/_newton_solver.py:491: LinAlgWarning: The inner solver of NewtonCholeskySolver stumbled upon a singular or very ill-conditioned Hessian matrix at iteration #1. It will now resort to lbfgs instead.\n",
            "Further options are to use another solver or to avoid such situation in the first place. Possible remedies are removing collinear features of X or increasing the penalization strengths.\n",
            "The original Linear Algebra message was:\n",
            "Ill-conditioned matrix (rcond=9.73837e-19): result may not be accurate.\n",
            "  warnings.warn(\n",
            "/Library/Frameworks/Python.framework/Versions/3.11/lib/python3.11/site-packages/sklearn/linear_model/_glm/_newton_solver.py:491: LinAlgWarning: The inner solver of NewtonCholeskySolver stumbled upon a singular or very ill-conditioned Hessian matrix at iteration #1. It will now resort to lbfgs instead.\n",
            "Further options are to use another solver or to avoid such situation in the first place. Possible remedies are removing collinear features of X or increasing the penalization strengths.\n",
            "The original Linear Algebra message was:\n",
            "Ill-conditioned matrix (rcond=1.00379e-18): result may not be accurate.\n",
            "  warnings.warn(\n",
            "/Library/Frameworks/Python.framework/Versions/3.11/lib/python3.11/site-packages/sklearn/linear_model/_glm/_newton_solver.py:491: LinAlgWarning: The inner solver of NewtonCholeskySolver stumbled upon a singular or very ill-conditioned Hessian matrix at iteration #1. It will now resort to lbfgs instead.\n",
            "Further options are to use another solver or to avoid such situation in the first place. Possible remedies are removing collinear features of X or increasing the penalization strengths.\n",
            "The original Linear Algebra message was:\n",
            "Ill-conditioned matrix (rcond=9.50729e-19): result may not be accurate.\n",
            "  warnings.warn(\n",
            "/Library/Frameworks/Python.framework/Versions/3.11/lib/python3.11/site-packages/sklearn/linear_model/_glm/_newton_solver.py:491: LinAlgWarning: The inner solver of NewtonCholeskySolver stumbled upon a singular or very ill-conditioned Hessian matrix at iteration #1. It will now resort to lbfgs instead.\n",
            "Further options are to use another solver or to avoid such situation in the first place. Possible remedies are removing collinear features of X or increasing the penalization strengths.\n",
            "The original Linear Algebra message was:\n",
            "Ill-conditioned matrix (rcond=9.73837e-19): result may not be accurate.\n",
            "  warnings.warn(\n",
            "/Library/Frameworks/Python.framework/Versions/3.11/lib/python3.11/site-packages/sklearn/linear_model/_glm/_newton_solver.py:491: LinAlgWarning: The inner solver of NewtonCholeskySolver stumbled upon a singular or very ill-conditioned Hessian matrix at iteration #1. It will now resort to lbfgs instead.\n",
            "Further options are to use another solver or to avoid such situation in the first place. Possible remedies are removing collinear features of X or increasing the penalization strengths.\n",
            "The original Linear Algebra message was:\n",
            "Ill-conditioned matrix (rcond=1.04535e-18): result may not be accurate.\n",
            "  warnings.warn(\n",
            "/Library/Frameworks/Python.framework/Versions/3.11/lib/python3.11/site-packages/sklearn/linear_model/_glm/_newton_solver.py:491: LinAlgWarning: The inner solver of NewtonCholeskySolver stumbled upon a singular or very ill-conditioned Hessian matrix at iteration #1. It will now resort to lbfgs instead.\n",
            "Further options are to use another solver or to avoid such situation in the first place. Possible remedies are removing collinear features of X or increasing the penalization strengths.\n",
            "The original Linear Algebra message was:\n",
            "Ill-conditioned matrix (rcond=2.16353e-18): result may not be accurate.\n",
            "  warnings.warn(\n",
            "/Library/Frameworks/Python.framework/Versions/3.11/lib/python3.11/site-packages/sklearn/linear_model/_glm/_newton_solver.py:491: LinAlgWarning: The inner solver of NewtonCholeskySolver stumbled upon a singular or very ill-conditioned Hessian matrix at iteration #1. It will now resort to lbfgs instead.\n",
            "Further options are to use another solver or to avoid such situation in the first place. Possible remedies are removing collinear features of X or increasing the penalization strengths.\n",
            "The original Linear Algebra message was:\n",
            "Ill-conditioned matrix (rcond=1.00379e-18): result may not be accurate.\n",
            "  warnings.warn(\n",
            "/Library/Frameworks/Python.framework/Versions/3.11/lib/python3.11/site-packages/sklearn/linear_model/_glm/_newton_solver.py:491: LinAlgWarning: The inner solver of NewtonCholeskySolver stumbled upon a singular or very ill-conditioned Hessian matrix at iteration #1. It will now resort to lbfgs instead.\n",
            "Further options are to use another solver or to avoid such situation in the first place. Possible remedies are removing collinear features of X or increasing the penalization strengths.\n",
            "The original Linear Algebra message was:\n",
            "Ill-conditioned matrix (rcond=9.50729e-19): result may not be accurate.\n",
            "  warnings.warn(\n",
            "/Library/Frameworks/Python.framework/Versions/3.11/lib/python3.11/site-packages/sklearn/linear_model/_glm/_newton_solver.py:491: LinAlgWarning: The inner solver of NewtonCholeskySolver stumbled upon a singular or very ill-conditioned Hessian matrix at iteration #1. It will now resort to lbfgs instead.\n",
            "Further options are to use another solver or to avoid such situation in the first place. Possible remedies are removing collinear features of X or increasing the penalization strengths.\n",
            "The original Linear Algebra message was:\n",
            "Ill-conditioned matrix (rcond=9.73837e-19): result may not be accurate.\n",
            "  warnings.warn(\n",
            "/Library/Frameworks/Python.framework/Versions/3.11/lib/python3.11/site-packages/sklearn/linear_model/_logistic.py:1173: FutureWarning: `penalty='none'`has been deprecated in 1.2 and will be removed in 1.4. To keep the past behaviour, set `penalty=None`.\n",
            "  warnings.warn(\n",
            "/Library/Frameworks/Python.framework/Versions/3.11/lib/python3.11/site-packages/sklearn/linear_model/_glm/_newton_solver.py:491: LinAlgWarning: The inner solver of NewtonCholeskySolver stumbled upon a singular or very ill-conditioned Hessian matrix at iteration #1. It will now resort to lbfgs instead.\n",
            "Further options are to use another solver or to avoid such situation in the first place. Possible remedies are removing collinear features of X or increasing the penalization strengths.\n",
            "The original Linear Algebra message was:\n",
            "Ill-conditioned matrix (rcond=1.04535e-18): result may not be accurate.\n",
            "  warnings.warn(\n",
            "/Library/Frameworks/Python.framework/Versions/3.11/lib/python3.11/site-packages/sklearn/linear_model/_glm/_newton_solver.py:491: LinAlgWarning: The inner solver of NewtonCholeskySolver stumbled upon a singular or very ill-conditioned Hessian matrix at iteration #1. It will now resort to lbfgs instead.\n",
            "Further options are to use another solver or to avoid such situation in the first place. Possible remedies are removing collinear features of X or increasing the penalization strengths.\n",
            "The original Linear Algebra message was:\n",
            "Ill-conditioned matrix (rcond=1.03152e-18): result may not be accurate.\n",
            "  warnings.warn(\n",
            "/Library/Frameworks/Python.framework/Versions/3.11/lib/python3.11/site-packages/sklearn/linear_model/_glm/_newton_solver.py:491: LinAlgWarning: The inner solver of NewtonCholeskySolver stumbled upon a singular or very ill-conditioned Hessian matrix at iteration #1. It will now resort to lbfgs instead.\n",
            "Further options are to use another solver or to avoid such situation in the first place. Possible remedies are removing collinear features of X or increasing the penalization strengths.\n",
            "The original Linear Algebra message was:\n",
            "Ill-conditioned matrix (rcond=1.03152e-18): result may not be accurate.\n",
            "  warnings.warn(\n",
            "/Library/Frameworks/Python.framework/Versions/3.11/lib/python3.11/site-packages/sklearn/linear_model/_logistic.py:1173: FutureWarning: `penalty='none'`has been deprecated in 1.2 and will be removed in 1.4. To keep the past behaviour, set `penalty=None`.\n",
            "  warnings.warn(\n",
            "/Library/Frameworks/Python.framework/Versions/3.11/lib/python3.11/site-packages/sklearn/linear_model/_glm/_newton_solver.py:491: LinAlgWarning: The inner solver of NewtonCholeskySolver stumbled upon a singular or very ill-conditioned Hessian matrix at iteration #1. It will now resort to lbfgs instead.\n",
            "Further options are to use another solver or to avoid such situation in the first place. Possible remedies are removing collinear features of X or increasing the penalization strengths.\n",
            "The original Linear Algebra message was:\n",
            "Ill-conditioned matrix (rcond=1.03151e-18): result may not be accurate.\n",
            "  warnings.warn(\n",
            "/Library/Frameworks/Python.framework/Versions/3.11/lib/python3.11/site-packages/sklearn/linear_model/_logistic.py:1173: FutureWarning: `penalty='none'`has been deprecated in 1.2 and will be removed in 1.4. To keep the past behaviour, set `penalty=None`.\n",
            "  warnings.warn(\n",
            "/Library/Frameworks/Python.framework/Versions/3.11/lib/python3.11/site-packages/sklearn/linear_model/_glm/_newton_solver.py:491: LinAlgWarning: The inner solver of NewtonCholeskySolver stumbled upon a singular or very ill-conditioned Hessian matrix at iteration #1. It will now resort to lbfgs instead.\n",
            "Further options are to use another solver or to avoid such situation in the first place. Possible remedies are removing collinear features of X or increasing the penalization strengths.\n",
            "The original Linear Algebra message was:\n",
            "Ill-conditioned matrix (rcond=1.00532e-18): result may not be accurate.\n",
            "  warnings.warn(\n",
            "/Library/Frameworks/Python.framework/Versions/3.11/lib/python3.11/site-packages/sklearn/linear_model/_glm/_newton_solver.py:491: LinAlgWarning: The inner solver of NewtonCholeskySolver stumbled upon a singular or very ill-conditioned Hessian matrix at iteration #1. It will now resort to lbfgs instead.\n",
            "Further options are to use another solver or to avoid such situation in the first place. Possible remedies are removing collinear features of X or increasing the penalization strengths.\n",
            "The original Linear Algebra message was:\n",
            "Ill-conditioned matrix (rcond=1.03151e-18): result may not be accurate.\n",
            "  warnings.warn(\n",
            "/Library/Frameworks/Python.framework/Versions/3.11/lib/python3.11/site-packages/sklearn/linear_model/_logistic.py:1173: FutureWarning: `penalty='none'`has been deprecated in 1.2 and will be removed in 1.4. To keep the past behaviour, set `penalty=None`.\n",
            "  warnings.warn(\n",
            "/Library/Frameworks/Python.framework/Versions/3.11/lib/python3.11/site-packages/sklearn/linear_model/_logistic.py:1173: FutureWarning: `penalty='none'`has been deprecated in 1.2 and will be removed in 1.4. To keep the past behaviour, set `penalty=None`.\n",
            "  warnings.warn(\n",
            "/Library/Frameworks/Python.framework/Versions/3.11/lib/python3.11/site-packages/sklearn/linear_model/_glm/_newton_solver.py:491: LinAlgWarning: The inner solver of NewtonCholeskySolver stumbled upon a singular or very ill-conditioned Hessian matrix at iteration #1. It will now resort to lbfgs instead.\n",
            "Further options are to use another solver or to avoid such situation in the first place. Possible remedies are removing collinear features of X or increasing the penalization strengths.\n",
            "The original Linear Algebra message was:\n",
            "Ill-conditioned matrix (rcond=7.61072e-19): result may not be accurate.\n",
            "  warnings.warn(\n",
            "/Library/Frameworks/Python.framework/Versions/3.11/lib/python3.11/site-packages/sklearn/linear_model/_glm/_newton_solver.py:491: LinAlgWarning: The inner solver of NewtonCholeskySolver stumbled upon a singular or very ill-conditioned Hessian matrix at iteration #1. It will now resort to lbfgs instead.\n",
            "Further options are to use another solver or to avoid such situation in the first place. Possible remedies are removing collinear features of X or increasing the penalization strengths.\n",
            "The original Linear Algebra message was:\n",
            "Ill-conditioned matrix (rcond=1.00544e-18): result may not be accurate.\n",
            "  warnings.warn(\n",
            "/Library/Frameworks/Python.framework/Versions/3.11/lib/python3.11/site-packages/sklearn/linear_model/_glm/_newton_solver.py:491: LinAlgWarning: The inner solver of NewtonCholeskySolver stumbled upon a singular or very ill-conditioned Hessian matrix at iteration #1. It will now resort to lbfgs instead.\n",
            "Further options are to use another solver or to avoid such situation in the first place. Possible remedies are removing collinear features of X or increasing the penalization strengths.\n",
            "The original Linear Algebra message was:\n",
            "Ill-conditioned matrix (rcond=1.00532e-18): result may not be accurate.\n",
            "  warnings.warn(\n",
            "/Library/Frameworks/Python.framework/Versions/3.11/lib/python3.11/site-packages/sklearn/linear_model/_glm/_newton_solver.py:491: LinAlgWarning: The inner solver of NewtonCholeskySolver stumbled upon a singular or very ill-conditioned Hessian matrix at iteration #1. It will now resort to lbfgs instead.\n",
            "Further options are to use another solver or to avoid such situation in the first place. Possible remedies are removing collinear features of X or increasing the penalization strengths.\n",
            "The original Linear Algebra message was:\n",
            "Ill-conditioned matrix (rcond=1.00544e-18): result may not be accurate.\n",
            "  warnings.warn(\n",
            "/Library/Frameworks/Python.framework/Versions/3.11/lib/python3.11/site-packages/sklearn/linear_model/_glm/_newton_solver.py:491: LinAlgWarning: The inner solver of NewtonCholeskySolver stumbled upon a singular or very ill-conditioned Hessian matrix at iteration #1. It will now resort to lbfgs instead.\n",
            "Further options are to use another solver or to avoid such situation in the first place. Possible remedies are removing collinear features of X or increasing the penalization strengths.\n",
            "The original Linear Algebra message was:\n",
            "Ill-conditioned matrix (rcond=1.03152e-18): result may not be accurate.\n",
            "  warnings.warn(\n",
            "/Library/Frameworks/Python.framework/Versions/3.11/lib/python3.11/site-packages/sklearn/linear_model/_glm/_newton_solver.py:491: LinAlgWarning: The inner solver of NewtonCholeskySolver stumbled upon a singular or very ill-conditioned Hessian matrix at iteration #1. It will now resort to lbfgs instead.\n",
            "Further options are to use another solver or to avoid such situation in the first place. Possible remedies are removing collinear features of X or increasing the penalization strengths.\n",
            "The original Linear Algebra message was:\n",
            "Ill-conditioned matrix (rcond=7.61072e-19): result may not be accurate.\n",
            "  warnings.warn(\n",
            "/Library/Frameworks/Python.framework/Versions/3.11/lib/python3.11/site-packages/sklearn/linear_model/_glm/_newton_solver.py:491: LinAlgWarning: The inner solver of NewtonCholeskySolver stumbled upon a singular or very ill-conditioned Hessian matrix at iteration #1. It will now resort to lbfgs instead.\n",
            "Further options are to use another solver or to avoid such situation in the first place. Possible remedies are removing collinear features of X or increasing the penalization strengths.\n",
            "The original Linear Algebra message was:\n",
            "Ill-conditioned matrix (rcond=1.03151e-18): result may not be accurate.\n",
            "  warnings.warn(\n",
            "/Library/Frameworks/Python.framework/Versions/3.11/lib/python3.11/site-packages/sklearn/linear_model/_logistic.py:1173: FutureWarning: `penalty='none'`has been deprecated in 1.2 and will be removed in 1.4. To keep the past behaviour, set `penalty=None`.\n",
            "  warnings.warn(\n",
            "/Library/Frameworks/Python.framework/Versions/3.11/lib/python3.11/site-packages/sklearn/linear_model/_glm/_newton_solver.py:491: LinAlgWarning: The inner solver of NewtonCholeskySolver stumbled upon a singular or very ill-conditioned Hessian matrix at iteration #1. It will now resort to lbfgs instead.\n",
            "Further options are to use another solver or to avoid such situation in the first place. Possible remedies are removing collinear features of X or increasing the penalization strengths.\n",
            "The original Linear Algebra message was:\n",
            "Ill-conditioned matrix (rcond=1.00532e-18): result may not be accurate.\n",
            "  warnings.warn(\n",
            "/Library/Frameworks/Python.framework/Versions/3.11/lib/python3.11/site-packages/sklearn/linear_model/_glm/_newton_solver.py:491: LinAlgWarning: The inner solver of NewtonCholeskySolver stumbled upon a singular or very ill-conditioned Hessian matrix at iteration #1. It will now resort to lbfgs instead.\n",
            "Further options are to use another solver or to avoid such situation in the first place. Possible remedies are removing collinear features of X or increasing the penalization strengths.\n",
            "The original Linear Algebra message was:\n",
            "Ill-conditioned matrix (rcond=2.1415e-18): result may not be accurate.\n",
            "  warnings.warn(\n",
            "/Library/Frameworks/Python.framework/Versions/3.11/lib/python3.11/site-packages/sklearn/linear_model/_glm/_newton_solver.py:491: LinAlgWarning: The inner solver of NewtonCholeskySolver stumbled upon a singular or very ill-conditioned Hessian matrix at iteration #1. It will now resort to lbfgs instead.\n",
            "Further options are to use another solver or to avoid such situation in the first place. Possible remedies are removing collinear features of X or increasing the penalization strengths.\n",
            "The original Linear Algebra message was:\n",
            "Ill-conditioned matrix (rcond=1.00544e-18): result may not be accurate.\n",
            "  warnings.warn(\n",
            "/Library/Frameworks/Python.framework/Versions/3.11/lib/python3.11/site-packages/sklearn/linear_model/_glm/_newton_solver.py:491: LinAlgWarning: The inner solver of NewtonCholeskySolver stumbled upon a singular or very ill-conditioned Hessian matrix at iteration #1. It will now resort to lbfgs instead.\n",
            "Further options are to use another solver or to avoid such situation in the first place. Possible remedies are removing collinear features of X or increasing the penalization strengths.\n",
            "The original Linear Algebra message was:\n",
            "Ill-conditioned matrix (rcond=7.61072e-19): result may not be accurate.\n",
            "  warnings.warn(\n",
            "/Library/Frameworks/Python.framework/Versions/3.11/lib/python3.11/site-packages/sklearn/linear_model/_logistic.py:1173: FutureWarning: `penalty='none'`has been deprecated in 1.2 and will be removed in 1.4. To keep the past behaviour, set `penalty=None`.\n",
            "  warnings.warn(\n",
            "/Library/Frameworks/Python.framework/Versions/3.11/lib/python3.11/site-packages/sklearn/linear_model/_glm/_newton_solver.py:491: LinAlgWarning: The inner solver of NewtonCholeskySolver stumbled upon a singular or very ill-conditioned Hessian matrix at iteration #1. It will now resort to lbfgs instead.\n",
            "Further options are to use another solver or to avoid such situation in the first place. Possible remedies are removing collinear features of X or increasing the penalization strengths.\n",
            "The original Linear Algebra message was:\n",
            "Ill-conditioned matrix (rcond=8.75803e-19): result may not be accurate.\n",
            "  warnings.warn(\n",
            "/Library/Frameworks/Python.framework/Versions/3.11/lib/python3.11/site-packages/sklearn/linear_model/_glm/_newton_solver.py:491: LinAlgWarning: The inner solver of NewtonCholeskySolver stumbled upon a singular or very ill-conditioned Hessian matrix at iteration #1. It will now resort to lbfgs instead.\n",
            "Further options are to use another solver or to avoid such situation in the first place. Possible remedies are removing collinear features of X or increasing the penalization strengths.\n",
            "The original Linear Algebra message was:\n",
            "Ill-conditioned matrix (rcond=2.1415e-18): result may not be accurate.\n",
            "  warnings.warn(\n",
            "/Library/Frameworks/Python.framework/Versions/3.11/lib/python3.11/site-packages/sklearn/linear_model/_logistic.py:1173: FutureWarning: `penalty='none'`has been deprecated in 1.2 and will be removed in 1.4. To keep the past behaviour, set `penalty=None`.\n",
            "  warnings.warn(\n",
            "/Library/Frameworks/Python.framework/Versions/3.11/lib/python3.11/site-packages/sklearn/linear_model/_glm/_newton_solver.py:491: LinAlgWarning: The inner solver of NewtonCholeskySolver stumbled upon a singular or very ill-conditioned Hessian matrix at iteration #1. It will now resort to lbfgs instead.\n",
            "Further options are to use another solver or to avoid such situation in the first place. Possible remedies are removing collinear features of X or increasing the penalization strengths.\n",
            "The original Linear Algebra message was:\n",
            "Ill-conditioned matrix (rcond=1.11421e-18): result may not be accurate.\n",
            "  warnings.warn(\n",
            "/Library/Frameworks/Python.framework/Versions/3.11/lib/python3.11/site-packages/sklearn/linear_model/_logistic.py:1173: FutureWarning: `penalty='none'`has been deprecated in 1.2 and will be removed in 1.4. To keep the past behaviour, set `penalty=None`.\n",
            "  warnings.warn(\n",
            "/Library/Frameworks/Python.framework/Versions/3.11/lib/python3.11/site-packages/sklearn/linear_model/_glm/_newton_solver.py:491: LinAlgWarning: The inner solver of NewtonCholeskySolver stumbled upon a singular or very ill-conditioned Hessian matrix at iteration #1. It will now resort to lbfgs instead.\n",
            "Further options are to use another solver or to avoid such situation in the first place. Possible remedies are removing collinear features of X or increasing the penalization strengths.\n",
            "The original Linear Algebra message was:\n",
            "Ill-conditioned matrix (rcond=1.01662e-18): result may not be accurate.\n",
            "  warnings.warn(\n",
            "/Library/Frameworks/Python.framework/Versions/3.11/lib/python3.11/site-packages/sklearn/linear_model/_glm/_newton_solver.py:491: LinAlgWarning: The inner solver of NewtonCholeskySolver stumbled upon a singular or very ill-conditioned Hessian matrix at iteration #1. It will now resort to lbfgs instead.\n",
            "Further options are to use another solver or to avoid such situation in the first place. Possible remedies are removing collinear features of X or increasing the penalization strengths.\n",
            "The original Linear Algebra message was:\n",
            "Ill-conditioned matrix (rcond=8.75803e-19): result may not be accurate.\n",
            "  warnings.warn(\n",
            "/Library/Frameworks/Python.framework/Versions/3.11/lib/python3.11/site-packages/sklearn/linear_model/_logistic.py:1173: FutureWarning: `penalty='none'`has been deprecated in 1.2 and will be removed in 1.4. To keep the past behaviour, set `penalty=None`.\n",
            "  warnings.warn(\n",
            "/Library/Frameworks/Python.framework/Versions/3.11/lib/python3.11/site-packages/sklearn/linear_model/_glm/_newton_solver.py:491: LinAlgWarning: The inner solver of NewtonCholeskySolver stumbled upon a singular or very ill-conditioned Hessian matrix at iteration #1. It will now resort to lbfgs instead.\n",
            "Further options are to use another solver or to avoid such situation in the first place. Possible remedies are removing collinear features of X or increasing the penalization strengths.\n",
            "The original Linear Algebra message was:\n",
            "Ill-conditioned matrix (rcond=9.9635e-19): result may not be accurate.\n",
            "  warnings.warn(\n",
            "/Library/Frameworks/Python.framework/Versions/3.11/lib/python3.11/site-packages/sklearn/linear_model/_glm/_newton_solver.py:491: LinAlgWarning: The inner solver of NewtonCholeskySolver stumbled upon a singular or very ill-conditioned Hessian matrix at iteration #1. It will now resort to lbfgs instead.\n",
            "Further options are to use another solver or to avoid such situation in the first place. Possible remedies are removing collinear features of X or increasing the penalization strengths.\n",
            "The original Linear Algebra message was:\n",
            "Ill-conditioned matrix (rcond=1.11421e-18): result may not be accurate.\n",
            "  warnings.warn(\n",
            "/Library/Frameworks/Python.framework/Versions/3.11/lib/python3.11/site-packages/sklearn/linear_model/_glm/_newton_solver.py:491: LinAlgWarning: The inner solver of NewtonCholeskySolver stumbled upon a singular or very ill-conditioned Hessian matrix at iteration #1. It will now resort to lbfgs instead.\n",
            "Further options are to use another solver or to avoid such situation in the first place. Possible remedies are removing collinear features of X or increasing the penalization strengths.\n",
            "The original Linear Algebra message was:\n",
            "Ill-conditioned matrix (rcond=2.1415e-18): result may not be accurate.\n",
            "  warnings.warn(\n",
            "/Library/Frameworks/Python.framework/Versions/3.11/lib/python3.11/site-packages/sklearn/linear_model/_glm/_newton_solver.py:491: LinAlgWarning: The inner solver of NewtonCholeskySolver stumbled upon a singular or very ill-conditioned Hessian matrix at iteration #1. It will now resort to lbfgs instead.\n",
            "Further options are to use another solver or to avoid such situation in the first place. Possible remedies are removing collinear features of X or increasing the penalization strengths.\n",
            "The original Linear Algebra message was:\n",
            "Ill-conditioned matrix (rcond=1.01662e-18): result may not be accurate.\n",
            "  warnings.warn(\n",
            "/Library/Frameworks/Python.framework/Versions/3.11/lib/python3.11/site-packages/sklearn/linear_model/_glm/_newton_solver.py:491: LinAlgWarning: The inner solver of NewtonCholeskySolver stumbled upon a singular or very ill-conditioned Hessian matrix at iteration #1. It will now resort to lbfgs instead.\n",
            "Further options are to use another solver or to avoid such situation in the first place. Possible remedies are removing collinear features of X or increasing the penalization strengths.\n",
            "The original Linear Algebra message was:\n",
            "Ill-conditioned matrix (rcond=9.9635e-19): result may not be accurate.\n",
            "  warnings.warn(\n",
            "/Library/Frameworks/Python.framework/Versions/3.11/lib/python3.11/site-packages/sklearn/linear_model/_glm/_newton_solver.py:491: LinAlgWarning: The inner solver of NewtonCholeskySolver stumbled upon a singular or very ill-conditioned Hessian matrix at iteration #1. It will now resort to lbfgs instead.\n",
            "Further options are to use another solver or to avoid such situation in the first place. Possible remedies are removing collinear features of X or increasing the penalization strengths.\n",
            "The original Linear Algebra message was:\n",
            "Ill-conditioned matrix (rcond=8.75803e-19): result may not be accurate.\n",
            "  warnings.warn(\n",
            "/Library/Frameworks/Python.framework/Versions/3.11/lib/python3.11/site-packages/sklearn/linear_model/_logistic.py:1173: FutureWarning: `penalty='none'`has been deprecated in 1.2 and will be removed in 1.4. To keep the past behaviour, set `penalty=None`.\n",
            "  warnings.warn(\n",
            "/Library/Frameworks/Python.framework/Versions/3.11/lib/python3.11/site-packages/sklearn/linear_model/_glm/_newton_solver.py:491: LinAlgWarning: The inner solver of NewtonCholeskySolver stumbled upon a singular or very ill-conditioned Hessian matrix at iteration #1. It will now resort to lbfgs instead.\n",
            "Further options are to use another solver or to avoid such situation in the first place. Possible remedies are removing collinear features of X or increasing the penalization strengths.\n",
            "The original Linear Algebra message was:\n",
            "Ill-conditioned matrix (rcond=1.09925e-18): result may not be accurate.\n",
            "  warnings.warn(\n",
            "/Library/Frameworks/Python.framework/Versions/3.11/lib/python3.11/site-packages/sklearn/linear_model/_glm/_newton_solver.py:491: LinAlgWarning: The inner solver of NewtonCholeskySolver stumbled upon a singular or very ill-conditioned Hessian matrix at iteration #1. It will now resort to lbfgs instead.\n",
            "Further options are to use another solver or to avoid such situation in the first place. Possible remedies are removing collinear features of X or increasing the penalization strengths.\n",
            "The original Linear Algebra message was:\n",
            "Ill-conditioned matrix (rcond=1.11421e-18): result may not be accurate.\n",
            "  warnings.warn(\n",
            "/Library/Frameworks/Python.framework/Versions/3.11/lib/python3.11/site-packages/sklearn/linear_model/_glm/_newton_solver.py:491: LinAlgWarning: The inner solver of NewtonCholeskySolver stumbled upon a singular or very ill-conditioned Hessian matrix at iteration #1. It will now resort to lbfgs instead.\n",
            "Further options are to use another solver or to avoid such situation in the first place. Possible remedies are removing collinear features of X or increasing the penalization strengths.\n",
            "The original Linear Algebra message was:\n",
            "Ill-conditioned matrix (rcond=1.01662e-18): result may not be accurate.\n",
            "  warnings.warn(\n",
            "/Library/Frameworks/Python.framework/Versions/3.11/lib/python3.11/site-packages/sklearn/linear_model/_glm/_newton_solver.py:491: LinAlgWarning: The inner solver of NewtonCholeskySolver stumbled upon a singular or very ill-conditioned Hessian matrix at iteration #1. It will now resort to lbfgs instead.\n",
            "Further options are to use another solver or to avoid such situation in the first place. Possible remedies are removing collinear features of X or increasing the penalization strengths.\n",
            "The original Linear Algebra message was:\n",
            "Ill-conditioned matrix (rcond=9.9635e-19): result may not be accurate.\n",
            "  warnings.warn(\n",
            "/Library/Frameworks/Python.framework/Versions/3.11/lib/python3.11/site-packages/sklearn/linear_model/_glm/_newton_solver.py:491: LinAlgWarning: The inner solver of NewtonCholeskySolver stumbled upon a singular or very ill-conditioned Hessian matrix at iteration #1. It will now resort to lbfgs instead.\n",
            "Further options are to use another solver or to avoid such situation in the first place. Possible remedies are removing collinear features of X or increasing the penalization strengths.\n",
            "The original Linear Algebra message was:\n",
            "Ill-conditioned matrix (rcond=1.09925e-18): result may not be accurate.\n",
            "  warnings.warn(\n",
            "/Library/Frameworks/Python.framework/Versions/3.11/lib/python3.11/site-packages/sklearn/linear_model/_logistic.py:1173: FutureWarning: `penalty='none'`has been deprecated in 1.2 and will be removed in 1.4. To keep the past behaviour, set `penalty=None`.\n",
            "  warnings.warn(\n",
            "/Library/Frameworks/Python.framework/Versions/3.11/lib/python3.11/site-packages/sklearn/linear_model/_glm/_newton_solver.py:491: LinAlgWarning: The inner solver of NewtonCholeskySolver stumbled upon a singular or very ill-conditioned Hessian matrix at iteration #1. It will now resort to lbfgs instead.\n",
            "Further options are to use another solver or to avoid such situation in the first place. Possible remedies are removing collinear features of X or increasing the penalization strengths.\n",
            "The original Linear Algebra message was:\n",
            "Ill-conditioned matrix (rcond=1.06806e-18): result may not be accurate.\n",
            "  warnings.warn(\n",
            "/Library/Frameworks/Python.framework/Versions/3.11/lib/python3.11/site-packages/sklearn/linear_model/_logistic.py:1173: FutureWarning: `penalty='none'`has been deprecated in 1.2 and will be removed in 1.4. To keep the past behaviour, set `penalty=None`.\n",
            "  warnings.warn(\n",
            "/Library/Frameworks/Python.framework/Versions/3.11/lib/python3.11/site-packages/sklearn/linear_model/_glm/_newton_solver.py:491: LinAlgWarning: The inner solver of NewtonCholeskySolver stumbled upon a singular or very ill-conditioned Hessian matrix at iteration #1. It will now resort to lbfgs instead.\n",
            "Further options are to use another solver or to avoid such situation in the first place. Possible remedies are removing collinear features of X or increasing the penalization strengths.\n",
            "The original Linear Algebra message was:\n",
            "Ill-conditioned matrix (rcond=1.06806e-18): result may not be accurate.\n",
            "  warnings.warn(\n",
            "/Library/Frameworks/Python.framework/Versions/3.11/lib/python3.11/site-packages/sklearn/linear_model/_glm/_newton_solver.py:491: LinAlgWarning: The inner solver of NewtonCholeskySolver stumbled upon a singular or very ill-conditioned Hessian matrix at iteration #1. It will now resort to lbfgs instead.\n",
            "Further options are to use another solver or to avoid such situation in the first place. Possible remedies are removing collinear features of X or increasing the penalization strengths.\n",
            "The original Linear Algebra message was:\n",
            "Ill-conditioned matrix (rcond=8.76437e-19): result may not be accurate.\n",
            "  warnings.warn(\n",
            "/Library/Frameworks/Python.framework/Versions/3.11/lib/python3.11/site-packages/sklearn/linear_model/_logistic.py:1173: FutureWarning: `penalty='none'`has been deprecated in 1.2 and will be removed in 1.4. To keep the past behaviour, set `penalty=None`.\n",
            "  warnings.warn(\n",
            "/Library/Frameworks/Python.framework/Versions/3.11/lib/python3.11/site-packages/sklearn/linear_model/_glm/_newton_solver.py:491: LinAlgWarning: The inner solver of NewtonCholeskySolver stumbled upon a singular or very ill-conditioned Hessian matrix at iteration #1. It will now resort to lbfgs instead.\n",
            "Further options are to use another solver or to avoid such situation in the first place. Possible remedies are removing collinear features of X or increasing the penalization strengths.\n",
            "The original Linear Algebra message was:\n",
            "Ill-conditioned matrix (rcond=1.02888e-18): result may not be accurate.\n",
            "  warnings.warn(\n",
            "/Library/Frameworks/Python.framework/Versions/3.11/lib/python3.11/site-packages/sklearn/linear_model/_logistic.py:1173: FutureWarning: `penalty='none'`has been deprecated in 1.2 and will be removed in 1.4. To keep the past behaviour, set `penalty=None`.\n",
            "  warnings.warn(\n",
            "/Library/Frameworks/Python.framework/Versions/3.11/lib/python3.11/site-packages/sklearn/linear_model/_glm/_newton_solver.py:491: LinAlgWarning: The inner solver of NewtonCholeskySolver stumbled upon a singular or very ill-conditioned Hessian matrix at iteration #1. It will now resort to lbfgs instead.\n",
            "Further options are to use another solver or to avoid such situation in the first place. Possible remedies are removing collinear features of X or increasing the penalization strengths.\n",
            "The original Linear Algebra message was:\n",
            "Ill-conditioned matrix (rcond=8.76437e-19): result may not be accurate.\n",
            "  warnings.warn(\n",
            "/Library/Frameworks/Python.framework/Versions/3.11/lib/python3.11/site-packages/sklearn/linear_model/_glm/_newton_solver.py:491: LinAlgWarning: The inner solver of NewtonCholeskySolver stumbled upon a singular or very ill-conditioned Hessian matrix at iteration #1. It will now resort to lbfgs instead.\n",
            "Further options are to use another solver or to avoid such situation in the first place. Possible remedies are removing collinear features of X or increasing the penalization strengths.\n",
            "The original Linear Algebra message was:\n",
            "Ill-conditioned matrix (rcond=7.72977e-19): result may not be accurate.\n",
            "  warnings.warn(\n",
            "/Library/Frameworks/Python.framework/Versions/3.11/lib/python3.11/site-packages/sklearn/linear_model/_glm/_newton_solver.py:491: LinAlgWarning: The inner solver of NewtonCholeskySolver stumbled upon a singular or very ill-conditioned Hessian matrix at iteration #1. It will now resort to lbfgs instead.\n",
            "Further options are to use another solver or to avoid such situation in the first place. Possible remedies are removing collinear features of X or increasing the penalization strengths.\n",
            "The original Linear Algebra message was:\n",
            "Ill-conditioned matrix (rcond=1.02888e-18): result may not be accurate.\n",
            "  warnings.warn(\n",
            "/Library/Frameworks/Python.framework/Versions/3.11/lib/python3.11/site-packages/sklearn/linear_model/_glm/_newton_solver.py:491: LinAlgWarning: The inner solver of NewtonCholeskySolver stumbled upon a singular or very ill-conditioned Hessian matrix at iteration #1. It will now resort to lbfgs instead.\n",
            "Further options are to use another solver or to avoid such situation in the first place. Possible remedies are removing collinear features of X or increasing the penalization strengths.\n",
            "The original Linear Algebra message was:\n",
            "Ill-conditioned matrix (rcond=1.09925e-18): result may not be accurate.\n",
            "  warnings.warn(\n",
            "/Library/Frameworks/Python.framework/Versions/3.11/lib/python3.11/site-packages/sklearn/linear_model/_glm/_newton_solver.py:491: LinAlgWarning: The inner solver of NewtonCholeskySolver stumbled upon a singular or very ill-conditioned Hessian matrix at iteration #1. It will now resort to lbfgs instead.\n",
            "Further options are to use another solver or to avoid such situation in the first place. Possible remedies are removing collinear features of X or increasing the penalization strengths.\n",
            "The original Linear Algebra message was:\n",
            "Ill-conditioned matrix (rcond=7.72977e-19): result may not be accurate.\n",
            "  warnings.warn(\n",
            "/Library/Frameworks/Python.framework/Versions/3.11/lib/python3.11/site-packages/sklearn/linear_model/_glm/_newton_solver.py:491: LinAlgWarning: The inner solver of NewtonCholeskySolver stumbled upon a singular or very ill-conditioned Hessian matrix at iteration #1. It will now resort to lbfgs instead.\n",
            "Further options are to use another solver or to avoid such situation in the first place. Possible remedies are removing collinear features of X or increasing the penalization strengths.\n",
            "The original Linear Algebra message was:\n",
            "Ill-conditioned matrix (rcond=1.06806e-18): result may not be accurate.\n",
            "  warnings.warn(\n",
            "/Library/Frameworks/Python.framework/Versions/3.11/lib/python3.11/site-packages/sklearn/linear_model/_logistic.py:1173: FutureWarning: `penalty='none'`has been deprecated in 1.2 and will be removed in 1.4. To keep the past behaviour, set `penalty=None`.\n",
            "  warnings.warn(\n",
            "/Library/Frameworks/Python.framework/Versions/3.11/lib/python3.11/site-packages/sklearn/linear_model/_glm/_newton_solver.py:491: LinAlgWarning: The inner solver of NewtonCholeskySolver stumbled upon a singular or very ill-conditioned Hessian matrix at iteration #1. It will now resort to lbfgs instead.\n",
            "Further options are to use another solver or to avoid such situation in the first place. Possible remedies are removing collinear features of X or increasing the penalization strengths.\n",
            "The original Linear Algebra message was:\n",
            "Ill-conditioned matrix (rcond=7.72977e-19): result may not be accurate.\n",
            "  warnings.warn(\n",
            "/Library/Frameworks/Python.framework/Versions/3.11/lib/python3.11/site-packages/sklearn/linear_model/_glm/_newton_solver.py:491: LinAlgWarning: The inner solver of NewtonCholeskySolver stumbled upon a singular or very ill-conditioned Hessian matrix at iteration #1. It will now resort to lbfgs instead.\n",
            "Further options are to use another solver or to avoid such situation in the first place. Possible remedies are removing collinear features of X or increasing the penalization strengths.\n",
            "The original Linear Algebra message was:\n",
            "Ill-conditioned matrix (rcond=2.07793e-18): result may not be accurate.\n",
            "  warnings.warn(\n",
            "/Library/Frameworks/Python.framework/Versions/3.11/lib/python3.11/site-packages/sklearn/linear_model/_glm/_newton_solver.py:491: LinAlgWarning: The inner solver of NewtonCholeskySolver stumbled upon a singular or very ill-conditioned Hessian matrix at iteration #1. It will now resort to lbfgs instead.\n",
            "Further options are to use another solver or to avoid such situation in the first place. Possible remedies are removing collinear features of X or increasing the penalization strengths.\n",
            "The original Linear Algebra message was:\n",
            "Ill-conditioned matrix (rcond=8.76437e-19): result may not be accurate.\n",
            "  warnings.warn(\n",
            "/Library/Frameworks/Python.framework/Versions/3.11/lib/python3.11/site-packages/sklearn/linear_model/_glm/_newton_solver.py:491: LinAlgWarning: The inner solver of NewtonCholeskySolver stumbled upon a singular or very ill-conditioned Hessian matrix at iteration #1. It will now resort to lbfgs instead.\n",
            "Further options are to use another solver or to avoid such situation in the first place. Possible remedies are removing collinear features of X or increasing the penalization strengths.\n",
            "The original Linear Algebra message was:\n",
            "Ill-conditioned matrix (rcond=1.02888e-18): result may not be accurate.\n",
            "  warnings.warn(\n",
            "/Library/Frameworks/Python.framework/Versions/3.11/lib/python3.11/site-packages/sklearn/linear_model/_glm/_newton_solver.py:491: LinAlgWarning: The inner solver of NewtonCholeskySolver stumbled upon a singular or very ill-conditioned Hessian matrix at iteration #1. It will now resort to lbfgs instead.\n",
            "Further options are to use another solver or to avoid such situation in the first place. Possible remedies are removing collinear features of X or increasing the penalization strengths.\n",
            "The original Linear Algebra message was:\n",
            "Ill-conditioned matrix (rcond=2.07793e-18): result may not be accurate.\n",
            "  warnings.warn(\n",
            "/Library/Frameworks/Python.framework/Versions/3.11/lib/python3.11/site-packages/sklearn/linear_model/_logistic.py:1173: FutureWarning: `penalty='none'`has been deprecated in 1.2 and will be removed in 1.4. To keep the past behaviour, set `penalty=None`.\n",
            "  warnings.warn(\n",
            "/Library/Frameworks/Python.framework/Versions/3.11/lib/python3.11/site-packages/sklearn/linear_model/_glm/_newton_solver.py:491: LinAlgWarning: The inner solver of NewtonCholeskySolver stumbled upon a singular or very ill-conditioned Hessian matrix at iteration #1. It will now resort to lbfgs instead.\n",
            "Further options are to use another solver or to avoid such situation in the first place. Possible remedies are removing collinear features of X or increasing the penalization strengths.\n",
            "The original Linear Algebra message was:\n",
            "Ill-conditioned matrix (rcond=1.04578e-18): result may not be accurate.\n",
            "  warnings.warn(\n",
            "/Library/Frameworks/Python.framework/Versions/3.11/lib/python3.11/site-packages/sklearn/linear_model/_logistic.py:1173: FutureWarning: `penalty='none'`has been deprecated in 1.2 and will be removed in 1.4. To keep the past behaviour, set `penalty=None`.\n",
            "  warnings.warn(\n",
            "/Library/Frameworks/Python.framework/Versions/3.11/lib/python3.11/site-packages/sklearn/linear_model/_logistic.py:1173: FutureWarning: `penalty='none'`has been deprecated in 1.2 and will be removed in 1.4. To keep the past behaviour, set `penalty=None`.\n",
            "  warnings.warn(\n",
            "/Library/Frameworks/Python.framework/Versions/3.11/lib/python3.11/site-packages/sklearn/linear_model/_glm/_newton_solver.py:491: LinAlgWarning: The inner solver of NewtonCholeskySolver stumbled upon a singular or very ill-conditioned Hessian matrix at iteration #1. It will now resort to lbfgs instead.\n",
            "Further options are to use another solver or to avoid such situation in the first place. Possible remedies are removing collinear features of X or increasing the penalization strengths.\n",
            "The original Linear Algebra message was:\n",
            "Ill-conditioned matrix (rcond=1.08485e-18): result may not be accurate.\n",
            "  warnings.warn(\n",
            "/Library/Frameworks/Python.framework/Versions/3.11/lib/python3.11/site-packages/sklearn/linear_model/_glm/_newton_solver.py:491: LinAlgWarning: The inner solver of NewtonCholeskySolver stumbled upon a singular or very ill-conditioned Hessian matrix at iteration #1. It will now resort to lbfgs instead.\n",
            "Further options are to use another solver or to avoid such situation in the first place. Possible remedies are removing collinear features of X or increasing the penalization strengths.\n",
            "The original Linear Algebra message was:\n",
            "Ill-conditioned matrix (rcond=1.04578e-18): result may not be accurate.\n",
            "  warnings.warn(\n",
            "/Library/Frameworks/Python.framework/Versions/3.11/lib/python3.11/site-packages/sklearn/linear_model/_logistic.py:1173: FutureWarning: `penalty='none'`has been deprecated in 1.2 and will be removed in 1.4. To keep the past behaviour, set `penalty=None`.\n",
            "  warnings.warn(\n",
            "/Library/Frameworks/Python.framework/Versions/3.11/lib/python3.11/site-packages/sklearn/linear_model/_glm/_newton_solver.py:491: LinAlgWarning: The inner solver of NewtonCholeskySolver stumbled upon a singular or very ill-conditioned Hessian matrix at iteration #1. It will now resort to lbfgs instead.\n",
            "Further options are to use another solver or to avoid such situation in the first place. Possible remedies are removing collinear features of X or increasing the penalization strengths.\n",
            "The original Linear Algebra message was:\n",
            "Ill-conditioned matrix (rcond=1.02349e-18): result may not be accurate.\n",
            "  warnings.warn(\n",
            "/Library/Frameworks/Python.framework/Versions/3.11/lib/python3.11/site-packages/sklearn/linear_model/_glm/_newton_solver.py:491: LinAlgWarning: The inner solver of NewtonCholeskySolver stumbled upon a singular or very ill-conditioned Hessian matrix at iteration #1. It will now resort to lbfgs instead.\n",
            "Further options are to use another solver or to avoid such situation in the first place. Possible remedies are removing collinear features of X or increasing the penalization strengths.\n",
            "The original Linear Algebra message was:\n",
            "Ill-conditioned matrix (rcond=9.63601e-19): result may not be accurate.\n",
            "  warnings.warn(\n",
            "/Library/Frameworks/Python.framework/Versions/3.11/lib/python3.11/site-packages/sklearn/linear_model/_glm/_newton_solver.py:491: LinAlgWarning: The inner solver of NewtonCholeskySolver stumbled upon a singular or very ill-conditioned Hessian matrix at iteration #1. It will now resort to lbfgs instead.\n",
            "Further options are to use another solver or to avoid such situation in the first place. Possible remedies are removing collinear features of X or increasing the penalization strengths.\n",
            "The original Linear Algebra message was:\n",
            "Ill-conditioned matrix (rcond=1.08485e-18): result may not be accurate.\n",
            "  warnings.warn(\n",
            "/Library/Frameworks/Python.framework/Versions/3.11/lib/python3.11/site-packages/sklearn/linear_model/_glm/_newton_solver.py:491: LinAlgWarning: The inner solver of NewtonCholeskySolver stumbled upon a singular or very ill-conditioned Hessian matrix at iteration #1. It will now resort to lbfgs instead.\n",
            "Further options are to use another solver or to avoid such situation in the first place. Possible remedies are removing collinear features of X or increasing the penalization strengths.\n",
            "The original Linear Algebra message was:\n",
            "Ill-conditioned matrix (rcond=1.02349e-18): result may not be accurate.\n",
            "  warnings.warn(\n",
            "/Library/Frameworks/Python.framework/Versions/3.11/lib/python3.11/site-packages/sklearn/linear_model/_glm/_newton_solver.py:491: LinAlgWarning: The inner solver of NewtonCholeskySolver stumbled upon a singular or very ill-conditioned Hessian matrix at iteration #1. It will now resort to lbfgs instead.\n",
            "Further options are to use another solver or to avoid such situation in the first place. Possible remedies are removing collinear features of X or increasing the penalization strengths.\n",
            "The original Linear Algebra message was:\n",
            "Ill-conditioned matrix (rcond=9.63601e-19): result may not be accurate.\n",
            "  warnings.warn(\n",
            "/Library/Frameworks/Python.framework/Versions/3.11/lib/python3.11/site-packages/sklearn/linear_model/_glm/_newton_solver.py:491: LinAlgWarning: The inner solver of NewtonCholeskySolver stumbled upon a singular or very ill-conditioned Hessian matrix at iteration #1. It will now resort to lbfgs instead.\n",
            "Further options are to use another solver or to avoid such situation in the first place. Possible remedies are removing collinear features of X or increasing the penalization strengths.\n",
            "The original Linear Algebra message was:\n",
            "Ill-conditioned matrix (rcond=2.07793e-18): result may not be accurate.\n",
            "  warnings.warn(\n",
            "/Library/Frameworks/Python.framework/Versions/3.11/lib/python3.11/site-packages/sklearn/linear_model/_glm/_newton_solver.py:491: LinAlgWarning: The inner solver of NewtonCholeskySolver stumbled upon a singular or very ill-conditioned Hessian matrix at iteration #1. It will now resort to lbfgs instead.\n",
            "Further options are to use another solver or to avoid such situation in the first place. Possible remedies are removing collinear features of X or increasing the penalization strengths.\n",
            "The original Linear Algebra message was:\n",
            "Ill-conditioned matrix (rcond=1.04578e-18): result may not be accurate.\n",
            "  warnings.warn(\n",
            "/Library/Frameworks/Python.framework/Versions/3.11/lib/python3.11/site-packages/sklearn/linear_model/_glm/_newton_solver.py:491: LinAlgWarning: The inner solver of NewtonCholeskySolver stumbled upon a singular or very ill-conditioned Hessian matrix at iteration #1. It will now resort to lbfgs instead.\n",
            "Further options are to use another solver or to avoid such situation in the first place. Possible remedies are removing collinear features of X or increasing the penalization strengths.\n",
            "The original Linear Algebra message was:\n",
            "Ill-conditioned matrix (rcond=1.08485e-18): result may not be accurate.\n",
            "  warnings.warn(\n",
            "/Library/Frameworks/Python.framework/Versions/3.11/lib/python3.11/site-packages/sklearn/linear_model/_glm/_newton_solver.py:491: LinAlgWarning: The inner solver of NewtonCholeskySolver stumbled upon a singular or very ill-conditioned Hessian matrix at iteration #1. It will now resort to lbfgs instead.\n",
            "Further options are to use another solver or to avoid such situation in the first place. Possible remedies are removing collinear features of X or increasing the penalization strengths.\n",
            "The original Linear Algebra message was:\n",
            "Ill-conditioned matrix (rcond=1.02349e-18): result may not be accurate.\n",
            "  warnings.warn(\n",
            "/Library/Frameworks/Python.framework/Versions/3.11/lib/python3.11/site-packages/sklearn/linear_model/_logistic.py:1173: FutureWarning: `penalty='none'`has been deprecated in 1.2 and will be removed in 1.4. To keep the past behaviour, set `penalty=None`.\n",
            "  warnings.warn(\n",
            "/Library/Frameworks/Python.framework/Versions/3.11/lib/python3.11/site-packages/sklearn/linear_model/_glm/_newton_solver.py:491: LinAlgWarning: The inner solver of NewtonCholeskySolver stumbled upon a singular or very ill-conditioned Hessian matrix at iteration #1. It will now resort to lbfgs instead.\n",
            "Further options are to use another solver or to avoid such situation in the first place. Possible remedies are removing collinear features of X or increasing the penalization strengths.\n",
            "The original Linear Algebra message was:\n",
            "Ill-conditioned matrix (rcond=9.63601e-19): result may not be accurate.\n",
            "  warnings.warn(\n",
            "/Library/Frameworks/Python.framework/Versions/3.11/lib/python3.11/site-packages/sklearn/linear_model/_glm/_newton_solver.py:491: LinAlgWarning: The inner solver of NewtonCholeskySolver stumbled upon a singular or very ill-conditioned Hessian matrix at iteration #1. It will now resort to lbfgs instead.\n",
            "Further options are to use another solver or to avoid such situation in the first place. Possible remedies are removing collinear features of X or increasing the penalization strengths.\n",
            "The original Linear Algebra message was:\n",
            "Ill-conditioned matrix (rcond=9.58395e-19): result may not be accurate.\n",
            "  warnings.warn(\n",
            "/Library/Frameworks/Python.framework/Versions/3.11/lib/python3.11/site-packages/sklearn/linear_model/_glm/_newton_solver.py:491: LinAlgWarning: The inner solver of NewtonCholeskySolver stumbled upon a singular or very ill-conditioned Hessian matrix at iteration #1. It will now resort to lbfgs instead.\n",
            "Further options are to use another solver or to avoid such situation in the first place. Possible remedies are removing collinear features of X or increasing the penalization strengths.\n",
            "The original Linear Algebra message was:\n",
            "Ill-conditioned matrix (rcond=9.58395e-19): result may not be accurate.\n",
            "  warnings.warn(\n",
            "/Library/Frameworks/Python.framework/Versions/3.11/lib/python3.11/site-packages/sklearn/linear_model/_logistic.py:1173: FutureWarning: `penalty='none'`has been deprecated in 1.2 and will be removed in 1.4. To keep the past behaviour, set `penalty=None`.\n",
            "  warnings.warn(\n",
            "/Library/Frameworks/Python.framework/Versions/3.11/lib/python3.11/site-packages/sklearn/linear_model/_glm/_newton_solver.py:491: LinAlgWarning: The inner solver of NewtonCholeskySolver stumbled upon a singular or very ill-conditioned Hessian matrix at iteration #1. It will now resort to lbfgs instead.\n",
            "Further options are to use another solver or to avoid such situation in the first place. Possible remedies are removing collinear features of X or increasing the penalization strengths.\n",
            "The original Linear Algebra message was:\n",
            "Ill-conditioned matrix (rcond=9.04574e-19): result may not be accurate.\n",
            "  warnings.warn(\n",
            "/Library/Frameworks/Python.framework/Versions/3.11/lib/python3.11/site-packages/sklearn/linear_model/_glm/_newton_solver.py:491: LinAlgWarning: The inner solver of NewtonCholeskySolver stumbled upon a singular or very ill-conditioned Hessian matrix at iteration #1. It will now resort to lbfgs instead.\n",
            "Further options are to use another solver or to avoid such situation in the first place. Possible remedies are removing collinear features of X or increasing the penalization strengths.\n",
            "The original Linear Algebra message was:\n",
            "Ill-conditioned matrix (rcond=9.04574e-19): result may not be accurate.\n",
            "  warnings.warn(\n",
            "/Library/Frameworks/Python.framework/Versions/3.11/lib/python3.11/site-packages/sklearn/linear_model/_logistic.py:1173: FutureWarning: `penalty='none'`has been deprecated in 1.2 and will be removed in 1.4. To keep the past behaviour, set `penalty=None`.\n",
            "  warnings.warn(\n",
            "/Library/Frameworks/Python.framework/Versions/3.11/lib/python3.11/site-packages/sklearn/linear_model/_glm/_newton_solver.py:491: LinAlgWarning: The inner solver of NewtonCholeskySolver stumbled upon a singular or very ill-conditioned Hessian matrix at iteration #1. It will now resort to lbfgs instead.\n",
            "Further options are to use another solver or to avoid such situation in the first place. Possible remedies are removing collinear features of X or increasing the penalization strengths.\n",
            "The original Linear Algebra message was:\n",
            "Ill-conditioned matrix (rcond=1.10705e-18): result may not be accurate.\n",
            "  warnings.warn(\n",
            "/Library/Frameworks/Python.framework/Versions/3.11/lib/python3.11/site-packages/sklearn/linear_model/_logistic.py:1173: FutureWarning: `penalty='none'`has been deprecated in 1.2 and will be removed in 1.4. To keep the past behaviour, set `penalty=None`.\n",
            "  warnings.warn(\n",
            "/Library/Frameworks/Python.framework/Versions/3.11/lib/python3.11/site-packages/sklearn/linear_model/_glm/_newton_solver.py:491: LinAlgWarning: The inner solver of NewtonCholeskySolver stumbled upon a singular or very ill-conditioned Hessian matrix at iteration #1. It will now resort to lbfgs instead.\n",
            "Further options are to use another solver or to avoid such situation in the first place. Possible remedies are removing collinear features of X or increasing the penalization strengths.\n",
            "The original Linear Algebra message was:\n",
            "Ill-conditioned matrix (rcond=8.06326e-19): result may not be accurate.\n",
            "  warnings.warn(\n",
            "/Library/Frameworks/Python.framework/Versions/3.11/lib/python3.11/site-packages/sklearn/linear_model/_logistic.py:1173: FutureWarning: `penalty='none'`has been deprecated in 1.2 and will be removed in 1.4. To keep the past behaviour, set `penalty=None`.\n",
            "  warnings.warn(\n",
            "/Library/Frameworks/Python.framework/Versions/3.11/lib/python3.11/site-packages/sklearn/linear_model/_glm/_newton_solver.py:491: LinAlgWarning: The inner solver of NewtonCholeskySolver stumbled upon a singular or very ill-conditioned Hessian matrix at iteration #1. It will now resort to lbfgs instead.\n",
            "Further options are to use another solver or to avoid such situation in the first place. Possible remedies are removing collinear features of X or increasing the penalization strengths.\n",
            "The original Linear Algebra message was:\n",
            "Ill-conditioned matrix (rcond=1.0951e-18): result may not be accurate.\n",
            "  warnings.warn(\n",
            "/Library/Frameworks/Python.framework/Versions/3.11/lib/python3.11/site-packages/sklearn/linear_model/_glm/_newton_solver.py:491: LinAlgWarning: The inner solver of NewtonCholeskySolver stumbled upon a singular or very ill-conditioned Hessian matrix at iteration #1. It will now resort to lbfgs instead.\n",
            "Further options are to use another solver or to avoid such situation in the first place. Possible remedies are removing collinear features of X or increasing the penalization strengths.\n",
            "The original Linear Algebra message was:\n",
            "Ill-conditioned matrix (rcond=1.10705e-18): result may not be accurate.\n",
            "  warnings.warn(\n",
            "/Library/Frameworks/Python.framework/Versions/3.11/lib/python3.11/site-packages/sklearn/linear_model/_glm/_newton_solver.py:491: LinAlgWarning: The inner solver of NewtonCholeskySolver stumbled upon a singular or very ill-conditioned Hessian matrix at iteration #1. It will now resort to lbfgs instead.\n",
            "Further options are to use another solver or to avoid such situation in the first place. Possible remedies are removing collinear features of X or increasing the penalization strengths.\n",
            "The original Linear Algebra message was:\n",
            "Ill-conditioned matrix (rcond=9.58395e-19): result may not be accurate.\n",
            "  warnings.warn(\n",
            "/Library/Frameworks/Python.framework/Versions/3.11/lib/python3.11/site-packages/sklearn/linear_model/_glm/_newton_solver.py:491: LinAlgWarning: The inner solver of NewtonCholeskySolver stumbled upon a singular or very ill-conditioned Hessian matrix at iteration #1. It will now resort to lbfgs instead.\n",
            "Further options are to use another solver or to avoid such situation in the first place. Possible remedies are removing collinear features of X or increasing the penalization strengths.\n",
            "The original Linear Algebra message was:\n",
            "Ill-conditioned matrix (rcond=8.06326e-19): result may not be accurate.\n",
            "  warnings.warn(\n",
            "/Library/Frameworks/Python.framework/Versions/3.11/lib/python3.11/site-packages/sklearn/linear_model/_glm/_newton_solver.py:491: LinAlgWarning: The inner solver of NewtonCholeskySolver stumbled upon a singular or very ill-conditioned Hessian matrix at iteration #1. It will now resort to lbfgs instead.\n",
            "Further options are to use another solver or to avoid such situation in the first place. Possible remedies are removing collinear features of X or increasing the penalization strengths.\n",
            "The original Linear Algebra message was:\n",
            "Ill-conditioned matrix (rcond=1.0951e-18): result may not be accurate.\n",
            "  warnings.warn(\n",
            "/Library/Frameworks/Python.framework/Versions/3.11/lib/python3.11/site-packages/sklearn/linear_model/_glm/_newton_solver.py:491: LinAlgWarning: The inner solver of NewtonCholeskySolver stumbled upon a singular or very ill-conditioned Hessian matrix at iteration #1. It will now resort to lbfgs instead.\n",
            "Further options are to use another solver or to avoid such situation in the first place. Possible remedies are removing collinear features of X or increasing the penalization strengths.\n",
            "The original Linear Algebra message was:\n",
            "Ill-conditioned matrix (rcond=9.04574e-19): result may not be accurate.\n",
            "  warnings.warn(\n",
            "/Library/Frameworks/Python.framework/Versions/3.11/lib/python3.11/site-packages/sklearn/linear_model/_glm/_newton_solver.py:491: LinAlgWarning: The inner solver of NewtonCholeskySolver stumbled upon a singular or very ill-conditioned Hessian matrix at iteration #1. It will now resort to lbfgs instead.\n",
            "Further options are to use another solver or to avoid such situation in the first place. Possible remedies are removing collinear features of X or increasing the penalization strengths.\n",
            "The original Linear Algebra message was:\n",
            "Ill-conditioned matrix (rcond=8.06326e-19): result may not be accurate.\n",
            "  warnings.warn(\n",
            "/Library/Frameworks/Python.framework/Versions/3.11/lib/python3.11/site-packages/sklearn/linear_model/_glm/_newton_solver.py:491: LinAlgWarning: The inner solver of NewtonCholeskySolver stumbled upon a singular or very ill-conditioned Hessian matrix at iteration #1. It will now resort to lbfgs instead.\n",
            "Further options are to use another solver or to avoid such situation in the first place. Possible remedies are removing collinear features of X or increasing the penalization strengths.\n",
            "The original Linear Algebra message was:\n",
            "Ill-conditioned matrix (rcond=1.10705e-18): result may not be accurate.\n",
            "  warnings.warn(\n",
            "/Library/Frameworks/Python.framework/Versions/3.11/lib/python3.11/site-packages/sklearn/linear_model/_glm/_newton_solver.py:491: LinAlgWarning: The inner solver of NewtonCholeskySolver stumbled upon a singular or very ill-conditioned Hessian matrix at iteration #1. It will now resort to lbfgs instead.\n",
            "Further options are to use another solver or to avoid such situation in the first place. Possible remedies are removing collinear features of X or increasing the penalization strengths.\n",
            "The original Linear Algebra message was:\n",
            "Ill-conditioned matrix (rcond=1.0951e-18): result may not be accurate.\n",
            "  warnings.warn(\n",
            "/Library/Frameworks/Python.framework/Versions/3.11/lib/python3.11/site-packages/sklearn/linear_model/_logistic.py:1173: FutureWarning: `penalty='none'`has been deprecated in 1.2 and will be removed in 1.4. To keep the past behaviour, set `penalty=None`.\n",
            "  warnings.warn(\n",
            "/Library/Frameworks/Python.framework/Versions/3.11/lib/python3.11/site-packages/sklearn/linear_model/_glm/_newton_solver.py:491: LinAlgWarning: The inner solver of NewtonCholeskySolver stumbled upon a singular or very ill-conditioned Hessian matrix at iteration #1. It will now resort to lbfgs instead.\n",
            "Further options are to use another solver or to avoid such situation in the first place. Possible remedies are removing collinear features of X or increasing the penalization strengths.\n",
            "The original Linear Algebra message was:\n",
            "Ill-conditioned matrix (rcond=2.16353e-18): result may not be accurate.\n",
            "  warnings.warn(\n",
            "/Library/Frameworks/Python.framework/Versions/3.11/lib/python3.11/site-packages/sklearn/linear_model/_logistic.py:1173: FutureWarning: `penalty='none'`has been deprecated in 1.2 and will be removed in 1.4. To keep the past behaviour, set `penalty=None`.\n",
            "  warnings.warn(\n",
            "/Library/Frameworks/Python.framework/Versions/3.11/lib/python3.11/site-packages/sklearn/linear_model/_glm/_newton_solver.py:491: LinAlgWarning: The inner solver of NewtonCholeskySolver stumbled upon a singular or very ill-conditioned Hessian matrix at iteration #1. It will now resort to lbfgs instead.\n",
            "Further options are to use another solver or to avoid such situation in the first place. Possible remedies are removing collinear features of X or increasing the penalization strengths.\n",
            "The original Linear Algebra message was:\n",
            "Ill-conditioned matrix (rcond=1.00379e-18): result may not be accurate.\n",
            "  warnings.warn(\n",
            "/Library/Frameworks/Python.framework/Versions/3.11/lib/python3.11/site-packages/sklearn/linear_model/_glm/_newton_solver.py:491: LinAlgWarning: The inner solver of NewtonCholeskySolver stumbled upon a singular or very ill-conditioned Hessian matrix at iteration #1. It will now resort to lbfgs instead.\n",
            "Further options are to use another solver or to avoid such situation in the first place. Possible remedies are removing collinear features of X or increasing the penalization strengths.\n",
            "The original Linear Algebra message was:\n",
            "Ill-conditioned matrix (rcond=2.16353e-18): result may not be accurate.\n",
            "  warnings.warn(\n",
            "/Library/Frameworks/Python.framework/Versions/3.11/lib/python3.11/site-packages/sklearn/linear_model/_glm/_newton_solver.py:491: LinAlgWarning: The inner solver of NewtonCholeskySolver stumbled upon a singular or very ill-conditioned Hessian matrix at iteration #1. It will now resort to lbfgs instead.\n",
            "Further options are to use another solver or to avoid such situation in the first place. Possible remedies are removing collinear features of X or increasing the penalization strengths.\n",
            "The original Linear Algebra message was:\n",
            "Ill-conditioned matrix (rcond=1.00379e-18): result may not be accurate.\n",
            "  warnings.warn(\n",
            "/Library/Frameworks/Python.framework/Versions/3.11/lib/python3.11/site-packages/sklearn/linear_model/_logistic.py:1173: FutureWarning: `penalty='none'`has been deprecated in 1.2 and will be removed in 1.4. To keep the past behaviour, set `penalty=None`.\n",
            "  warnings.warn(\n",
            "/Library/Frameworks/Python.framework/Versions/3.11/lib/python3.11/site-packages/sklearn/linear_model/_glm/_newton_solver.py:491: LinAlgWarning: The inner solver of NewtonCholeskySolver stumbled upon a singular or very ill-conditioned Hessian matrix at iteration #1. It will now resort to lbfgs instead.\n",
            "Further options are to use another solver or to avoid such situation in the first place. Possible remedies are removing collinear features of X or increasing the penalization strengths.\n",
            "The original Linear Algebra message was:\n",
            "Ill-conditioned matrix (rcond=9.50729e-19): result may not be accurate.\n",
            "  warnings.warn(\n",
            "/Library/Frameworks/Python.framework/Versions/3.11/lib/python3.11/site-packages/sklearn/linear_model/_logistic.py:1173: FutureWarning: `penalty='none'`has been deprecated in 1.2 and will be removed in 1.4. To keep the past behaviour, set `penalty=None`.\n",
            "  warnings.warn(\n",
            "/Library/Frameworks/Python.framework/Versions/3.11/lib/python3.11/site-packages/sklearn/linear_model/_glm/_newton_solver.py:491: LinAlgWarning: The inner solver of NewtonCholeskySolver stumbled upon a singular or very ill-conditioned Hessian matrix at iteration #1. It will now resort to lbfgs instead.\n",
            "Further options are to use another solver or to avoid such situation in the first place. Possible remedies are removing collinear features of X or increasing the penalization strengths.\n",
            "The original Linear Algebra message was:\n",
            "Ill-conditioned matrix (rcond=1.04535e-18): result may not be accurate.\n",
            "  warnings.warn(\n",
            "/Library/Frameworks/Python.framework/Versions/3.11/lib/python3.11/site-packages/sklearn/linear_model/_logistic.py:1173: FutureWarning: `penalty='none'`has been deprecated in 1.2 and will be removed in 1.4. To keep the past behaviour, set `penalty=None`.\n",
            "  warnings.warn(\n",
            "/Library/Frameworks/Python.framework/Versions/3.11/lib/python3.11/site-packages/sklearn/linear_model/_glm/_newton_solver.py:491: LinAlgWarning: The inner solver of NewtonCholeskySolver stumbled upon a singular or very ill-conditioned Hessian matrix at iteration #1. It will now resort to lbfgs instead.\n",
            "Further options are to use another solver or to avoid such situation in the first place. Possible remedies are removing collinear features of X or increasing the penalization strengths.\n",
            "The original Linear Algebra message was:\n",
            "Ill-conditioned matrix (rcond=9.73837e-19): result may not be accurate.\n",
            "  warnings.warn(\n",
            "/Library/Frameworks/Python.framework/Versions/3.11/lib/python3.11/site-packages/sklearn/linear_model/_glm/_newton_solver.py:491: LinAlgWarning: The inner solver of NewtonCholeskySolver stumbled upon a singular or very ill-conditioned Hessian matrix at iteration #1. It will now resort to lbfgs instead.\n",
            "Further options are to use another solver or to avoid such situation in the first place. Possible remedies are removing collinear features of X or increasing the penalization strengths.\n",
            "The original Linear Algebra message was:\n",
            "Ill-conditioned matrix (rcond=9.50729e-19): result may not be accurate.\n",
            "  warnings.warn(\n",
            "/Library/Frameworks/Python.framework/Versions/3.11/lib/python3.11/site-packages/sklearn/linear_model/_glm/_newton_solver.py:491: LinAlgWarning: The inner solver of NewtonCholeskySolver stumbled upon a singular or very ill-conditioned Hessian matrix at iteration #1. It will now resort to lbfgs instead.\n",
            "Further options are to use another solver or to avoid such situation in the first place. Possible remedies are removing collinear features of X or increasing the penalization strengths.\n",
            "The original Linear Algebra message was:\n",
            "Ill-conditioned matrix (rcond=1.04535e-18): result may not be accurate.\n",
            "  warnings.warn(\n",
            "/Library/Frameworks/Python.framework/Versions/3.11/lib/python3.11/site-packages/sklearn/linear_model/_glm/_newton_solver.py:491: LinAlgWarning: The inner solver of NewtonCholeskySolver stumbled upon a singular or very ill-conditioned Hessian matrix at iteration #1. It will now resort to lbfgs instead.\n",
            "Further options are to use another solver or to avoid such situation in the first place. Possible remedies are removing collinear features of X or increasing the penalization strengths.\n",
            "The original Linear Algebra message was:\n",
            "Ill-conditioned matrix (rcond=9.73837e-19): result may not be accurate.\n",
            "  warnings.warn(\n",
            "/Library/Frameworks/Python.framework/Versions/3.11/lib/python3.11/site-packages/sklearn/linear_model/_glm/_newton_solver.py:491: LinAlgWarning: The inner solver of NewtonCholeskySolver stumbled upon a singular or very ill-conditioned Hessian matrix at iteration #1. It will now resort to lbfgs instead.\n",
            "Further options are to use another solver or to avoid such situation in the first place. Possible remedies are removing collinear features of X or increasing the penalization strengths.\n",
            "The original Linear Algebra message was:\n",
            "Ill-conditioned matrix (rcond=2.16353e-18): result may not be accurate.\n",
            "  warnings.warn(\n",
            "/Library/Frameworks/Python.framework/Versions/3.11/lib/python3.11/site-packages/sklearn/linear_model/_glm/_newton_solver.py:491: LinAlgWarning: The inner solver of NewtonCholeskySolver stumbled upon a singular or very ill-conditioned Hessian matrix at iteration #1. It will now resort to lbfgs instead.\n",
            "Further options are to use another solver or to avoid such situation in the first place. Possible remedies are removing collinear features of X or increasing the penalization strengths.\n",
            "The original Linear Algebra message was:\n",
            "Ill-conditioned matrix (rcond=1.00379e-18): result may not be accurate.\n",
            "  warnings.warn(\n",
            "/Library/Frameworks/Python.framework/Versions/3.11/lib/python3.11/site-packages/sklearn/linear_model/_glm/_newton_solver.py:491: LinAlgWarning: The inner solver of NewtonCholeskySolver stumbled upon a singular or very ill-conditioned Hessian matrix at iteration #1. It will now resort to lbfgs instead.\n",
            "Further options are to use another solver or to avoid such situation in the first place. Possible remedies are removing collinear features of X or increasing the penalization strengths.\n",
            "The original Linear Algebra message was:\n",
            "Ill-conditioned matrix (rcond=9.50729e-19): result may not be accurate.\n",
            "  warnings.warn(\n",
            "/Library/Frameworks/Python.framework/Versions/3.11/lib/python3.11/site-packages/sklearn/linear_model/_glm/_newton_solver.py:491: LinAlgWarning: The inner solver of NewtonCholeskySolver stumbled upon a singular or very ill-conditioned Hessian matrix at iteration #1. It will now resort to lbfgs instead.\n",
            "Further options are to use another solver or to avoid such situation in the first place. Possible remedies are removing collinear features of X or increasing the penalization strengths.\n",
            "The original Linear Algebra message was:\n",
            "Ill-conditioned matrix (rcond=1.04535e-18): result may not be accurate.\n",
            "  warnings.warn(\n",
            "/Library/Frameworks/Python.framework/Versions/3.11/lib/python3.11/site-packages/sklearn/linear_model/_glm/_newton_solver.py:491: LinAlgWarning: The inner solver of NewtonCholeskySolver stumbled upon a singular or very ill-conditioned Hessian matrix at iteration #1. It will now resort to lbfgs instead.\n",
            "Further options are to use another solver or to avoid such situation in the first place. Possible remedies are removing collinear features of X or increasing the penalization strengths.\n",
            "The original Linear Algebra message was:\n",
            "Ill-conditioned matrix (rcond=9.73837e-19): result may not be accurate.\n",
            "  warnings.warn(\n",
            "/Library/Frameworks/Python.framework/Versions/3.11/lib/python3.11/site-packages/sklearn/linear_model/_logistic.py:1173: FutureWarning: `penalty='none'`has been deprecated in 1.2 and will be removed in 1.4. To keep the past behaviour, set `penalty=None`.\n",
            "  warnings.warn(\n",
            "/Library/Frameworks/Python.framework/Versions/3.11/lib/python3.11/site-packages/sklearn/linear_model/_logistic.py:1173: FutureWarning: `penalty='none'`has been deprecated in 1.2 and will be removed in 1.4. To keep the past behaviour, set `penalty=None`.\n",
            "  warnings.warn(\n",
            "/Library/Frameworks/Python.framework/Versions/3.11/lib/python3.11/site-packages/sklearn/linear_model/_glm/_newton_solver.py:491: LinAlgWarning: The inner solver of NewtonCholeskySolver stumbled upon a singular or very ill-conditioned Hessian matrix at iteration #1. It will now resort to lbfgs instead.\n",
            "Further options are to use another solver or to avoid such situation in the first place. Possible remedies are removing collinear features of X or increasing the penalization strengths.\n",
            "The original Linear Algebra message was:\n",
            "Ill-conditioned matrix (rcond=1.03152e-18): result may not be accurate.\n",
            "  warnings.warn(\n",
            "/Library/Frameworks/Python.framework/Versions/3.11/lib/python3.11/site-packages/sklearn/linear_model/_glm/_newton_solver.py:491: LinAlgWarning: The inner solver of NewtonCholeskySolver stumbled upon a singular or very ill-conditioned Hessian matrix at iteration #1. It will now resort to lbfgs instead.\n",
            "Further options are to use another solver or to avoid such situation in the first place. Possible remedies are removing collinear features of X or increasing the penalization strengths.\n",
            "The original Linear Algebra message was:\n",
            "Ill-conditioned matrix (rcond=1.03151e-18): result may not be accurate.\n",
            "  warnings.warn(\n",
            "/Library/Frameworks/Python.framework/Versions/3.11/lib/python3.11/site-packages/sklearn/linear_model/_glm/_newton_solver.py:491: LinAlgWarning: The inner solver of NewtonCholeskySolver stumbled upon a singular or very ill-conditioned Hessian matrix at iteration #1. It will now resort to lbfgs instead.\n",
            "Further options are to use another solver or to avoid such situation in the first place. Possible remedies are removing collinear features of X or increasing the penalization strengths.\n",
            "The original Linear Algebra message was:\n",
            "Ill-conditioned matrix (rcond=1.03152e-18): result may not be accurate.\n",
            "  warnings.warn(\n",
            "/Library/Frameworks/Python.framework/Versions/3.11/lib/python3.11/site-packages/sklearn/linear_model/_glm/_newton_solver.py:491: LinAlgWarning: The inner solver of NewtonCholeskySolver stumbled upon a singular or very ill-conditioned Hessian matrix at iteration #1. It will now resort to lbfgs instead.\n",
            "Further options are to use another solver or to avoid such situation in the first place. Possible remedies are removing collinear features of X or increasing the penalization strengths.\n",
            "The original Linear Algebra message was:\n",
            "Ill-conditioned matrix (rcond=1.03151e-18): result may not be accurate.\n",
            "  warnings.warn(\n",
            "/Library/Frameworks/Python.framework/Versions/3.11/lib/python3.11/site-packages/sklearn/linear_model/_logistic.py:1173: FutureWarning: `penalty='none'`has been deprecated in 1.2 and will be removed in 1.4. To keep the past behaviour, set `penalty=None`.\n",
            "  warnings.warn(\n",
            "/Library/Frameworks/Python.framework/Versions/3.11/lib/python3.11/site-packages/sklearn/linear_model/_glm/_newton_solver.py:491: LinAlgWarning: The inner solver of NewtonCholeskySolver stumbled upon a singular or very ill-conditioned Hessian matrix at iteration #1. It will now resort to lbfgs instead.\n",
            "Further options are to use another solver or to avoid such situation in the first place. Possible remedies are removing collinear features of X or increasing the penalization strengths.\n",
            "The original Linear Algebra message was:\n",
            "Ill-conditioned matrix (rcond=1.00532e-18): result may not be accurate.\n",
            "  warnings.warn(\n",
            "/Library/Frameworks/Python.framework/Versions/3.11/lib/python3.11/site-packages/sklearn/linear_model/_logistic.py:1173: FutureWarning: `penalty='none'`has been deprecated in 1.2 and will be removed in 1.4. To keep the past behaviour, set `penalty=None`.\n",
            "  warnings.warn(\n",
            "/Library/Frameworks/Python.framework/Versions/3.11/lib/python3.11/site-packages/sklearn/linear_model/_glm/_newton_solver.py:491: LinAlgWarning: The inner solver of NewtonCholeskySolver stumbled upon a singular or very ill-conditioned Hessian matrix at iteration #1. It will now resort to lbfgs instead.\n",
            "Further options are to use another solver or to avoid such situation in the first place. Possible remedies are removing collinear features of X or increasing the penalization strengths.\n",
            "The original Linear Algebra message was:\n",
            "Ill-conditioned matrix (rcond=7.61072e-19): result may not be accurate.\n",
            "  warnings.warn(\n",
            "/Library/Frameworks/Python.framework/Versions/3.11/lib/python3.11/site-packages/sklearn/linear_model/_logistic.py:1173: FutureWarning: `penalty='none'`has been deprecated in 1.2 and will be removed in 1.4. To keep the past behaviour, set `penalty=None`.\n",
            "  warnings.warn(\n",
            "/Library/Frameworks/Python.framework/Versions/3.11/lib/python3.11/site-packages/sklearn/linear_model/_glm/_newton_solver.py:491: LinAlgWarning: The inner solver of NewtonCholeskySolver stumbled upon a singular or very ill-conditioned Hessian matrix at iteration #1. It will now resort to lbfgs instead.\n",
            "Further options are to use another solver or to avoid such situation in the first place. Possible remedies are removing collinear features of X or increasing the penalization strengths.\n",
            "The original Linear Algebra message was:\n",
            "Ill-conditioned matrix (rcond=1.00544e-18): result may not be accurate.\n",
            "  warnings.warn(\n",
            "/Library/Frameworks/Python.framework/Versions/3.11/lib/python3.11/site-packages/sklearn/linear_model/_glm/_newton_solver.py:491: LinAlgWarning: The inner solver of NewtonCholeskySolver stumbled upon a singular or very ill-conditioned Hessian matrix at iteration #1. It will now resort to lbfgs instead.\n",
            "Further options are to use another solver or to avoid such situation in the first place. Possible remedies are removing collinear features of X or increasing the penalization strengths.\n",
            "The original Linear Algebra message was:\n",
            "Ill-conditioned matrix (rcond=1.00532e-18): result may not be accurate.\n",
            "  warnings.warn(\n",
            "/Library/Frameworks/Python.framework/Versions/3.11/lib/python3.11/site-packages/sklearn/linear_model/_glm/_newton_solver.py:491: LinAlgWarning: The inner solver of NewtonCholeskySolver stumbled upon a singular or very ill-conditioned Hessian matrix at iteration #1. It will now resort to lbfgs instead.\n",
            "Further options are to use another solver or to avoid such situation in the first place. Possible remedies are removing collinear features of X or increasing the penalization strengths.\n",
            "The original Linear Algebra message was:\n",
            "Ill-conditioned matrix (rcond=1.00544e-18): result may not be accurate.\n",
            "  warnings.warn(\n",
            "/Library/Frameworks/Python.framework/Versions/3.11/lib/python3.11/site-packages/sklearn/linear_model/_glm/_newton_solver.py:491: LinAlgWarning: The inner solver of NewtonCholeskySolver stumbled upon a singular or very ill-conditioned Hessian matrix at iteration #1. It will now resort to lbfgs instead.\n",
            "Further options are to use another solver or to avoid such situation in the first place. Possible remedies are removing collinear features of X or increasing the penalization strengths.\n",
            "The original Linear Algebra message was:\n",
            "Ill-conditioned matrix (rcond=7.61072e-19): result may not be accurate.\n",
            "  warnings.warn(\n",
            "/Library/Frameworks/Python.framework/Versions/3.11/lib/python3.11/site-packages/sklearn/linear_model/_glm/_newton_solver.py:491: LinAlgWarning: The inner solver of NewtonCholeskySolver stumbled upon a singular or very ill-conditioned Hessian matrix at iteration #1. It will now resort to lbfgs instead.\n",
            "Further options are to use another solver or to avoid such situation in the first place. Possible remedies are removing collinear features of X or increasing the penalization strengths.\n",
            "The original Linear Algebra message was:\n",
            "Ill-conditioned matrix (rcond=1.03152e-18): result may not be accurate.\n",
            "  warnings.warn(\n",
            "/Library/Frameworks/Python.framework/Versions/3.11/lib/python3.11/site-packages/sklearn/linear_model/_glm/_newton_solver.py:491: LinAlgWarning: The inner solver of NewtonCholeskySolver stumbled upon a singular or very ill-conditioned Hessian matrix at iteration #1. It will now resort to lbfgs instead.\n",
            "Further options are to use another solver or to avoid such situation in the first place. Possible remedies are removing collinear features of X or increasing the penalization strengths.\n",
            "The original Linear Algebra message was:\n",
            "Ill-conditioned matrix (rcond=1.03151e-18): result may not be accurate.\n",
            "  warnings.warn(\n",
            "/Library/Frameworks/Python.framework/Versions/3.11/lib/python3.11/site-packages/sklearn/linear_model/_glm/_newton_solver.py:491: LinAlgWarning: The inner solver of NewtonCholeskySolver stumbled upon a singular or very ill-conditioned Hessian matrix at iteration #1. It will now resort to lbfgs instead.\n",
            "Further options are to use another solver or to avoid such situation in the first place. Possible remedies are removing collinear features of X or increasing the penalization strengths.\n",
            "The original Linear Algebra message was:\n",
            "Ill-conditioned matrix (rcond=1.00532e-18): result may not be accurate.\n",
            "  warnings.warn(\n",
            "/Library/Frameworks/Python.framework/Versions/3.11/lib/python3.11/site-packages/sklearn/linear_model/_logistic.py:1173: FutureWarning: `penalty='none'`has been deprecated in 1.2 and will be removed in 1.4. To keep the past behaviour, set `penalty=None`.\n",
            "  warnings.warn(\n",
            "/Library/Frameworks/Python.framework/Versions/3.11/lib/python3.11/site-packages/sklearn/linear_model/_glm/_newton_solver.py:491: LinAlgWarning: The inner solver of NewtonCholeskySolver stumbled upon a singular or very ill-conditioned Hessian matrix at iteration #1. It will now resort to lbfgs instead.\n",
            "Further options are to use another solver or to avoid such situation in the first place. Possible remedies are removing collinear features of X or increasing the penalization strengths.\n",
            "The original Linear Algebra message was:\n",
            "Ill-conditioned matrix (rcond=2.1415e-18): result may not be accurate.\n",
            "  warnings.warn(\n",
            "/Library/Frameworks/Python.framework/Versions/3.11/lib/python3.11/site-packages/sklearn/linear_model/_logistic.py:1173: FutureWarning: `penalty='none'`has been deprecated in 1.2 and will be removed in 1.4. To keep the past behaviour, set `penalty=None`.\n",
            "  warnings.warn(\n",
            "/Library/Frameworks/Python.framework/Versions/3.11/lib/python3.11/site-packages/sklearn/linear_model/_glm/_newton_solver.py:491: LinAlgWarning: The inner solver of NewtonCholeskySolver stumbled upon a singular or very ill-conditioned Hessian matrix at iteration #1. It will now resort to lbfgs instead.\n",
            "Further options are to use another solver or to avoid such situation in the first place. Possible remedies are removing collinear features of X or increasing the penalization strengths.\n",
            "The original Linear Algebra message was:\n",
            "Ill-conditioned matrix (rcond=1.00544e-18): result may not be accurate.\n",
            "  warnings.warn(\n",
            "/Library/Frameworks/Python.framework/Versions/3.11/lib/python3.11/site-packages/sklearn/linear_model/_glm/_newton_solver.py:491: LinAlgWarning: The inner solver of NewtonCholeskySolver stumbled upon a singular or very ill-conditioned Hessian matrix at iteration #1. It will now resort to lbfgs instead.\n",
            "Further options are to use another solver or to avoid such situation in the first place. Possible remedies are removing collinear features of X or increasing the penalization strengths.\n",
            "The original Linear Algebra message was:\n",
            "Ill-conditioned matrix (rcond=8.75803e-19): result may not be accurate.\n",
            "  warnings.warn(\n",
            "/Library/Frameworks/Python.framework/Versions/3.11/lib/python3.11/site-packages/sklearn/linear_model/_glm/_newton_solver.py:491: LinAlgWarning: The inner solver of NewtonCholeskySolver stumbled upon a singular or very ill-conditioned Hessian matrix at iteration #1. It will now resort to lbfgs instead.\n",
            "Further options are to use another solver or to avoid such situation in the first place. Possible remedies are removing collinear features of X or increasing the penalization strengths.\n",
            "The original Linear Algebra message was:\n",
            "Ill-conditioned matrix (rcond=7.61072e-19): result may not be accurate.\n",
            "  warnings.warn(\n",
            "/Library/Frameworks/Python.framework/Versions/3.11/lib/python3.11/site-packages/sklearn/linear_model/_glm/_newton_solver.py:491: LinAlgWarning: The inner solver of NewtonCholeskySolver stumbled upon a singular or very ill-conditioned Hessian matrix at iteration #1. It will now resort to lbfgs instead.\n",
            "Further options are to use another solver or to avoid such situation in the first place. Possible remedies are removing collinear features of X or increasing the penalization strengths.\n",
            "The original Linear Algebra message was:\n",
            "Ill-conditioned matrix (rcond=2.1415e-18): result may not be accurate.\n",
            "  warnings.warn(\n",
            "/Library/Frameworks/Python.framework/Versions/3.11/lib/python3.11/site-packages/sklearn/linear_model/_glm/_newton_solver.py:491: LinAlgWarning: The inner solver of NewtonCholeskySolver stumbled upon a singular or very ill-conditioned Hessian matrix at iteration #1. It will now resort to lbfgs instead.\n",
            "Further options are to use another solver or to avoid such situation in the first place. Possible remedies are removing collinear features of X or increasing the penalization strengths.\n",
            "The original Linear Algebra message was:\n",
            "Ill-conditioned matrix (rcond=8.75803e-19): result may not be accurate.\n",
            "  warnings.warn(\n",
            "/Library/Frameworks/Python.framework/Versions/3.11/lib/python3.11/site-packages/sklearn/linear_model/_logistic.py:1173: FutureWarning: `penalty='none'`has been deprecated in 1.2 and will be removed in 1.4. To keep the past behaviour, set `penalty=None`.\n",
            "  warnings.warn(\n",
            "/Library/Frameworks/Python.framework/Versions/3.11/lib/python3.11/site-packages/sklearn/linear_model/_logistic.py:1173: FutureWarning: `penalty='none'`has been deprecated in 1.2 and will be removed in 1.4. To keep the past behaviour, set `penalty=None`.\n",
            "  warnings.warn(\n",
            "/Library/Frameworks/Python.framework/Versions/3.11/lib/python3.11/site-packages/sklearn/linear_model/_glm/_newton_solver.py:491: LinAlgWarning: The inner solver of NewtonCholeskySolver stumbled upon a singular or very ill-conditioned Hessian matrix at iteration #1. It will now resort to lbfgs instead.\n",
            "Further options are to use another solver or to avoid such situation in the first place. Possible remedies are removing collinear features of X or increasing the penalization strengths.\n",
            "The original Linear Algebra message was:\n",
            "Ill-conditioned matrix (rcond=1.11421e-18): result may not be accurate.\n",
            "  warnings.warn(\n",
            "/Library/Frameworks/Python.framework/Versions/3.11/lib/python3.11/site-packages/sklearn/linear_model/_glm/_newton_solver.py:491: LinAlgWarning: The inner solver of NewtonCholeskySolver stumbled upon a singular or very ill-conditioned Hessian matrix at iteration #1. It will now resort to lbfgs instead.\n",
            "Further options are to use another solver or to avoid such situation in the first place. Possible remedies are removing collinear features of X or increasing the penalization strengths.\n",
            "The original Linear Algebra message was:\n",
            "Ill-conditioned matrix (rcond=1.01662e-18): result may not be accurate.\n",
            "  warnings.warn(\n",
            "/Library/Frameworks/Python.framework/Versions/3.11/lib/python3.11/site-packages/sklearn/linear_model/_logistic.py:1173: FutureWarning: `penalty='none'`has been deprecated in 1.2 and will be removed in 1.4. To keep the past behaviour, set `penalty=None`.\n",
            "  warnings.warn(\n",
            "/Library/Frameworks/Python.framework/Versions/3.11/lib/python3.11/site-packages/sklearn/linear_model/_glm/_newton_solver.py:491: LinAlgWarning: The inner solver of NewtonCholeskySolver stumbled upon a singular or very ill-conditioned Hessian matrix at iteration #1. It will now resort to lbfgs instead.\n",
            "Further options are to use another solver or to avoid such situation in the first place. Possible remedies are removing collinear features of X or increasing the penalization strengths.\n",
            "The original Linear Algebra message was:\n",
            "Ill-conditioned matrix (rcond=9.9635e-19): result may not be accurate.\n",
            "  warnings.warn(\n",
            "/Library/Frameworks/Python.framework/Versions/3.11/lib/python3.11/site-packages/sklearn/linear_model/_glm/_newton_solver.py:491: LinAlgWarning: The inner solver of NewtonCholeskySolver stumbled upon a singular or very ill-conditioned Hessian matrix at iteration #1. It will now resort to lbfgs instead.\n",
            "Further options are to use another solver or to avoid such situation in the first place. Possible remedies are removing collinear features of X or increasing the penalization strengths.\n",
            "The original Linear Algebra message was:\n",
            "Ill-conditioned matrix (rcond=2.1415e-18): result may not be accurate.\n",
            "  warnings.warn(\n",
            "/Library/Frameworks/Python.framework/Versions/3.11/lib/python3.11/site-packages/sklearn/linear_model/_glm/_newton_solver.py:491: LinAlgWarning: The inner solver of NewtonCholeskySolver stumbled upon a singular or very ill-conditioned Hessian matrix at iteration #1. It will now resort to lbfgs instead.\n",
            "Further options are to use another solver or to avoid such situation in the first place. Possible remedies are removing collinear features of X or increasing the penalization strengths.\n",
            "The original Linear Algebra message was:\n",
            "Ill-conditioned matrix (rcond=1.11421e-18): result may not be accurate.\n",
            "  warnings.warn(\n",
            "/Library/Frameworks/Python.framework/Versions/3.11/lib/python3.11/site-packages/sklearn/linear_model/_glm/_newton_solver.py:491: LinAlgWarning: The inner solver of NewtonCholeskySolver stumbled upon a singular or very ill-conditioned Hessian matrix at iteration #1. It will now resort to lbfgs instead.\n",
            "Further options are to use another solver or to avoid such situation in the first place. Possible remedies are removing collinear features of X or increasing the penalization strengths.\n",
            "The original Linear Algebra message was:\n",
            "Ill-conditioned matrix (rcond=1.01662e-18): result may not be accurate.\n",
            "  warnings.warn(\n",
            "/Library/Frameworks/Python.framework/Versions/3.11/lib/python3.11/site-packages/sklearn/linear_model/_glm/_newton_solver.py:491: LinAlgWarning: The inner solver of NewtonCholeskySolver stumbled upon a singular or very ill-conditioned Hessian matrix at iteration #1. It will now resort to lbfgs instead.\n",
            "Further options are to use another solver or to avoid such situation in the first place. Possible remedies are removing collinear features of X or increasing the penalization strengths.\n",
            "The original Linear Algebra message was:\n",
            "Ill-conditioned matrix (rcond=9.9635e-19): result may not be accurate.\n",
            "  warnings.warn(\n",
            "/Library/Frameworks/Python.framework/Versions/3.11/lib/python3.11/site-packages/sklearn/linear_model/_glm/_newton_solver.py:491: LinAlgWarning: The inner solver of NewtonCholeskySolver stumbled upon a singular or very ill-conditioned Hessian matrix at iteration #1. It will now resort to lbfgs instead.\n",
            "Further options are to use another solver or to avoid such situation in the first place. Possible remedies are removing collinear features of X or increasing the penalization strengths.\n",
            "The original Linear Algebra message was:\n",
            "Ill-conditioned matrix (rcond=8.75803e-19): result may not be accurate.\n",
            "  warnings.warn(\n",
            "/Library/Frameworks/Python.framework/Versions/3.11/lib/python3.11/site-packages/sklearn/linear_model/_logistic.py:1173: FutureWarning: `penalty='none'`has been deprecated in 1.2 and will be removed in 1.4. To keep the past behaviour, set `penalty=None`.\n",
            "  warnings.warn(\n",
            "/Library/Frameworks/Python.framework/Versions/3.11/lib/python3.11/site-packages/sklearn/linear_model/_glm/_newton_solver.py:491: LinAlgWarning: The inner solver of NewtonCholeskySolver stumbled upon a singular or very ill-conditioned Hessian matrix at iteration #1. It will now resort to lbfgs instead.\n",
            "Further options are to use another solver or to avoid such situation in the first place. Possible remedies are removing collinear features of X or increasing the penalization strengths.\n",
            "The original Linear Algebra message was:\n",
            "Ill-conditioned matrix (rcond=1.09925e-18): result may not be accurate.\n",
            "  warnings.warn(\n",
            "/Library/Frameworks/Python.framework/Versions/3.11/lib/python3.11/site-packages/sklearn/linear_model/_glm/_newton_solver.py:491: LinAlgWarning: The inner solver of NewtonCholeskySolver stumbled upon a singular or very ill-conditioned Hessian matrix at iteration #1. It will now resort to lbfgs instead.\n",
            "Further options are to use another solver or to avoid such situation in the first place. Possible remedies are removing collinear features of X or increasing the penalization strengths.\n",
            "The original Linear Algebra message was:\n",
            "Ill-conditioned matrix (rcond=1.11421e-18): result may not be accurate.\n",
            "  warnings.warn(\n",
            "/Library/Frameworks/Python.framework/Versions/3.11/lib/python3.11/site-packages/sklearn/linear_model/_logistic.py:1173: FutureWarning: `penalty='none'`has been deprecated in 1.2 and will be removed in 1.4. To keep the past behaviour, set `penalty=None`.\n",
            "  warnings.warn(\n",
            "/Library/Frameworks/Python.framework/Versions/3.11/lib/python3.11/site-packages/sklearn/linear_model/_glm/_newton_solver.py:491: LinAlgWarning: The inner solver of NewtonCholeskySolver stumbled upon a singular or very ill-conditioned Hessian matrix at iteration #1. It will now resort to lbfgs instead.\n",
            "Further options are to use another solver or to avoid such situation in the first place. Possible remedies are removing collinear features of X or increasing the penalization strengths.\n",
            "The original Linear Algebra message was:\n",
            "Ill-conditioned matrix (rcond=1.01662e-18): result may not be accurate.\n",
            "  warnings.warn(\n",
            "/Library/Frameworks/Python.framework/Versions/3.11/lib/python3.11/site-packages/sklearn/linear_model/_glm/_newton_solver.py:491: LinAlgWarning: The inner solver of NewtonCholeskySolver stumbled upon a singular or very ill-conditioned Hessian matrix at iteration #1. It will now resort to lbfgs instead.\n",
            "Further options are to use another solver or to avoid such situation in the first place. Possible remedies are removing collinear features of X or increasing the penalization strengths.\n",
            "The original Linear Algebra message was:\n",
            "Ill-conditioned matrix (rcond=9.9635e-19): result may not be accurate.\n",
            "  warnings.warn(\n",
            "/Library/Frameworks/Python.framework/Versions/3.11/lib/python3.11/site-packages/sklearn/linear_model/_glm/_newton_solver.py:491: LinAlgWarning: The inner solver of NewtonCholeskySolver stumbled upon a singular or very ill-conditioned Hessian matrix at iteration #1. It will now resort to lbfgs instead.\n",
            "Further options are to use another solver or to avoid such situation in the first place. Possible remedies are removing collinear features of X or increasing the penalization strengths.\n",
            "The original Linear Algebra message was:\n",
            "Ill-conditioned matrix (rcond=1.06806e-18): result may not be accurate.\n",
            "  warnings.warn(\n",
            "/Library/Frameworks/Python.framework/Versions/3.11/lib/python3.11/site-packages/sklearn/linear_model/_glm/_newton_solver.py:491: LinAlgWarning: The inner solver of NewtonCholeskySolver stumbled upon a singular or very ill-conditioned Hessian matrix at iteration #1. It will now resort to lbfgs instead.\n",
            "Further options are to use another solver or to avoid such situation in the first place. Possible remedies are removing collinear features of X or increasing the penalization strengths.\n",
            "The original Linear Algebra message was:\n",
            "Ill-conditioned matrix (rcond=1.09925e-18): result may not be accurate.\n",
            "  warnings.warn(\n",
            "/Library/Frameworks/Python.framework/Versions/3.11/lib/python3.11/site-packages/sklearn/linear_model/_glm/_newton_solver.py:491: LinAlgWarning: The inner solver of NewtonCholeskySolver stumbled upon a singular or very ill-conditioned Hessian matrix at iteration #1. It will now resort to lbfgs instead.\n",
            "Further options are to use another solver or to avoid such situation in the first place. Possible remedies are removing collinear features of X or increasing the penalization strengths.\n",
            "The original Linear Algebra message was:\n",
            "Ill-conditioned matrix (rcond=1.06806e-18): result may not be accurate.\n",
            "  warnings.warn(\n",
            "/Library/Frameworks/Python.framework/Versions/3.11/lib/python3.11/site-packages/sklearn/linear_model/_logistic.py:1173: FutureWarning: `penalty='none'`has been deprecated in 1.2 and will be removed in 1.4. To keep the past behaviour, set `penalty=None`.\n",
            "  warnings.warn(\n",
            "/Library/Frameworks/Python.framework/Versions/3.11/lib/python3.11/site-packages/sklearn/linear_model/_logistic.py:1173: FutureWarning: `penalty='none'`has been deprecated in 1.2 and will be removed in 1.4. To keep the past behaviour, set `penalty=None`.\n",
            "  warnings.warn(\n",
            "/Library/Frameworks/Python.framework/Versions/3.11/lib/python3.11/site-packages/sklearn/linear_model/_glm/_newton_solver.py:491: LinAlgWarning: The inner solver of NewtonCholeskySolver stumbled upon a singular or very ill-conditioned Hessian matrix at iteration #1. It will now resort to lbfgs instead.\n",
            "Further options are to use another solver or to avoid such situation in the first place. Possible remedies are removing collinear features of X or increasing the penalization strengths.\n",
            "The original Linear Algebra message was:\n",
            "Ill-conditioned matrix (rcond=8.76437e-19): result may not be accurate.\n",
            "  warnings.warn(\n",
            "/Library/Frameworks/Python.framework/Versions/3.11/lib/python3.11/site-packages/sklearn/linear_model/_glm/_newton_solver.py:491: LinAlgWarning: The inner solver of NewtonCholeskySolver stumbled upon a singular or very ill-conditioned Hessian matrix at iteration #1. It will now resort to lbfgs instead.\n",
            "Further options are to use another solver or to avoid such situation in the first place. Possible remedies are removing collinear features of X or increasing the penalization strengths.\n",
            "The original Linear Algebra message was:\n",
            "Ill-conditioned matrix (rcond=1.02888e-18): result may not be accurate.\n",
            "  warnings.warn(\n",
            "/Library/Frameworks/Python.framework/Versions/3.11/lib/python3.11/site-packages/sklearn/linear_model/_logistic.py:1173: FutureWarning: `penalty='none'`has been deprecated in 1.2 and will be removed in 1.4. To keep the past behaviour, set `penalty=None`.\n",
            "  warnings.warn(\n",
            "/Library/Frameworks/Python.framework/Versions/3.11/lib/python3.11/site-packages/sklearn/linear_model/_glm/_newton_solver.py:491: LinAlgWarning: The inner solver of NewtonCholeskySolver stumbled upon a singular or very ill-conditioned Hessian matrix at iteration #1. It will now resort to lbfgs instead.\n",
            "Further options are to use another solver or to avoid such situation in the first place. Possible remedies are removing collinear features of X or increasing the penalization strengths.\n",
            "The original Linear Algebra message was:\n",
            "Ill-conditioned matrix (rcond=7.72977e-19): result may not be accurate.\n",
            "  warnings.warn(\n",
            "/Library/Frameworks/Python.framework/Versions/3.11/lib/python3.11/site-packages/sklearn/linear_model/_glm/_newton_solver.py:491: LinAlgWarning: The inner solver of NewtonCholeskySolver stumbled upon a singular or very ill-conditioned Hessian matrix at iteration #1. It will now resort to lbfgs instead.\n",
            "Further options are to use another solver or to avoid such situation in the first place. Possible remedies are removing collinear features of X or increasing the penalization strengths.\n",
            "The original Linear Algebra message was:\n",
            "Ill-conditioned matrix (rcond=8.76437e-19): result may not be accurate.\n",
            "  warnings.warn(\n",
            "/Library/Frameworks/Python.framework/Versions/3.11/lib/python3.11/site-packages/sklearn/linear_model/_glm/_newton_solver.py:491: LinAlgWarning: The inner solver of NewtonCholeskySolver stumbled upon a singular or very ill-conditioned Hessian matrix at iteration #1. It will now resort to lbfgs instead.\n",
            "Further options are to use another solver or to avoid such situation in the first place. Possible remedies are removing collinear features of X or increasing the penalization strengths.\n",
            "The original Linear Algebra message was:\n",
            "Ill-conditioned matrix (rcond=1.02888e-18): result may not be accurate.\n",
            "  warnings.warn(\n",
            "/Library/Frameworks/Python.framework/Versions/3.11/lib/python3.11/site-packages/sklearn/linear_model/_glm/_newton_solver.py:491: LinAlgWarning: The inner solver of NewtonCholeskySolver stumbled upon a singular or very ill-conditioned Hessian matrix at iteration #1. It will now resort to lbfgs instead.\n",
            "Further options are to use another solver or to avoid such situation in the first place. Possible remedies are removing collinear features of X or increasing the penalization strengths.\n",
            "The original Linear Algebra message was:\n",
            "Ill-conditioned matrix (rcond=1.06806e-18): result may not be accurate.\n",
            "  warnings.warn(\n",
            "/Library/Frameworks/Python.framework/Versions/3.11/lib/python3.11/site-packages/sklearn/linear_model/_glm/_newton_solver.py:491: LinAlgWarning: The inner solver of NewtonCholeskySolver stumbled upon a singular or very ill-conditioned Hessian matrix at iteration #1. It will now resort to lbfgs instead.\n",
            "Further options are to use another solver or to avoid such situation in the first place. Possible remedies are removing collinear features of X or increasing the penalization strengths.\n",
            "The original Linear Algebra message was:\n",
            "Ill-conditioned matrix (rcond=1.09925e-18): result may not be accurate.\n",
            "  warnings.warn(\n",
            "/Library/Frameworks/Python.framework/Versions/3.11/lib/python3.11/site-packages/sklearn/linear_model/_glm/_newton_solver.py:491: LinAlgWarning: The inner solver of NewtonCholeskySolver stumbled upon a singular or very ill-conditioned Hessian matrix at iteration #1. It will now resort to lbfgs instead.\n",
            "Further options are to use another solver or to avoid such situation in the first place. Possible remedies are removing collinear features of X or increasing the penalization strengths.\n",
            "The original Linear Algebra message was:\n",
            "Ill-conditioned matrix (rcond=7.72977e-19): result may not be accurate.\n",
            "  warnings.warn(\n",
            "/Library/Frameworks/Python.framework/Versions/3.11/lib/python3.11/site-packages/sklearn/linear_model/_glm/_newton_solver.py:491: LinAlgWarning: The inner solver of NewtonCholeskySolver stumbled upon a singular or very ill-conditioned Hessian matrix at iteration #1. It will now resort to lbfgs instead.\n",
            "Further options are to use another solver or to avoid such situation in the first place. Possible remedies are removing collinear features of X or increasing the penalization strengths.\n",
            "The original Linear Algebra message was:\n",
            "Ill-conditioned matrix (rcond=7.72977e-19): result may not be accurate.\n",
            "  warnings.warn(\n",
            "/Library/Frameworks/Python.framework/Versions/3.11/lib/python3.11/site-packages/sklearn/linear_model/_logistic.py:1173: FutureWarning: `penalty='none'`has been deprecated in 1.2 and will be removed in 1.4. To keep the past behaviour, set `penalty=None`.\n",
            "  warnings.warn(\n",
            "/Library/Frameworks/Python.framework/Versions/3.11/lib/python3.11/site-packages/sklearn/linear_model/_glm/_newton_solver.py:491: LinAlgWarning: The inner solver of NewtonCholeskySolver stumbled upon a singular or very ill-conditioned Hessian matrix at iteration #1. It will now resort to lbfgs instead.\n",
            "Further options are to use another solver or to avoid such situation in the first place. Possible remedies are removing collinear features of X or increasing the penalization strengths.\n",
            "The original Linear Algebra message was:\n",
            "Ill-conditioned matrix (rcond=2.07793e-18): result may not be accurate.\n",
            "  warnings.warn(\n",
            "/Library/Frameworks/Python.framework/Versions/3.11/lib/python3.11/site-packages/sklearn/linear_model/_logistic.py:1173: FutureWarning: `penalty='none'`has been deprecated in 1.2 and will be removed in 1.4. To keep the past behaviour, set `penalty=None`.\n",
            "  warnings.warn(\n",
            "/Library/Frameworks/Python.framework/Versions/3.11/lib/python3.11/site-packages/sklearn/linear_model/_glm/_newton_solver.py:491: LinAlgWarning: The inner solver of NewtonCholeskySolver stumbled upon a singular or very ill-conditioned Hessian matrix at iteration #1. It will now resort to lbfgs instead.\n",
            "Further options are to use another solver or to avoid such situation in the first place. Possible remedies are removing collinear features of X or increasing the penalization strengths.\n",
            "The original Linear Algebra message was:\n",
            "Ill-conditioned matrix (rcond=8.76437e-19): result may not be accurate.\n",
            "  warnings.warn(\n",
            "/Library/Frameworks/Python.framework/Versions/3.11/lib/python3.11/site-packages/sklearn/linear_model/_glm/_newton_solver.py:491: LinAlgWarning: The inner solver of NewtonCholeskySolver stumbled upon a singular or very ill-conditioned Hessian matrix at iteration #1. It will now resort to lbfgs instead.\n",
            "Further options are to use another solver or to avoid such situation in the first place. Possible remedies are removing collinear features of X or increasing the penalization strengths.\n",
            "The original Linear Algebra message was:\n",
            "Ill-conditioned matrix (rcond=1.04578e-18): result may not be accurate.\n",
            "  warnings.warn(\n",
            "/Library/Frameworks/Python.framework/Versions/3.11/lib/python3.11/site-packages/sklearn/linear_model/_glm/_newton_solver.py:491: LinAlgWarning: The inner solver of NewtonCholeskySolver stumbled upon a singular or very ill-conditioned Hessian matrix at iteration #1. It will now resort to lbfgs instead.\n",
            "Further options are to use another solver or to avoid such situation in the first place. Possible remedies are removing collinear features of X or increasing the penalization strengths.\n",
            "The original Linear Algebra message was:\n",
            "Ill-conditioned matrix (rcond=1.02888e-18): result may not be accurate.\n",
            "  warnings.warn(\n",
            "/Library/Frameworks/Python.framework/Versions/3.11/lib/python3.11/site-packages/sklearn/linear_model/_glm/_newton_solver.py:491: LinAlgWarning: The inner solver of NewtonCholeskySolver stumbled upon a singular or very ill-conditioned Hessian matrix at iteration #1. It will now resort to lbfgs instead.\n",
            "Further options are to use another solver or to avoid such situation in the first place. Possible remedies are removing collinear features of X or increasing the penalization strengths.\n",
            "The original Linear Algebra message was:\n",
            "Ill-conditioned matrix (rcond=2.07793e-18): result may not be accurate.\n",
            "  warnings.warn(\n",
            "/Library/Frameworks/Python.framework/Versions/3.11/lib/python3.11/site-packages/sklearn/linear_model/_glm/_newton_solver.py:491: LinAlgWarning: The inner solver of NewtonCholeskySolver stumbled upon a singular or very ill-conditioned Hessian matrix at iteration #1. It will now resort to lbfgs instead.\n",
            "Further options are to use another solver or to avoid such situation in the first place. Possible remedies are removing collinear features of X or increasing the penalization strengths.\n",
            "The original Linear Algebra message was:\n",
            "Ill-conditioned matrix (rcond=1.04578e-18): result may not be accurate.\n",
            "  warnings.warn(\n",
            "/Library/Frameworks/Python.framework/Versions/3.11/lib/python3.11/site-packages/sklearn/linear_model/_logistic.py:1173: FutureWarning: `penalty='none'`has been deprecated in 1.2 and will be removed in 1.4. To keep the past behaviour, set `penalty=None`.\n",
            "  warnings.warn(\n",
            "/Library/Frameworks/Python.framework/Versions/3.11/lib/python3.11/site-packages/sklearn/linear_model/_glm/_newton_solver.py:491: LinAlgWarning: The inner solver of NewtonCholeskySolver stumbled upon a singular or very ill-conditioned Hessian matrix at iteration #1. It will now resort to lbfgs instead.\n",
            "Further options are to use another solver or to avoid such situation in the first place. Possible remedies are removing collinear features of X or increasing the penalization strengths.\n",
            "The original Linear Algebra message was:\n",
            "Ill-conditioned matrix (rcond=1.08485e-18): result may not be accurate.\n",
            "  warnings.warn(\n",
            "/Library/Frameworks/Python.framework/Versions/3.11/lib/python3.11/site-packages/sklearn/linear_model/_logistic.py:1173: FutureWarning: `penalty='none'`has been deprecated in 1.2 and will be removed in 1.4. To keep the past behaviour, set `penalty=None`.\n",
            "  warnings.warn(\n",
            "/Library/Frameworks/Python.framework/Versions/3.11/lib/python3.11/site-packages/sklearn/linear_model/_glm/_newton_solver.py:491: LinAlgWarning: The inner solver of NewtonCholeskySolver stumbled upon a singular or very ill-conditioned Hessian matrix at iteration #1. It will now resort to lbfgs instead.\n",
            "Further options are to use another solver or to avoid such situation in the first place. Possible remedies are removing collinear features of X or increasing the penalization strengths.\n",
            "The original Linear Algebra message was:\n",
            "Ill-conditioned matrix (rcond=1.02349e-18): result may not be accurate.\n",
            "  warnings.warn(\n",
            "/Library/Frameworks/Python.framework/Versions/3.11/lib/python3.11/site-packages/sklearn/linear_model/_logistic.py:1173: FutureWarning: `penalty='none'`has been deprecated in 1.2 and will be removed in 1.4. To keep the past behaviour, set `penalty=None`.\n",
            "  warnings.warn(\n",
            "/Library/Frameworks/Python.framework/Versions/3.11/lib/python3.11/site-packages/sklearn/linear_model/_glm/_newton_solver.py:491: LinAlgWarning: The inner solver of NewtonCholeskySolver stumbled upon a singular or very ill-conditioned Hessian matrix at iteration #1. It will now resort to lbfgs instead.\n",
            "Further options are to use another solver or to avoid such situation in the first place. Possible remedies are removing collinear features of X or increasing the penalization strengths.\n",
            "The original Linear Algebra message was:\n",
            "Ill-conditioned matrix (rcond=9.63601e-19): result may not be accurate.\n",
            "  warnings.warn(\n",
            "/Library/Frameworks/Python.framework/Versions/3.11/lib/python3.11/site-packages/sklearn/linear_model/_glm/_newton_solver.py:491: LinAlgWarning: The inner solver of NewtonCholeskySolver stumbled upon a singular or very ill-conditioned Hessian matrix at iteration #1. It will now resort to lbfgs instead.\n",
            "Further options are to use another solver or to avoid such situation in the first place. Possible remedies are removing collinear features of X or increasing the penalization strengths.\n",
            "The original Linear Algebra message was:\n",
            "Ill-conditioned matrix (rcond=1.08485e-18): result may not be accurate.\n",
            "  warnings.warn(\n",
            "/Library/Frameworks/Python.framework/Versions/3.11/lib/python3.11/site-packages/sklearn/linear_model/_glm/_newton_solver.py:491: LinAlgWarning: The inner solver of NewtonCholeskySolver stumbled upon a singular or very ill-conditioned Hessian matrix at iteration #1. It will now resort to lbfgs instead.\n",
            "Further options are to use another solver or to avoid such situation in the first place. Possible remedies are removing collinear features of X or increasing the penalization strengths.\n",
            "The original Linear Algebra message was:\n",
            "Ill-conditioned matrix (rcond=1.02349e-18): result may not be accurate.\n",
            "  warnings.warn(\n",
            "/Library/Frameworks/Python.framework/Versions/3.11/lib/python3.11/site-packages/sklearn/linear_model/_glm/_newton_solver.py:491: LinAlgWarning: The inner solver of NewtonCholeskySolver stumbled upon a singular or very ill-conditioned Hessian matrix at iteration #1. It will now resort to lbfgs instead.\n",
            "Further options are to use another solver or to avoid such situation in the first place. Possible remedies are removing collinear features of X or increasing the penalization strengths.\n",
            "The original Linear Algebra message was:\n",
            "Ill-conditioned matrix (rcond=2.07793e-18): result may not be accurate.\n",
            "  warnings.warn(\n",
            "/Library/Frameworks/Python.framework/Versions/3.11/lib/python3.11/site-packages/sklearn/linear_model/_glm/_newton_solver.py:491: LinAlgWarning: The inner solver of NewtonCholeskySolver stumbled upon a singular or very ill-conditioned Hessian matrix at iteration #1. It will now resort to lbfgs instead.\n",
            "Further options are to use another solver or to avoid such situation in the first place. Possible remedies are removing collinear features of X or increasing the penalization strengths.\n",
            "The original Linear Algebra message was:\n",
            "Ill-conditioned matrix (rcond=9.63601e-19): result may not be accurate.\n",
            "  warnings.warn(\n",
            "/Library/Frameworks/Python.framework/Versions/3.11/lib/python3.11/site-packages/sklearn/linear_model/_glm/_newton_solver.py:491: LinAlgWarning: The inner solver of NewtonCholeskySolver stumbled upon a singular or very ill-conditioned Hessian matrix at iteration #1. It will now resort to lbfgs instead.\n",
            "Further options are to use another solver or to avoid such situation in the first place. Possible remedies are removing collinear features of X or increasing the penalization strengths.\n",
            "The original Linear Algebra message was:\n",
            "Ill-conditioned matrix (rcond=1.04578e-18): result may not be accurate.\n",
            "  warnings.warn(\n",
            "/Library/Frameworks/Python.framework/Versions/3.11/lib/python3.11/site-packages/sklearn/linear_model/_glm/_newton_solver.py:491: LinAlgWarning: The inner solver of NewtonCholeskySolver stumbled upon a singular or very ill-conditioned Hessian matrix at iteration #1. It will now resort to lbfgs instead.\n",
            "Further options are to use another solver or to avoid such situation in the first place. Possible remedies are removing collinear features of X or increasing the penalization strengths.\n",
            "The original Linear Algebra message was:\n",
            "Ill-conditioned matrix (rcond=1.08485e-18): result may not be accurate.\n",
            "  warnings.warn(\n",
            "/Library/Frameworks/Python.framework/Versions/3.11/lib/python3.11/site-packages/sklearn/linear_model/_glm/_newton_solver.py:491: LinAlgWarning: The inner solver of NewtonCholeskySolver stumbled upon a singular or very ill-conditioned Hessian matrix at iteration #1. It will now resort to lbfgs instead.\n",
            "Further options are to use another solver or to avoid such situation in the first place. Possible remedies are removing collinear features of X or increasing the penalization strengths.\n",
            "The original Linear Algebra message was:\n",
            "Ill-conditioned matrix (rcond=1.02349e-18): result may not be accurate.\n",
            "  warnings.warn(\n",
            "/Library/Frameworks/Python.framework/Versions/3.11/lib/python3.11/site-packages/sklearn/linear_model/_logistic.py:1173: FutureWarning: `penalty='none'`has been deprecated in 1.2 and will be removed in 1.4. To keep the past behaviour, set `penalty=None`.\n",
            "  warnings.warn(\n",
            "/Library/Frameworks/Python.framework/Versions/3.11/lib/python3.11/site-packages/sklearn/linear_model/_logistic.py:1173: FutureWarning: `penalty='none'`has been deprecated in 1.2 and will be removed in 1.4. To keep the past behaviour, set `penalty=None`.\n",
            "  warnings.warn(\n",
            "/Library/Frameworks/Python.framework/Versions/3.11/lib/python3.11/site-packages/sklearn/linear_model/_glm/_newton_solver.py:491: LinAlgWarning: The inner solver of NewtonCholeskySolver stumbled upon a singular or very ill-conditioned Hessian matrix at iteration #1. It will now resort to lbfgs instead.\n",
            "Further options are to use another solver or to avoid such situation in the first place. Possible remedies are removing collinear features of X or increasing the penalization strengths.\n",
            "The original Linear Algebra message was:\n",
            "Ill-conditioned matrix (rcond=9.63601e-19): result may not be accurate.\n",
            "  warnings.warn(\n",
            "/Library/Frameworks/Python.framework/Versions/3.11/lib/python3.11/site-packages/sklearn/linear_model/_glm/_newton_solver.py:491: LinAlgWarning: The inner solver of NewtonCholeskySolver stumbled upon a singular or very ill-conditioned Hessian matrix at iteration #1. It will now resort to lbfgs instead.\n",
            "Further options are to use another solver or to avoid such situation in the first place. Possible remedies are removing collinear features of X or increasing the penalization strengths.\n",
            "The original Linear Algebra message was:\n",
            "Ill-conditioned matrix (rcond=9.58395e-19): result may not be accurate.\n",
            "  warnings.warn(\n",
            "/Library/Frameworks/Python.framework/Versions/3.11/lib/python3.11/site-packages/sklearn/linear_model/_glm/_newton_solver.py:491: LinAlgWarning: The inner solver of NewtonCholeskySolver stumbled upon a singular or very ill-conditioned Hessian matrix at iteration #1. It will now resort to lbfgs instead.\n",
            "Further options are to use another solver or to avoid such situation in the first place. Possible remedies are removing collinear features of X or increasing the penalization strengths.\n",
            "The original Linear Algebra message was:\n",
            "Ill-conditioned matrix (rcond=9.04574e-19): result may not be accurate.\n",
            "  warnings.warn(\n",
            "/Library/Frameworks/Python.framework/Versions/3.11/lib/python3.11/site-packages/sklearn/linear_model/_glm/_newton_solver.py:491: LinAlgWarning: The inner solver of NewtonCholeskySolver stumbled upon a singular or very ill-conditioned Hessian matrix at iteration #1. It will now resort to lbfgs instead.\n",
            "Further options are to use another solver or to avoid such situation in the first place. Possible remedies are removing collinear features of X or increasing the penalization strengths.\n",
            "The original Linear Algebra message was:\n",
            "Ill-conditioned matrix (rcond=9.58395e-19): result may not be accurate.\n",
            "  warnings.warn(\n",
            "/Library/Frameworks/Python.framework/Versions/3.11/lib/python3.11/site-packages/sklearn/linear_model/_glm/_newton_solver.py:491: LinAlgWarning: The inner solver of NewtonCholeskySolver stumbled upon a singular or very ill-conditioned Hessian matrix at iteration #1. It will now resort to lbfgs instead.\n",
            "Further options are to use another solver or to avoid such situation in the first place. Possible remedies are removing collinear features of X or increasing the penalization strengths.\n",
            "The original Linear Algebra message was:\n",
            "Ill-conditioned matrix (rcond=9.04574e-19): result may not be accurate.\n",
            "  warnings.warn(\n",
            "/Library/Frameworks/Python.framework/Versions/3.11/lib/python3.11/site-packages/sklearn/linear_model/_logistic.py:1173: FutureWarning: `penalty='none'`has been deprecated in 1.2 and will be removed in 1.4. To keep the past behaviour, set `penalty=None`.\n",
            "  warnings.warn(\n",
            "/Library/Frameworks/Python.framework/Versions/3.11/lib/python3.11/site-packages/sklearn/linear_model/_glm/_newton_solver.py:491: LinAlgWarning: The inner solver of NewtonCholeskySolver stumbled upon a singular or very ill-conditioned Hessian matrix at iteration #1. It will now resort to lbfgs instead.\n",
            "Further options are to use another solver or to avoid such situation in the first place. Possible remedies are removing collinear features of X or increasing the penalization strengths.\n",
            "The original Linear Algebra message was:\n",
            "Ill-conditioned matrix (rcond=1.10705e-18): result may not be accurate.\n",
            "  warnings.warn(\n",
            "/Library/Frameworks/Python.framework/Versions/3.11/lib/python3.11/site-packages/sklearn/linear_model/_logistic.py:1173: FutureWarning: `penalty='none'`has been deprecated in 1.2 and will be removed in 1.4. To keep the past behaviour, set `penalty=None`.\n",
            "  warnings.warn(\n",
            "/Library/Frameworks/Python.framework/Versions/3.11/lib/python3.11/site-packages/sklearn/linear_model/_glm/_newton_solver.py:491: LinAlgWarning: The inner solver of NewtonCholeskySolver stumbled upon a singular or very ill-conditioned Hessian matrix at iteration #1. It will now resort to lbfgs instead.\n",
            "Further options are to use another solver or to avoid such situation in the first place. Possible remedies are removing collinear features of X or increasing the penalization strengths.\n",
            "The original Linear Algebra message was:\n",
            "Ill-conditioned matrix (rcond=8.06326e-19): result may not be accurate.\n",
            "  warnings.warn(\n",
            "/Library/Frameworks/Python.framework/Versions/3.11/lib/python3.11/site-packages/sklearn/linear_model/_logistic.py:1173: FutureWarning: `penalty='none'`has been deprecated in 1.2 and will be removed in 1.4. To keep the past behaviour, set `penalty=None`.\n",
            "  warnings.warn(\n",
            "/Library/Frameworks/Python.framework/Versions/3.11/lib/python3.11/site-packages/sklearn/linear_model/_glm/_newton_solver.py:491: LinAlgWarning: The inner solver of NewtonCholeskySolver stumbled upon a singular or very ill-conditioned Hessian matrix at iteration #1. It will now resort to lbfgs instead.\n",
            "Further options are to use another solver or to avoid such situation in the first place. Possible remedies are removing collinear features of X or increasing the penalization strengths.\n",
            "The original Linear Algebra message was:\n",
            "Ill-conditioned matrix (rcond=1.10705e-18): result may not be accurate.\n",
            "  warnings.warn(\n",
            "/Library/Frameworks/Python.framework/Versions/3.11/lib/python3.11/site-packages/sklearn/linear_model/_glm/_newton_solver.py:491: LinAlgWarning: The inner solver of NewtonCholeskySolver stumbled upon a singular or very ill-conditioned Hessian matrix at iteration #1. It will now resort to lbfgs instead.\n",
            "Further options are to use another solver or to avoid such situation in the first place. Possible remedies are removing collinear features of X or increasing the penalization strengths.\n",
            "The original Linear Algebra message was:\n",
            "Ill-conditioned matrix (rcond=1.0951e-18): result may not be accurate.\n",
            "  warnings.warn(\n",
            "/Library/Frameworks/Python.framework/Versions/3.11/lib/python3.11/site-packages/sklearn/linear_model/_glm/_newton_solver.py:491: LinAlgWarning: The inner solver of NewtonCholeskySolver stumbled upon a singular or very ill-conditioned Hessian matrix at iteration #1. It will now resort to lbfgs instead.\n",
            "Further options are to use another solver or to avoid such situation in the first place. Possible remedies are removing collinear features of X or increasing the penalization strengths.\n",
            "The original Linear Algebra message was:\n",
            "Ill-conditioned matrix (rcond=8.06326e-19): result may not be accurate.\n",
            "  warnings.warn(\n",
            "/Library/Frameworks/Python.framework/Versions/3.11/lib/python3.11/site-packages/sklearn/linear_model/_glm/_newton_solver.py:491: LinAlgWarning: The inner solver of NewtonCholeskySolver stumbled upon a singular or very ill-conditioned Hessian matrix at iteration #1. It will now resort to lbfgs instead.\n",
            "Further options are to use another solver or to avoid such situation in the first place. Possible remedies are removing collinear features of X or increasing the penalization strengths.\n",
            "The original Linear Algebra message was:\n",
            "Ill-conditioned matrix (rcond=9.58395e-19): result may not be accurate.\n",
            "  warnings.warn(\n",
            "/Library/Frameworks/Python.framework/Versions/3.11/lib/python3.11/site-packages/sklearn/linear_model/_glm/_newton_solver.py:491: LinAlgWarning: The inner solver of NewtonCholeskySolver stumbled upon a singular or very ill-conditioned Hessian matrix at iteration #1. It will now resort to lbfgs instead.\n",
            "Further options are to use another solver or to avoid such situation in the first place. Possible remedies are removing collinear features of X or increasing the penalization strengths.\n",
            "The original Linear Algebra message was:\n",
            "Ill-conditioned matrix (rcond=1.0951e-18): result may not be accurate.\n",
            "  warnings.warn(\n",
            "/Library/Frameworks/Python.framework/Versions/3.11/lib/python3.11/site-packages/sklearn/linear_model/_glm/_newton_solver.py:491: LinAlgWarning: The inner solver of NewtonCholeskySolver stumbled upon a singular or very ill-conditioned Hessian matrix at iteration #1. It will now resort to lbfgs instead.\n",
            "Further options are to use another solver or to avoid such situation in the first place. Possible remedies are removing collinear features of X or increasing the penalization strengths.\n",
            "The original Linear Algebra message was:\n",
            "Ill-conditioned matrix (rcond=9.04574e-19): result may not be accurate.\n",
            "  warnings.warn(\n",
            "/Library/Frameworks/Python.framework/Versions/3.11/lib/python3.11/site-packages/sklearn/linear_model/_glm/_newton_solver.py:491: LinAlgWarning: The inner solver of NewtonCholeskySolver stumbled upon a singular or very ill-conditioned Hessian matrix at iteration #1. It will now resort to lbfgs instead.\n",
            "Further options are to use another solver or to avoid such situation in the first place. Possible remedies are removing collinear features of X or increasing the penalization strengths.\n",
            "The original Linear Algebra message was:\n",
            "Ill-conditioned matrix (rcond=1.10705e-18): result may not be accurate.\n",
            "  warnings.warn(\n",
            "/Library/Frameworks/Python.framework/Versions/3.11/lib/python3.11/site-packages/sklearn/linear_model/_glm/_newton_solver.py:491: LinAlgWarning: The inner solver of NewtonCholeskySolver stumbled upon a singular or very ill-conditioned Hessian matrix at iteration #1. It will now resort to lbfgs instead.\n",
            "Further options are to use another solver or to avoid such situation in the first place. Possible remedies are removing collinear features of X or increasing the penalization strengths.\n",
            "The original Linear Algebra message was:\n",
            "Ill-conditioned matrix (rcond=8.06326e-19): result may not be accurate.\n",
            "  warnings.warn(\n",
            "/Library/Frameworks/Python.framework/Versions/3.11/lib/python3.11/site-packages/sklearn/linear_model/_glm/_newton_solver.py:491: LinAlgWarning: The inner solver of NewtonCholeskySolver stumbled upon a singular or very ill-conditioned Hessian matrix at iteration #1. It will now resort to lbfgs instead.\n",
            "Further options are to use another solver or to avoid such situation in the first place. Possible remedies are removing collinear features of X or increasing the penalization strengths.\n",
            "The original Linear Algebra message was:\n",
            "Ill-conditioned matrix (rcond=1.0951e-18): result may not be accurate.\n",
            "  warnings.warn(\n"
          ]
        },
        {
          "name": "stdout",
          "output_type": "stream",
          "text": [
            "Best Score: 0.7957064725834526\n",
            "Best Hyperparameters: {'max_iter': 10000, 'penalty': 'none', 'solver': 'newton-cholesky'}\n",
            "Elapsed Time: 737.6748259067535 seconds\n"
          ]
        }
      ],
      "source": [
        "#ncdata has no class 2 and 3, hence building on new log reg model \n",
        "\n",
        "start_time = time.time()\n",
        "\n",
        "X1 = ncdata.drop(columns=['category', 'category_encoded'])#features\n",
        "y1 = ncdata['category_encoded']#target variable\n",
        "\n",
        "grids_model = LogisticRegression()\n",
        "\n",
        "cv = RepeatedKFold(n_splits=10, n_repeats=3) #RepeatedKFold means repeating KFold with different random state each time\n",
        "\n",
        "grid_param = {\n",
        "    'penalty':['l2', 'none'],\n",
        "    'solver':['newton-cholesky'],\n",
        "    'max_iter':[10000,100000,100000]\n",
        "}\n",
        "\n",
        "\n",
        " # define search\n",
        "search = GridSearchCV(grids_model, grid_param, scoring='accuracy', n_jobs=-4, cv=cv)\n",
        "# execute search\n",
        "result = search.fit(X1, y1)\n",
        "\n",
        "print('Best Score: %s' % result.best_score_)\n",
        "print('Best Hyperparameters: %s' % result.best_params_)\n",
        "\n",
        "end_time = time.time()\n",
        "elapsed_time = end_time - start_time\n",
        "print(\"Elapsed Time:\", elapsed_time, \"seconds\")"
      ]
    },
    {
      "cell_type": "markdown",
      "metadata": {},
      "source": [
        "Established a logistic regression model. Using the crosss validation we are testing out the model's overall performance.The focus on enhancing model performance, hyperparameters such as penalty type, solver method, and iteration limit are systematically explored. The best configuration is printed in the output through repeated cross-validation, yields an accuracy score of 79.6%. The optimal hyperparameters include a maximum of 10,000 iterations, 'l2' penalty, and the 'newton-cholesky' solver. The model took 12.6 minutes to process."
      ]
    },
    {
      "cell_type": "code",
      "execution_count": null,
      "metadata": {},
      "outputs": [],
      "source": [
        "X1 = ncdata.drop(columns=['category', 'category_encoded'])#features\n",
        "y1 = ncdata['category_encoded']#target variable\n",
        "X_train_1, X_test_1, y_train_1, y_test_1 = train_test_split(X1, y1, test_size=0.25, random_state=42)\n",
        "\n",
        "\n",
        "grids_log_reg = LogisticRegression(max_iter=10000, penalty='l2', solver='newton-cg') #new log reg model with Grid serach results\n",
        "grids_log_reg.fit(X_train_1, y_train_1)\n",
        "y_pred_1= new_logr.predict(X_test_1)\n",
        "\n",
        "accuracy = accuracy_score(y_test_1, y_pred_1)\n",
        "print(\"Accuracy:\", accuracy)\n",
        "print(\"Classification Report:\")\n",
        "print(classification_report(y_test_1, y_pred_1))"
      ]
    },
    {
      "cell_type": "markdown",
      "metadata": {},
      "source": [
        "Overall, the model demonstrates a balanced performance.The model, is optimized using GridSearchCV hyperparameters, achieves a total of 79.6% accuracy. The classification report details precision, recall, and F1-score, revealing class-specific insights. The excels in predicting Theft with 66% precision and full recall, yielding an 80% F1-score. Break and enter  poses challenges, achieving only 0.01 recall and a limited F1-score of 0.01. Notably, class Vehicle collision exhibits strong performance, with 82% precision, 94% recall, and an impressive 88% F1-score. The overall accuracy is 80%, with a macro-averaged F1-score of 56%. The weighted average F1-score is 73%, indicating a reasonably balanced overall performance on the test set"
      ]
    }
  ],
  "metadata": {
    "colab": {
      "provenance": []
    },
    "kernelspec": {
      "display_name": "Python 3 (ipykernel)",
      "language": "python",
      "name": "python3"
    },
    "language_info": {
      "codemirror_mode": {
        "name": "ipython",
        "version": 3
      },
      "file_extension": ".py",
      "mimetype": "text/x-python",
      "name": "python",
      "nbconvert_exporter": "python",
      "pygments_lexer": "ipython3",
      "version": "3.11.0"
    }
  },
  "nbformat": 4,
  "nbformat_minor": 0
}
